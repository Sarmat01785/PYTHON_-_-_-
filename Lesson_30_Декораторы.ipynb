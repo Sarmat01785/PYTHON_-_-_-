{
 "cells": [
  {
   "cell_type": "markdown",
   "id": "3996aaa9-5615-44de-b01c-4819d31ba48a",
   "metadata": {},
   "source": [
    "### Декораторы в Python\n",
    "\n",
    "Декораторы — это функции, которые изменяют поведение других функций, не меняя их исходного кода. Они особенно полезны для логирования, проверки, кэширования и других задач."
   ]
  },
  {
   "cell_type": "markdown",
   "id": "f91c8112-6203-430e-855c-c60434dc1b74",
   "metadata": {},
   "source": [
    "#### Как работают декораторы?\n",
    "\n",
    "Декорация происходит путем вызова одной функции через другую. Основная идея заключается в том, что мы можем «оборачивать» одну функцию другой функцией, чтобы изменить её поведение."
   ]
  },
  {
   "cell_type": "markdown",
   "id": "e75dbdcb-1844-4883-aea6-b23cf7467650",
   "metadata": {},
   "source": [
    "#### Пример простого декоратора\n",
    "\n",
    "Создадим декоратор, который выводит информацию о вызове функции."
   ]
  },
  {
   "cell_type": "code",
   "execution_count": 4,
   "id": "f177f92e-4cd8-4357-ab79-529149100795",
   "metadata": {},
   "outputs": [],
   "source": [
    "def log_decorator(func):\n",
    "    \"\"\"\n",
    "    Декоратор, который выводит информацию о вызове функции.\n",
    "\n",
    "    :param func: Декорируемая функция\n",
    "    :return: Обёртка вокруг декорируемой функции\n",
    "    \"\"\"\n",
    "    def wrapper(*args, **kwargs):\n",
    "        \"\"\"\n",
    "        Внутренняя функция-обёртка, которая выполняет логирование и вызывает оригинальную функцию.\n",
    "\n",
    "        :param args: Позиционные аргументы оригинальной функции\n",
    "        :param kwargs: Именованные аргументы оригинальной функции\n",
    "        :return: Результат вызова оригинальной функции\n",
    "        \"\"\"\n",
    "        print(f\"Calling function {func.__name__}\")  # Логирование имени функции\n",
    "        return func(*args, **kwargs)  # Вызов оригинальной функции\n",
    "\n",
    "    return wrapper\n"
   ]
  },
  {
   "cell_type": "markdown",
   "id": "e8d4b742-aadf-44d6-b151-5f8d6661135a",
   "metadata": {},
   "source": [
    "#### Применение декоратора\n",
    "\n",
    "Применим созданный декоратор к функции, которая складывает два числа."
   ]
  },
  {
   "cell_type": "code",
   "execution_count": 7,
   "id": "f0d292f7-4d8a-4266-a295-cde1d90e69a8",
   "metadata": {},
   "outputs": [
    {
     "name": "stdout",
     "output_type": "stream",
     "text": [
      "Calling function add\n",
      "5\n"
     ]
    }
   ],
   "source": [
    "@log_decorator\n",
    "def add(a, b):\n",
    "    \"\"\"\n",
    "    Функция для сложения двух чисел.\n",
    "\n",
    "    :param a: Первое число\n",
    "    :param b: Второе число\n",
    "    :return: Сумма двух чисел\n",
    "    \"\"\"\n",
    "    return a + b\n",
    "\n",
    "# Вызов декорированной функции\n",
    "result = add(2, 3)\n",
    "print(result)  # Выведет: Calling function add 5"
   ]
  },
  {
   "cell_type": "markdown",
   "id": "b464665e-b4e8-4f44-9f89-cbde581996bc",
   "metadata": {},
   "source": [
    "В этом примере декоратор `log_decorator` добавляет логирование к функции `add`. Когда `add` вызывается, сначала выполняется код декоратора, который печатает имя функции, а затем вызывается сама функция `add`."
   ]
  },
  {
   "cell_type": "markdown",
   "id": "d81e88e4-18b7-43bc-94b6-fd25522efc6c",
   "metadata": {},
   "source": [
    "#### Пример с обработкой исключений в декораторе\n",
    "\n",
    "Теперь создадим декоратор, который обрабатывает возможные исключения в декорируемых функциях."
   ]
  },
  {
   "cell_type": "code",
   "execution_count": 11,
   "id": "7a713496-1805-4d7f-ab85-a860f6673263",
   "metadata": {},
   "outputs": [],
   "source": [
    "def exception_handling_decorator(func):\n",
    "    \"\"\"\n",
    "    Декоратор для обработки исключений в декорируемой функции.\n",
    "\n",
    "    :param func: Декорируемая функция\n",
    "    :return: Обёртка вокруг декорируемой функции\n",
    "    \"\"\"\n",
    "    def wrapper(*args, **kwargs):\n",
    "        \"\"\"\n",
    "        Внутренняя функция-обёртка, которая пытается вызвать оригинальную функцию и обрабатывает исключения.\n",
    "\n",
    "        :param args: Позиционные аргументы оригинальной функции\n",
    "        :param kwargs: Именованные аргументы оригинальной функции\n",
    "        :return: Результат вызова оригинальной функции или сообщение об ошибке\n",
    "        \"\"\"\n",
    "        try:\n",
    "            return func(*args, **kwargs)  # Попытка выполнить функцию\n",
    "        except Exception as e:\n",
    "            print(f\"An error occurred: {e}\")  # Вывод сообщения об ошибке\n",
    "\n",
    "    return wrapper"
   ]
  },
  {
   "cell_type": "markdown",
   "id": "819f604e-30e8-4ffa-b67e-fdd81eacd456",
   "metadata": {},
   "source": [
    "#### Применение декоратора с обработкой исключений\n",
    "\n",
    "Применим созданный декоратор к функции, которая может вызвать исключение."
   ]
  },
  {
   "cell_type": "code",
   "execution_count": 16,
   "id": "7193c010-e340-4705-8919-2617af8591c5",
   "metadata": {},
   "outputs": [
    {
     "name": "stdout",
     "output_type": "stream",
     "text": [
      "An error occurred: division by zero\n"
     ]
    }
   ],
   "source": [
    "@exception_handling_decorator\n",
    "def divide(a, b):\n",
    "    \"\"\"\n",
    "    Функция для деления двух чисел.\n",
    "\n",
    "    :param a: Делимое\n",
    "    :param b: Делитель\n",
    "    :return: Частное от деления\n",
    "    \"\"\"\n",
    "    return a / b\n",
    "\n",
    "# Вызов декорированной функции и обработка возможного исключения\n",
    "divide_result = divide(10, 0)"
   ]
  },
  {
   "cell_type": "markdown",
   "id": "93fa35b4-72e6-4911-b747-00340349610a",
   "metadata": {},
   "source": [
    "При делении на ноль возникнет исключение, которое будет перехвачено и выведено сообщение об ошибке."
   ]
  },
  {
   "cell_type": "markdown",
   "id": "22be7bd7-94f1-4630-a81c-025647a0fba9",
   "metadata": {},
   "source": [
    "### Заключение\n",
    "\n",
    "Декораторы являются мощным инструментом в арсенале `Python`-разработчика. Они позволяют изменять поведение функций без необходимости вносить изменения в сами функции. Это делает код более гибким и удобным для поддержки."
   ]
  }
 ],
 "metadata": {
  "kernelspec": {
   "display_name": "Python 3 (ipykernel)",
   "language": "python",
   "name": "python3"
  },
  "language_info": {
   "codemirror_mode": {
    "name": "ipython",
    "version": 3
   },
   "file_extension": ".py",
   "mimetype": "text/x-python",
   "name": "python",
   "nbconvert_exporter": "python",
   "pygments_lexer": "ipython3",
   "version": "3.11.5"
  }
 },
 "nbformat": 4,
 "nbformat_minor": 5
}
