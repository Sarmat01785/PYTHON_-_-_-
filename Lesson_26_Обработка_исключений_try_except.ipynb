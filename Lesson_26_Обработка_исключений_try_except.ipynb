{
 "cells": [
  {
   "cell_type": "markdown",
   "id": "df61ecf6-bfd5-4c40-8f50-becf894548cb",
   "metadata": {},
   "source": [
    "# Обработка исключений, try, except, finally и строки в Python\n",
    "\n",
    "## Создание строки"
   ]
  },
  {
   "cell_type": "code",
   "execution_count": 2,
   "id": "455eebe8-bdb3-43e2-bd99-68c7e86cceb1",
   "metadata": {},
   "outputs": [
    {
     "name": "stdout",
     "output_type": "stream",
     "text": [
      "<class 'str'>\n"
     ]
    }
   ],
   "source": [
    "# Создаем строку\n",
    "text = \"Привет, мир!\"\n",
    "print(type(text))  # Выводим <class 'str'>, подтверждая, что переменная text является строкой"
   ]
  },
  {
   "cell_type": "markdown",
   "id": "f7430eba-5ede-4c30-b39d-188ce8885d2e",
   "metadata": {},
   "source": [
    "## Доступ к символам строки"
   ]
  },
  {
   "cell_type": "code",
   "execution_count": 5,
   "id": "6e2fbca2-e22c-42e2-8b31-faf949c59065",
   "metadata": {},
   "outputs": [
    {
     "name": "stdout",
     "output_type": "stream",
     "text": [
      "Первый символ: 'П', последний символ: '!'\n"
     ]
    }
   ],
   "source": [
    "# Доступ к первому и последнему символу строки\n",
    "first_char = text[0]\n",
    "last_char = text[-1]\n",
    "print(f\"Первый символ: '{first_char}', последний символ: '{last_char}'\")"
   ]
  },
  {
   "cell_type": "markdown",
   "id": "22ab6031-ec11-4f6c-8686-e6c2563bd73e",
   "metadata": {},
   "source": [
    "## Срезы строк"
   ]
  },
  {
   "cell_type": "code",
   "execution_count": 8,
   "id": "18885839-6314-469b-be4c-c2eb721aff80",
   "metadata": {},
   "outputs": [
    {
     "name": "stdout",
     "output_type": "stream",
     "text": [
      "Срез с 2-го по 5-й символы: 'риве'\n",
      "Срез с начала до 7-го символа: 'Привет,'\n",
      "Срез с 8-го символа до конца: ' мир!'\n"
     ]
    }
   ],
   "source": [
    "# Срезаем часть строки\n",
    "slice_1_to_5 = text[1:5]\n",
    "slice_from_start_to_7 = text[:7]\n",
    "slice_from_8_to_end = text[7:]\n",
    "\n",
    "print(f\"Срез с 2-го по 5-й символы: '{slice_1_to_5}'\")\n",
    "print(f\"Срез с начала до 7-го символа: '{slice_from_start_to_7}'\")\n",
    "print(f\"Срез с 8-го символа до конца: '{slice_from_8_to_end}'\")"
   ]
  },
  {
   "cell_type": "markdown",
   "id": "bf9ec893-034f-49a3-955e-3fcad3cfa8fe",
   "metadata": {},
   "source": [
    "## Длина строки"
   ]
  },
  {
   "cell_type": "code",
   "execution_count": 11,
   "id": "f4ebc36d-02bc-4a01-a7d8-53695bc1ca9d",
   "metadata": {},
   "outputs": [
    {
     "name": "stdout",
     "output_type": "stream",
     "text": [
      "Длина строки: 12\n"
     ]
    }
   ],
   "source": [
    "# Определяем длину строки\n",
    "length_of_text = len(text)\n",
    "print(f\"Длина строки: {length_of_text}\")"
   ]
  },
  {
   "cell_type": "markdown",
   "id": "ecf105cf-fda7-46db-8f7d-3b62175b2ad8",
   "metadata": {},
   "source": [
    "## Методы строк"
   ]
  },
  {
   "cell_type": "code",
   "execution_count": 14,
   "id": "4f6468ce-aa2a-45b6-8df8-760e1038037b",
   "metadata": {},
   "outputs": [
    {
     "name": "stdout",
     "output_type": "stream",
     "text": [
      "Верхний регистр: 'ПРИВЕТ, МИР!'\n",
      "Нижний регистр: 'привет, мир!'\n",
      "Замена подстроки: 'Привет, Вселенная!'\n"
     ]
    }
   ],
   "source": [
    "# Преобразуем строку в верхний и нижний регистр\n",
    "uppercased_text = text.upper()\n",
    "lowercased_text = text.lower()\n",
    "\n",
    "# Заменяем подстроку в строке\n",
    "replaced_text = text.replace(\"мир\", \"Вселенная\")\n",
    "\n",
    "print(f\"Верхний регистр: '{uppercased_text}'\")\n",
    "print(f\"Нижний регистр: '{lowercased_text}'\")\n",
    "print(f\"Замена подстроки: '{replaced_text}'\")"
   ]
  },
  {
   "cell_type": "markdown",
   "id": "f5dd3a37-e27d-4904-a4cf-6c593302e40b",
   "metadata": {},
   "source": [
    "## Пример использования конструкций try, except и finally"
   ]
  },
  {
   "cell_type": "code",
   "execution_count": 17,
   "id": "a2589aea-b4f0-41e2-9aba-392ac452c664",
   "metadata": {},
   "outputs": [
    {
     "name": "stdout",
     "output_type": "stream",
     "text": [
      "Ошибка: деление на ноль\n",
      "Конец программы\n"
     ]
    }
   ],
   "source": [
    "try:\n",
    "    x = 10 / 0\n",
    "except ZeroDivisionError:\n",
    "    print(\"Ошибка: деление на ноль\")  # Обработка исключения деления на ноль\n",
    "finally:\n",
    "    print(\"Конец программы\")  # Блок finally выполнится в любом случае"
   ]
  },
  {
   "cell_type": "markdown",
   "id": "a26cdf37-6d3a-4bd5-b914-89f8c048d30f",
   "metadata": {},
   "source": [
    "## Обработка исключений при вводе данных от пользователя"
   ]
  },
  {
   "cell_type": "code",
   "execution_count": 20,
   "id": "101f729f-bc6f-4279-8d25-51724d98567e",
   "metadata": {},
   "outputs": [
    {
     "name": "stdout",
     "output_type": "stream",
     "text": [
      "Введите число:  s\n"
     ]
    },
    {
     "name": "stdout",
     "output_type": "stream",
     "text": [
      "Вы ввели не число! Попробуйте снова.\n",
      "Попытка ввода завершена.\n"
     ]
    },
    {
     "name": "stdout",
     "output_type": "stream",
     "text": [
      "Введите число:  1\n"
     ]
    },
    {
     "name": "stdout",
     "output_type": "stream",
     "text": [
      "100.0\n",
      "Попытка ввода завершена.\n"
     ]
    }
   ],
   "source": [
    "while True:\n",
    "    try:\n",
    "        enter = float(input('Введите число: '))\n",
    "        print(100 / enter)\n",
    "        break\n",
    "    except ValueError:\n",
    "        print('Вы ввели не число! Попробуйте снова.')  # Обработка исключения неверного ввода\n",
    "    except ZeroDivisionError:\n",
    "        print('Делить на ноль нельзя! Попробуйте снова.')  # Обработка попытки деления на ноль\n",
    "    finally:\n",
    "        print('Попытка ввода завершена.')  # Информирование о завершении попытки"
   ]
  },
  {
   "cell_type": "markdown",
   "id": "e10a52f7-7eaa-4834-975c-9d7c6926002a",
   "metadata": {},
   "source": [
    "## Пример использования блока else"
   ]
  },
  {
   "cell_type": "code",
   "execution_count": 23,
   "id": "b55585ba-32d2-467b-8ee9-571f5499b7b9",
   "metadata": {},
   "outputs": [
    {
     "name": "stdout",
     "output_type": "stream",
     "text": [
      "Введите число:  15\n"
     ]
    },
    {
     "name": "stdout",
     "output_type": "stream",
     "text": [
      "Результат деления: 6.666666666666667\n",
      "Вывод финали\n"
     ]
    }
   ],
   "source": [
    "try:\n",
    "    enter = float(input(\"Введите число: \"))\n",
    "    result = 100 / enter\n",
    "except ValueError:\n",
    "    print(\"Вы ввели не число!\")\n",
    "except ZeroDivisionError:\n",
    "    print(\"Делить на ноль нельзя!\")\n",
    "else:\n",
    "    print(f\"Результат деления: {result}\")  # Выводится, если исключений не возникло\n",
    "finally:\n",
    "    print('Вывод финали')  # Выполняется в любом случае, независимо от наличия исключений"
   ]
  },
  {
   "cell_type": "markdown",
   "id": "ed64781a-1787-4fab-8eac-027ec982f642",
   "metadata": {},
   "source": [
    "## Обработка исключений при работе с файлами"
   ]
  },
  {
   "cell_type": "code",
   "execution_count": 26,
   "id": "ab196d2f-fb3d-4fbd-bbda-c2e80110fa31",
   "metadata": {},
   "outputs": [
    {
     "name": "stdout",
     "output_type": "stream",
     "text": [
      "Файл text25.txt не найден.\n",
      "Файл text3.txt не найден.\n",
      "Содержимое прочитанных файлов: ['', '']\n",
      "Список ненайденных файлов: ['text25.txt', 'text3.txt']\n"
     ]
    }
   ],
   "source": [
    "url_list = [\"text.txt\", \"text2.txt\", \"text25.txt\", \"text3.txt\"]\n",
    "list_defect = []\n",
    "list_info = []\n",
    "\n",
    "for url in url_list:\n",
    "    try:\n",
    "        with open(url) as f:\n",
    "            content = f.read()\n",
    "            list_info.append(content)\n",
    "    except FileNotFoundError:\n",
    "        print(f\"Файл {url} не найден.\")\n",
    "        list_defect.append(url)\n",
    "\n",
    "print(f\"Содержимое прочитанных файлов: {list_info}\")\n",
    "print(f\"Список ненайденных файлов: {list_defect}\")"
   ]
  }
 ],
 "metadata": {
  "kernelspec": {
   "display_name": "Python 3 (ipykernel)",
   "language": "python",
   "name": "python3"
  },
  "language_info": {
   "codemirror_mode": {
    "name": "ipython",
    "version": 3
   },
   "file_extension": ".py",
   "mimetype": "text/x-python",
   "name": "python",
   "nbconvert_exporter": "python",
   "pygments_lexer": "ipython3",
   "version": "3.11.5"
  }
 },
 "nbformat": 4,
 "nbformat_minor": 5
}
