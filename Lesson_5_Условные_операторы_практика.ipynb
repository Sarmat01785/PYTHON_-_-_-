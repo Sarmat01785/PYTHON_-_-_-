{
 "cells": [
  {
   "cell_type": "markdown",
   "id": "659d2028",
   "metadata": {},
   "source": [
    "# Условные операторы и практика использования модулей в Python\n",
    "\n",
    "В этом разделе мы рассмотрим примеры использования условных операторов в сочетании с модулями Python для выполнения различных задач, таких как открытие веб-сайтов и работа с внешними программами."
   ]
  },
  {
   "cell_type": "code",
   "execution_count": 5,
   "id": "2ed1b1ec",
   "metadata": {},
   "outputs": [],
   "source": [
    "import webbrowser"
   ]
  },
  {
   "cell_type": "code",
   "execution_count": 11,
   "id": "ff66e361",
   "metadata": {},
   "outputs": [
    {
     "name": "stdout",
     "output_type": "stream",
     "text": [
      "Введите адрес сайта: youtube.com\n",
      "Адрес не содержал 'https://', и был дополнен до полной формы.\n"
     ]
    }
   ],
   "source": [
    "# Запрашиваем у пользователя ввод адреса сайта.\n",
    "website = input(\"Введите адрес сайта: \")\n",
    "\n",
    "# Проверяем, содержит ли введенный адрес префикс \"https://\".\n",
    "if \"https://\" in website:\n",
    "    # Если адрес уже содержит префикс \"https://\", открываем его в браузере.\n",
    "    webbrowser.open(website)\n",
    "    result = \"Адрес содержит 'https://'.\"\n",
    "elif \"www.\" in website:\n",
    "    # Если адрес содержит \"www.\", проверяем, начинается ли он с \"www.\" и добавляем \"https://\", если это необходимо.\n",
    "    website = f\"https://{website}\" if not website.startswith(\"https://\") else website\n",
    "    webbrowser.open(website)\n",
    "    result = \"Адрес содержит 'www.' и был дополнен до полной формы.\"\n",
    "else:\n",
    "    # Если адрес не содержит \"https://\" и не начинается с \"www.\", добавляем их.\n",
    "    website = f\"https://www.{website}\"\n",
    "    webbrowser.open(website)\n",
    "    result = \"Адрес не содержал 'https://', и был дополнен до полной формы.\"\n",
    "\n",
    "print(result)"
   ]
  },
  {
   "cell_type": "markdown",
   "id": "17923413",
   "metadata": {},
   "source": [
    "## Использование модуля `time`\n",
    "\n",
    "Модуль `time` может быть использован для приостановки выполнения программы на заданное количество секунд."
   ]
  },
  {
   "cell_type": "code",
   "execution_count": 12,
   "id": "51300bb8",
   "metadata": {},
   "outputs": [],
   "source": [
    "# Пример остановки программы на 5 секунд используя модуль time\n",
    "import time\n",
    "time.sleep(5)  # Останавливаем исполнение программы на 5 секунд."
   ]
  },
  {
   "cell_type": "markdown",
   "id": "803ffd58",
   "metadata": {},
   "source": [
    "## Использование модуля `os`\n",
    "\n",
    "Модуль `os` позволяет нам взаимодействовать с операционной системой, включая открытие внешних программ."
   ]
  },
  {
   "cell_type": "code",
   "execution_count": null,
   "id": "1cebf774",
   "metadata": {},
   "outputs": [],
   "source": [
    "# Пример открытия внешней программы используя модуль os\n",
    "import os\n",
    "# Замените на реальный путь к вашей программе\n",
    "program_path = \"C:/Program Files/путь_к_программе.exe\"\n",
    "os.startfile(program_path)  # Открывает программу"
   ]
  }
 ],
 "metadata": {
  "kernelspec": {
   "display_name": "Python 3 (ipykernel)",
   "language": "python",
   "name": "python3"
  },
  "language_info": {
   "codemirror_mode": {
    "name": "ipython",
    "version": 3
   },
   "file_extension": ".py",
   "mimetype": "text/x-python",
   "name": "python",
   "nbconvert_exporter": "python",
   "pygments_lexer": "ipython3",
   "version": "3.11.5"
  }
 },
 "nbformat": 4,
 "nbformat_minor": 5
}
