{
 "cells": [
  {
   "cell_type": "markdown",
   "metadata": {},
   "source": [
    "# Лекция 6. Погружение в Python. Модули\n",
    "\n",
    "#### Оглавление\n",
    "\n",
    "1. Введение\n",
    "\n",
    "2. Ещё раз про `import`\n",
    "\n",
    "- Переменная `sys.path`\n",
    "\n",
    "- Антипримеры импорта\n",
    "\n",
    "- Использование `from` и `as`\n",
    "\n",
    "- Плохой импорт `*`\n",
    "\n",
    "- Переменная `__all__`\n",
    "\n",
    "3. Виды модулей\n",
    "\n",
    "- Встроенные модули\n",
    "\n",
    "- Свои модули\n",
    "\n",
    "- Пишем свой модуль: `__name__ == '__main__'`\n",
    "\n",
    "- Разбор плохого импорта\n",
    "\n",
    "- Создание пакетов и их импорт\n",
    "\n",
    "- Разница между модулем и пакетом\n",
    "\n",
    "- Варианты импорта\n",
    "\n",
    "4. Некоторые модули \"из коробки\"\n",
    "\n",
    "- Модуль `sys`\n",
    "\n",
    "- Модуль `random`\n",
    "\n",
    "5. Советы по организации модулей в реальных проектах\n",
    "\n",
    "6. Дополнительные практические примеры"
   ]
  },
  {
   "cell_type": "markdown",
   "metadata": {},
   "source": [
    "# Введение\n",
    "\n",
    "В Python модули — это файлы, содержащие определения и операторы, которые могут быть повторно использованы в других частях программы. Модули позволяют структурировать код, что облегчает его поддержку и повторное использование."
   ]
  },
  {
   "cell_type": "markdown",
   "metadata": {},
   "source": [
    "### Ещё раз про `import`\n",
    "\n",
    "Модуль можно импортировать несколькими способами, в зависимости от ваших потребностей. Рассмотрим, как правильно использовать импорт.\n",
    "\n",
    "#### Переменная `sys.path`\n",
    "\n",
    "При импорте модулей Python ищет их в директориях, указанных в sys.path. Если модуль не найден в стандартных директориях, вы можете добавить собственные пути:"
   ]
  },
  {
   "cell_type": "code",
   "execution_count": 1,
   "metadata": {},
   "outputs": [
    {
     "name": "stdout",
     "output_type": "stream",
     "text": [
      "['c:\\\\Users\\\\Сармат\\\\Documents\\\\Обучение\\\\Погружение в Python. Часть 1 (лекции)\\\\Урок_6._Модули', 'C:\\\\Users\\\\Сармат', 'C:\\\\Users\\\\Sarmat\\\\anaconda3\\\\python311.zip', 'C:\\\\Users\\\\Sarmat\\\\anaconda3\\\\DLLs', 'C:\\\\Users\\\\Sarmat\\\\anaconda3\\\\Lib', 'C:\\\\Users\\\\Sarmat\\\\anaconda3', '', 'C:\\\\Users\\\\Сармат\\\\AppData\\\\Roaming\\\\Python\\\\Python311\\\\site-packages', 'C:\\\\Users\\\\Sarmat\\\\anaconda3\\\\Lib\\\\site-packages', 'C:\\\\Users\\\\Sarmat\\\\anaconda3\\\\Lib\\\\site-packages\\\\win32', 'C:\\\\Users\\\\Sarmat\\\\anaconda3\\\\Lib\\\\site-packages\\\\win32\\\\lib', 'C:\\\\Users\\\\Sarmat\\\\anaconda3\\\\Lib\\\\site-packages\\\\Pythonwin']\n"
     ]
    }
   ],
   "source": [
    "import sys\n",
    "\n",
    "# Вывод списка путей поиска модулей\n",
    "print(sys.path)\n",
    "\n",
    "# Добавление нового пути для поиска модулей\n",
    "sys.path.append('/path/to/my/modules')\n",
    "\n",
    "# Теперь Python будет искать модули и в этом каталоге"
   ]
  },
  {
   "cell_type": "markdown",
   "metadata": {},
   "source": [
    "**Совет**: Если у вас несколько путей для поиска модулей, добавляйте их в начале списка, чтобы приоритет был у ваших директорий:"
   ]
  },
  {
   "cell_type": "code",
   "execution_count": 3,
   "metadata": {},
   "outputs": [],
   "source": [
    "sys.path.insert(0, '/path/to/my/modules')"
   ]
  },
  {
   "cell_type": "markdown",
   "metadata": {},
   "source": [
    "#### Антипримеры импорта\n",
    "\n",
    "Неправильный импорт может привести к конфликтам и нежелательным последствиям. Рассмотрим ситуацию, когда случайный файл перезаписывает стандартный модуль:"
   ]
  },
  {
   "cell_type": "code",
   "execution_count": 5,
   "metadata": {},
   "outputs": [
    {
     "name": "stdout",
     "output_type": "stream",
     "text": [
      "1\n"
     ]
    }
   ],
   "source": [
    "# Файл random.py (злонамеренный или случайный код)\n",
    "def randint(*args):\n",
    "    return 'Неожиданный результат!'\n",
    "\n",
    "# Основной файл проекта\n",
    "import random\n",
    "\n",
    "print(random.randint(1, 6))  # Ожидается случайное число, но получаем ошибку\n"
   ]
  },
  {
   "cell_type": "markdown",
   "metadata": {},
   "source": [
    "**Совет:** Никогда не называйте свои файлы именами стандартных модулей Python (`random.py`, `os.py` и т.д.). Это может привести к путанице и ошибкам в работе программы."
   ]
  },
  {
   "cell_type": "markdown",
   "metadata": {},
   "source": [
    "#### Использование `from` и `as`\n",
    "\n",
    "Иногда вам нужно импортировать только часть модуля. В таком случае используйте `from ... import ...`:"
   ]
  },
  {
   "cell_type": "code",
   "execution_count": 6,
   "metadata": {},
   "outputs": [
    {
     "name": "stdout",
     "output_type": "stream",
     "text": [
      "4.0\n",
      "3.141592653589793\n"
     ]
    }
   ],
   "source": [
    "from math import sqrt, pi\n",
    "\n",
    "print(sqrt(16))  # 4.0\n",
    "print(pi)  # 3.141592653589793"
   ]
  },
  {
   "cell_type": "markdown",
   "metadata": {},
   "source": [
    "Если нужно сократить имя модуля или избежать конфликтов имен, используйте `as`:"
   ]
  },
  {
   "cell_type": "code",
   "execution_count": 7,
   "metadata": {},
   "outputs": [
    {
     "name": "stdout",
     "output_type": "stream",
     "text": [
      "[1 2 3]\n"
     ]
    }
   ],
   "source": [
    "import numpy as np\n",
    "\n",
    "array = np.array([1, 2, 3])\n",
    "print(array)"
   ]
  },
  {
   "cell_type": "markdown",
   "metadata": {},
   "source": [
    "**Совет:** Использование as особенно полезно в больших проектах, где импортируется много модулей. Придерживайтесь общепринятых сокращений (`np` для `numpy`, `pd` для `pandas`), чтобы код был понятен другим разработчикам"
   ]
  },
  {
   "cell_type": "markdown",
   "metadata": {},
   "source": [
    "#### Плохой импорт `*`\n",
    "\n",
    "Импорт всех объектов из модуля через `*` может привести к конфликтам и сделать код менее читаемым:"
   ]
  },
  {
   "cell_type": "code",
   "execution_count": 8,
   "metadata": {},
   "outputs": [
    {
     "name": "stdout",
     "output_type": "stream",
     "text": [
      "5.0\n"
     ]
    }
   ],
   "source": [
    "from math import *\n",
    "\n",
    "print(sqrt(25))  # Работает, но неясно, откуда взялась функция sqrt"
   ]
  },
  {
   "cell_type": "markdown",
   "metadata": {},
   "source": [
    "Лучше импортировать только то, что вам действительно нужно:"
   ]
  },
  {
   "cell_type": "code",
   "execution_count": 9,
   "metadata": {},
   "outputs": [],
   "source": [
    "from math import sqrt, pi"
   ]
  },
  {
   "cell_type": "markdown",
   "metadata": {},
   "source": [
    "**Совет:** Избегайте импорта через `*`, особенно в крупных проектах, где много модулей. Это сделает ваш код более понятным и избежит конфликтов имен."
   ]
  },
  {
   "cell_type": "markdown",
   "metadata": {},
   "source": [
    "#### Переменная `__all__`\n",
    "\n",
    "Чтобы управлять тем, что будет импортировано при использовании `import *`, определите список `__all__` в своем модуле:"
   ]
  },
  {
   "cell_type": "code",
   "execution_count": 10,
   "metadata": {},
   "outputs": [],
   "source": [
    "# Файл my_module.py\n",
    "__all__ = ['func1', 'func2']\n",
    "\n",
    "def func1():\n",
    "    pass\n",
    "\n",
    "def func2():\n",
    "    pass\n",
    "\n",
    "def private_func():\n",
    "    pass\n"
   ]
  },
  {
   "cell_type": "markdown",
   "metadata": {},
   "source": [
    "Теперь при импорте через `import *` будут доступны только `func1` и `func2`, а `private_func` останется скрытой."
   ]
  },
  {
   "cell_type": "markdown",
   "metadata": {},
   "source": [
    "## Виды модулей\n",
    "\n",
    "### Встроенные модули\n",
    "\n",
    "Python имеет множество встроенных модулей, которые можно использовать без установки дополнительных пакетов:"
   ]
  },
  {
   "cell_type": "code",
   "execution_count": 11,
   "metadata": {},
   "outputs": [],
   "source": [
    "import sys\n",
    "import os\n",
    "import random"
   ]
  },
  {
   "cell_type": "markdown",
   "metadata": {},
   "source": [
    "**Совет:** Ознакомьтесь с документацией Python, чтобы узнать о возможностях встроенных модулей. Это может сэкономить ваше время, так как многие задачи уже решены в стандартной библиотеке."
   ]
  },
  {
   "cell_type": "markdown",
   "metadata": {},
   "source": [
    "#### Создание своего модуля: `__name__ == '__main__'`\n",
    "\n",
    "Создание модулей с проверкой `__name__ == '__main__'` позволяет использовать их как самостоятельные программы или подключать к другим модулям:"
   ]
  },
  {
   "cell_type": "code",
   "execution_count": 12,
   "metadata": {},
   "outputs": [
    {
     "name": "stdout",
     "output_type": "stream",
     "text": [
      "Hello, world!\n"
     ]
    }
   ],
   "source": [
    "# Файл my_module.py\n",
    "def greet():\n",
    "    print(\"Hello, world!\")\n",
    "\n",
    "if __name__ == \"__main__\":\n",
    "    greet()  # Этот код выполнится только при прямом запуске модуля"
   ]
  },
  {
   "cell_type": "markdown",
   "metadata": {},
   "source": [
    "**Совет:** Используйте конструкцию `if __name__ == \"__main__\"`: для тестирования модулей перед их интеграцией в основной проект."
   ]
  },
  {
   "cell_type": "markdown",
   "metadata": {},
   "source": [
    "#### Создание пакетов и их импорт\n",
    "\n",
    "Пакеты позволяют структурировать код в виде директорий, содержащих несколько модулей:"
   ]
  },
  {
   "cell_type": "markdown",
   "metadata": {},
   "source": [
    "my_package/\n",
    "\n",
    "    __init__.py\n",
    "\n",
    "    module1.py\n",
    "\n",
    "    module2.py"
   ]
  },
  {
   "cell_type": "markdown",
   "metadata": {},
   "source": [
    "Чтобы импортировать модули из пакета, используйте следующий синтаксис:"
   ]
  },
  {
   "cell_type": "markdown",
   "metadata": {},
   "source": [
    "from my_package import module1\n",
    "\n",
    "module1.some_function()"
   ]
  },
  {
   "cell_type": "markdown",
   "metadata": {},
   "source": [
    "**Совет:** Организуйте модули в пакеты по функциональному назначению. Это поможет сделать проект более логичным и управляемым."
   ]
  },
  {
   "cell_type": "markdown",
   "metadata": {},
   "source": [
    "### Некоторые модули \"из коробки\"\n",
    "\n",
    "Модуль `sys`\n",
    "\n",
    "Модуль `sys` предоставляет доступ к переменным и функциям, связанным с интерпретатором Python и окружением:"
   ]
  },
  {
   "cell_type": "code",
   "execution_count": 14,
   "metadata": {},
   "outputs": [
    {
     "name": "stdout",
     "output_type": "stream",
     "text": [
      "['C:\\\\Users\\\\Sarmat\\\\anaconda3\\\\Lib\\\\site-packages\\\\ipykernel_launcher.py', '-f', 'C:\\\\Users\\\\Сармат\\\\AppData\\\\Roaming\\\\jupyter\\\\runtime\\\\kernel-6357f1eb-4833-42b1-8ff1-d2a709f60b78.json']\n"
     ]
    }
   ],
   "source": [
    "import sys\n",
    "\n",
    "print(sys.argv)  # Параметры командной строки"
   ]
  },
  {
   "cell_type": "markdown",
   "metadata": {},
   "source": [
    "Пример использования: Если вы пишете скрипт, который должен принимать параметры из командной строки, используйте `sys.argv`:"
   ]
  },
  {
   "cell_type": "code",
   "execution_count": 15,
   "metadata": {},
   "outputs": [
    {
     "name": "stdout",
     "output_type": "stream",
     "text": [
      "Первый аргумент: -f\n"
     ]
    }
   ],
   "source": [
    "import sys\n",
    "\n",
    "if len(sys.argv) > 1:\n",
    "    print(f'Первый аргумент: {sys.argv[1]}')\n",
    "else:\n",
    "    print('Аргументы не переданы')"
   ]
  },
  {
   "cell_type": "markdown",
   "metadata": {},
   "source": [
    "### Модуль `random`\n",
    "\n",
    "Модуль `random` используется для генерации случайных чисел и других случайных величин:"
   ]
  },
  {
   "cell_type": "code",
   "execution_count": 16,
   "metadata": {},
   "outputs": [
    {
     "name": "stdout",
     "output_type": "stream",
     "text": [
      "4\n"
     ]
    }
   ],
   "source": [
    "import random\n",
    "\n",
    "print(random.randint(1, 10))  # Случайное число от 1 до 10"
   ]
  },
  {
   "cell_type": "markdown",
   "metadata": {},
   "source": [
    "**Пример использования:** Создание простой игры \"угадай число\":"
   ]
  },
  {
   "cell_type": "code",
   "execution_count": 17,
   "metadata": {},
   "outputs": [
    {
     "name": "stdout",
     "output_type": "stream",
     "text": [
      "Не угадали! Правильный ответ: 37\n"
     ]
    }
   ],
   "source": [
    "import random\n",
    "\n",
    "number = random.randint(1, 100)\n",
    "guess = int(input('Угадайте число от 1 до 100: '))\n",
    "\n",
    "if guess == number:\n",
    "    print('Вы угадали!')\n",
    "else:\n",
    "    print(f'Не угадали! Правильный ответ: {number}')"
   ]
  },
  {
   "cell_type": "markdown",
   "metadata": {},
   "source": [
    "### Советы по организации модулей в реальных проектах\n",
    "\n",
    "1. Логическая структура: Разбивайте проект на модули и пакеты по логическому смыслу. Например, можно создать пакет `utils` для вспомогательных функций и core для основных компонентов приложения.\n",
    "\n",
    "2. **Избегайте дублирования:** Если один и тот же код используется в нескольких модулях, вынесите его в отдельный модуль и импортируйте туда, где это необходимо.\n",
    "\n",
    "3. **Следите за импортами:** Не злоупотребляйте импортом `*`. Это может привести к неожиданным конфликтам и усложнить понимание кода.\n",
    "\n",
    "4. **Документируйте:** Всегда добавляйте комментарии и `docstrings` к своим модулям. Это упростит понимание и поддержку кода."
   ]
  },
  {
   "cell_type": "markdown",
   "metadata": {},
   "source": [
    "## Дополнительные практические примеры\n",
    "\n",
    "**Работа с конфигурационными файлами**\n",
    "\n",
    "Иногда удобно вынести параметры и настройки в отдельный конфигурационный файл:"
   ]
  },
  {
   "cell_type": "code",
   "execution_count": 18,
   "metadata": {},
   "outputs": [],
   "source": [
    "# Файл config.py\n",
    "API_KEY = 'your_api_key'\n",
    "TIMEOUT = 30"
   ]
  },
  {
   "cell_type": "markdown",
   "metadata": {},
   "source": [
    "Затем импортируйте эти параметры в основной код:"
   ]
  },
  {
   "cell_type": "code",
   "execution_count": 19,
   "metadata": {},
   "outputs": [
    {
     "ename": "ModuleNotFoundError",
     "evalue": "No module named 'config'",
     "output_type": "error",
     "traceback": [
      "\u001b[1;31m---------------------------------------------------------------------------\u001b[0m",
      "\u001b[1;31mModuleNotFoundError\u001b[0m                       Traceback (most recent call last)",
      "Cell \u001b[1;32mIn[19], line 1\u001b[0m\n\u001b[1;32m----> 1\u001b[0m \u001b[38;5;28;01mfrom\u001b[39;00m \u001b[38;5;21;01mconfig\u001b[39;00m \u001b[38;5;28;01mimport\u001b[39;00m API_KEY, TIMEOUT\n\u001b[0;32m      3\u001b[0m \u001b[38;5;28;01mdef\u001b[39;00m \u001b[38;5;21mmake_request\u001b[39m():\n\u001b[0;32m      4\u001b[0m     \u001b[38;5;28mprint\u001b[39m(\u001b[38;5;124mf\u001b[39m\u001b[38;5;124m'\u001b[39m\u001b[38;5;124mMaking request with API_KEY: \u001b[39m\u001b[38;5;132;01m{\u001b[39;00mAPI_KEY\u001b[38;5;132;01m}\u001b[39;00m\u001b[38;5;124m and TIMEOUT: \u001b[39m\u001b[38;5;132;01m{\u001b[39;00mTIMEOUT\u001b[38;5;132;01m}\u001b[39;00m\u001b[38;5;124m'\u001b[39m)\n",
      "\u001b[1;31mModuleNotFoundError\u001b[0m: No module named 'config'"
     ]
    }
   ],
   "source": [
    "from config import API_KEY, TIMEOUT\n",
    "\n",
    "def make_request():\n",
    "    print(f'Making request with API_KEY: {API_KEY} and TIMEOUT: {TIMEOUT}')\n",
    "\n",
    "make_request()"
   ]
  },
  {
   "cell_type": "markdown",
   "metadata": {},
   "source": [
    "### Локальный импорт\n",
    "\n",
    "В больших проектах можно использовать локальный импорт внутри функций. Это ускоряет запуск программы, так как модули загружаются только тогда, когда они реально нужны:"
   ]
  },
  {
   "cell_type": "code",
   "execution_count": 20,
   "metadata": {},
   "outputs": [
    {
     "name": "stdout",
     "output_type": "stream",
     "text": [
      "[2 4 6]\n"
     ]
    }
   ],
   "source": [
    "def compute_heavy_task():\n",
    "    import numpy as np\n",
    "    # Выполнение сложных вычислений с использованием numpy\n",
    "    result = np.array([1, 2, 3]) * 2\n",
    "    return result\n",
    "\n",
    "print(compute_heavy_task())"
   ]
  },
  {
   "cell_type": "markdown",
   "metadata": {},
   "source": [
    "**Совет:** Используйте локальный импорт в тех случаях, когда модуль нужен только для одной конкретной задачи."
   ]
  },
  {
   "cell_type": "markdown",
   "metadata": {},
   "source": [
    "### Заключение\n",
    "\n",
    "В этой лекции мы детально разобрали работу с модулями в Python, рассмотрели различные варианты импорта, изучили организацию проекта с модулями и пакетами. Также мы добавили советы и примеры, которые помогут вам применять эти знания на практике. Помните, что правильная организация кода в модулях и пакетах облегчает его поддержку и развитие, а также способствует лучшему пониманию проекта другими разработчиками."
   ]
  }
 ],
 "metadata": {
  "kernelspec": {
   "display_name": "Python 3 (ipykernel)",
   "language": "python",
   "name": "python3"
  },
  "language_info": {
   "codemirror_mode": {
    "name": "ipython",
    "version": 3
   },
   "file_extension": ".py",
   "mimetype": "text/x-python",
   "name": "python",
   "nbconvert_exporter": "python",
   "pygments_lexer": "ipython3",
   "version": "3.11.5"
  }
 },
 "nbformat": 4,
 "nbformat_minor": 2
}
