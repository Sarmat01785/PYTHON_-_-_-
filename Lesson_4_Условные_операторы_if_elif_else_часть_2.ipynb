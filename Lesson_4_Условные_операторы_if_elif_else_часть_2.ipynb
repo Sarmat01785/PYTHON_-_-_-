{
 "cells": [
  {
   "cell_type": "markdown",
   "id": "fb957b47",
   "metadata": {},
   "source": [
    "### Условные операторы в Python if, elif, else часть 2"
   ]
  },
  {
   "cell_type": "markdown",
   "id": "36f4b6f1",
   "metadata": {},
   "source": [
    "### Проверка, не равно ли значение нулю и деление на число"
   ]
  },
  {
   "cell_type": "code",
   "execution_count": 1,
   "id": "f6374deb",
   "metadata": {},
   "outputs": [
    {
     "name": "stdout",
     "output_type": "stream",
     "text": [
      "x был равен нулю\n",
      "100.0\n"
     ]
    }
   ],
   "source": [
    "x = 0\n",
    "if x == 0:\n",
    "    print(\"x был равен нулю\")\n",
    "    x = 1  # Задаем новое значение, чтобы избежать деления на ноль\n",
    "print(100 / x)"
   ]
  },
  {
   "cell_type": "markdown",
   "id": "0b798e44",
   "metadata": {},
   "source": [
    "### Проверка, является ли x числом (int или float)"
   ]
  },
  {
   "cell_type": "code",
   "execution_count": 2,
   "id": "02c6cfe8",
   "metadata": {},
   "outputs": [
    {
     "name": "stdout",
     "output_type": "stream",
     "text": [
      "20.0\n"
     ]
    }
   ],
   "source": [
    "x = 5\n",
    "if not isinstance(x, (int, float)) or x is None:  # Добавляем проверку на None\n",
    "    print(\"В x не допустимый тип данных или x равно None\")\n",
    "    x = 1  # Задаем значение по умолчанию\n",
    "print(100 / x)"
   ]
  },
  {
   "cell_type": "markdown",
   "id": "9a04784b",
   "metadata": {},
   "source": [
    "### Обработка списка как неверного типа данных"
   ]
  },
  {
   "cell_type": "code",
   "execution_count": 3,
   "id": "8c1c1dc2",
   "metadata": {},
   "outputs": [
    {
     "name": "stdout",
     "output_type": "stream",
     "text": [
      "В x не допустимый тип данных или x равно None\n",
      "100.0\n"
     ]
    }
   ],
   "source": [
    "x = [1, 2]\n",
    "if isinstance(x, (int, float)) or x is None:  # Список не является допустимым значением для деления\n",
    "    print(\"x допустимое значение\")\n",
    "else:\n",
    "    print(\"В x не допустимый тип данных или x равно None\")\n",
    "    x = 1  # Задаем значение по умолчанию\n",
    "print(100 / x)"
   ]
  }
 ],
 "metadata": {
  "kernelspec": {
   "display_name": "Python 3 (ipykernel)",
   "language": "python",
   "name": "python3"
  }
 },
 "nbformat": 4,
 "nbformat_minor": 5
}
