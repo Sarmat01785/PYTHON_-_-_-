{
 "cells": [
  {
   "cell_type": "markdown",
   "id": "ea70a4ad",
   "metadata": {},
   "source": [
    "### Методы работы со списками в Python\n",
    "\n",
    "Списки в Python являются одним из наибоее гибких встроенных типов данных. Они позволяют хранить последовательность элементов, которые могут быть различных типов. Далее мы рассмотрим основные методы, предоставляемые списками для управления этими элементами."
   ]
  },
  {
   "cell_type": "markdown",
   "id": "b25b774b",
   "metadata": {},
   "source": [
    "#### Создание списка чисел и вывод его длины"
   ]
  },
  {
   "cell_type": "code",
   "execution_count": 1,
   "id": "1b8da0b7",
   "metadata": {},
   "outputs": [
    {
     "name": "stdout",
     "output_type": "stream",
     "text": [
      "5\n"
     ]
    }
   ],
   "source": [
    "numbers = [1, 2, 3, 4, 5]\n",
    "print(len(numbers))  # Выводит 5, количество элементов в списке"
   ]
  },
  {
   "cell_type": "markdown",
   "id": "d01e8223",
   "metadata": {},
   "source": [
    "#### Создаем список фруктов и ищем индекс и количество определенного элемента"
   ]
  },
  {
   "cell_type": "code",
   "execution_count": 2,
   "id": "e98fa199",
   "metadata": {},
   "outputs": [
    {
     "name": "stdout",
     "output_type": "stream",
     "text": [
      "2\n",
      "1\n"
     ]
    }
   ],
   "source": [
    "fruits = [\"apple\", \"banana\", \"orange\"]\n",
    "print(fruits.index(\"orange\"))  # Выводит индекс элемента \"orange\" в списке fruits\n",
    "print(fruits.count(\"apple\"))  # Выводит количество элементов \"apple\" в списке fruits"
   ]
  },
  {
   "cell_type": "markdown",
   "id": "508297c5",
   "metadata": {},
   "source": [
    "#### Сортировка списка чисел"
   ]
  },
  {
   "cell_type": "code",
   "execution_count": 3,
   "id": "08617477",
   "metadata": {
    "scrolled": true
   },
   "outputs": [
    {
     "name": "stdout",
     "output_type": "stream",
     "text": [
      "[1, 2, 3, 4, 5]\n"
     ]
    }
   ],
   "source": [
    "numbers.sort()  # Сортирует список numbers по возрастанию\n",
    "print(numbers)  # Выводит отсортированный список numbers"
   ]
  },
  {
   "cell_type": "markdown",
   "id": "1fafeace",
   "metadata": {},
   "source": [
    "#### Меняем порядок элементов в списке фруктов на обратный"
   ]
  },
  {
   "cell_type": "code",
   "execution_count": 4,
   "id": "e474d423",
   "metadata": {},
   "outputs": [
    {
     "name": "stdout",
     "output_type": "stream",
     "text": [
      "['orange', 'banana', 'apple']\n"
     ]
    }
   ],
   "source": [
    "fruits.reverse()\n",
    "print(fruits)  # Выводит список fruits с элементами в обратном порядке"
   ]
  },
  {
   "cell_type": "markdown",
   "id": "425e0ef1",
   "metadata": {},
   "source": [
    "#### Удаляем элемент \"banana\" из списка фруктов"
   ]
  },
  {
   "cell_type": "code",
   "execution_count": 5,
   "id": "cecacc51",
   "metadata": {},
   "outputs": [
    {
     "name": "stdout",
     "output_type": "stream",
     "text": [
      "['orange', 'apple']\n"
     ]
    }
   ],
   "source": [
    "fruits.remove(\"banana\")\n",
    "print(fruits)  # Выводит список fruits без элемента \"banana\""
   ]
  },
  {
   "cell_type": "markdown",
   "id": "c4a461bd",
   "metadata": {},
   "source": [
    "### Удаление элементов в цикле\n",
    "\n",
    "Осторожно удаляем элементы из списка во время итерации, чтобы избежать пропуска элементов или ошибок во время выполнения.\n"
   ]
  },
  {
   "cell_type": "code",
   "execution_count": 6,
   "id": "fc924358",
   "metadata": {},
   "outputs": [
    {
     "name": "stdout",
     "output_type": "stream",
     "text": [
      "Нечетные числа: [1, 3, 5, 7, 9, 11, 13, 15, 17, 19]\n",
      "Четные числа: [2, 4, 6, 8, 10, 12, 14, 16, 18, 20]\n"
     ]
    }
   ],
   "source": [
    "# Создаем список чисел и копируем его для безопасного удаления элементов в цикле\n",
    "numbers = list(range(1, 21))\n",
    "even_numbers = []\n",
    "odd_numbers = numbers.copy()  # Делаем копию, чтобы избежать изменения списка во время итерации\n",
    "\n",
    "for number in numbers:\n",
    "    if number % 2 == 0:\n",
    "        even_numbers.append(number)\n",
    "        odd_numbers.remove(number)\n",
    "\n",
    "print(\"Нечетные числа:\", odd_numbers)\n",
    "print(\"Четные числа:\", even_numbers)"
   ]
  },
  {
   "cell_type": "markdown",
   "id": "486dc674",
   "metadata": {},
   "source": [
    "## Работа с срезами списка\n",
    "\n",
    "Срезы позволяют нам получить подмножество элементов списка. Это мощный инструмент для работы с данными."
   ]
  },
  {
   "cell_type": "code",
   "execution_count": 7,
   "id": "ea579b4c",
   "metadata": {},
   "outputs": [
    {
     "name": "stdout",
     "output_type": "stream",
     "text": [
      "Каждый пятый элемент: [1, 6, 11, 16]\n",
      "Элементы списка после пятого: [6, 7, 8, 9, 10, 11, 12, 13, 14, 15, 16, 17, 18, 19, 20]\n"
     ]
    }
   ],
   "source": [
    "# Использование срезов для получения определенных элементов списка\n",
    "slice_example = list(range(1, 21))\n",
    "every_fifth = slice_example[::5]  # Получаем каждый пятый элемент\n",
    "print(\"Каждый пятый элемент:\", every_fifth)\n",
    "\n",
    "# Получение всех элементов списка после пятого\n",
    "after_fifth = slice_example[5:]\n",
    "print(\"Элементы списка после пятого:\", after_fifth)"
   ]
  }
 ],
 "metadata": {
  "kernelspec": {
   "display_name": "Python 3 (ipykernel)",
   "language": "python",
   "name": "python3"
  }
 },
 "nbformat": 4,
 "nbformat_minor": 5
}
