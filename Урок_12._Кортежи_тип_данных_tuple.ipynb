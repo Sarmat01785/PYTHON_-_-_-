{
 "cells": [
  {
   "cell_type": "markdown",
   "id": "caffa72b",
   "metadata": {},
   "source": [
    "### Кортежи в Python (tuples)\n",
    "\n",
    "Кортежи являются одним из встроенных типов данных в Python, используемых для хранения неизменяемых упорядоченных коллекций элементов. Они похожи на списки, но как только кортеж создан, его нельзя изменить (они \"immutable\")."
   ]
  },
  {
   "cell_type": "markdown",
   "id": "4312184a",
   "metadata": {},
   "source": [
    "### Создание кортежей"
   ]
  },
  {
   "cell_type": "code",
   "execution_count": 2,
   "id": "79bfb8b2",
   "metadata": {},
   "outputs": [],
   "source": [
    "coordinates = (10, 20)  # Кортеж из двух элементов\n",
    "fruits = \"apple\", \"banana\", \"orange\"  # Кортеж, созданный без скобок\n",
    "single_value_tuple = (42,)  # Кортеж из одного элемента с запятой на конце"
   ]
  },
  {
   "cell_type": "code",
   "execution_count": 3,
   "id": "9e8a1a8a",
   "metadata": {},
   "outputs": [
    {
     "name": "stdout",
     "output_type": "stream",
     "text": [
      "(10, 20)\n"
     ]
    }
   ],
   "source": [
    "print(coordinates)"
   ]
  },
  {
   "cell_type": "code",
   "execution_count": 4,
   "id": "c7507870",
   "metadata": {},
   "outputs": [
    {
     "name": "stdout",
     "output_type": "stream",
     "text": [
      "('apple', 'banana', 'orange')\n"
     ]
    }
   ],
   "source": [
    "print(fruits)"
   ]
  },
  {
   "cell_type": "code",
   "execution_count": 5,
   "id": "a1fd0c00",
   "metadata": {},
   "outputs": [
    {
     "name": "stdout",
     "output_type": "stream",
     "text": [
      "(42,)\n"
     ]
    }
   ],
   "source": [
    "print(single_value_tuple)"
   ]
  },
  {
   "cell_type": "markdown",
   "id": "12e13246",
   "metadata": {},
   "source": [
    "### Доступ к элементам кортежа по индексу"
   ]
  },
  {
   "cell_type": "code",
   "execution_count": 6,
   "id": "4b6f3131",
   "metadata": {},
   "outputs": [
    {
     "name": "stdout",
     "output_type": "stream",
     "text": [
      "10\n",
      "banana\n"
     ]
    }
   ],
   "source": [
    "print(coordinates[0])  # Выводит 10, первый элемент кортежа coordinates\n",
    "print(fruits[1])  # Выводит banana, второй элемент кортежа fruits"
   ]
  },
  {
   "cell_type": "markdown",
   "id": "74a28dc5",
   "metadata": {},
   "source": [
    "### Конкатенация кортежей для создания нового кортежа"
   ]
  },
  {
   "cell_type": "code",
   "execution_count": 7,
   "id": "c5d6c15d",
   "metadata": {},
   "outputs": [
    {
     "name": "stdout",
     "output_type": "stream",
     "text": [
      "(10, 20, 30, 40)\n"
     ]
    }
   ],
   "source": [
    "extended_coordinates = coordinates + (30, 40)  # Добавляет элементы к кортежу coordinates\n",
    "print(extended_coordinates)  # Выводит новый расширенный кортеж"
   ]
  },
  {
   "cell_type": "markdown",
   "id": "ea91baaf",
   "metadata": {},
   "source": [
    "### Распаковка элементов кортежа в переменные"
   ]
  },
  {
   "cell_type": "code",
   "execution_count": 9,
   "id": "d338b426",
   "metadata": {},
   "outputs": [
    {
     "name": "stdout",
     "output_type": "stream",
     "text": [
      "10\n",
      "20\n"
     ]
    }
   ],
   "source": [
    "x, y = coordinates\n",
    "print(x)  # Выводит 10\n",
    "print(y)  # Выводит 20"
   ]
  },
  {
   "cell_type": "markdown",
   "id": "ecc0e765",
   "metadata": {},
   "source": [
    "## Методы кортежей\n",
    "\n",
    "Хотя кортежи являются неизменяемыми, существует несколько полезных методов для работы с ними."
   ]
  },
  {
   "cell_type": "code",
   "execution_count": 10,
   "id": "0f68dca7",
   "metadata": {},
   "outputs": [
    {
     "name": "stdout",
     "output_type": "stream",
     "text": [
      "3\n",
      "0\n"
     ]
    }
   ],
   "source": [
    "# Работа с методами кортежей\n",
    "test_tuple = (9, 8, 7, 9, 6, 5, 9, 4, 3)\n",
    "print(test_tuple.count(9))  # Выводит количество вхождений числа 9\n",
    "print(test_tuple.index(9))  # Выводит индекс первого вхождения числа 9"
   ]
  },
  {
   "cell_type": "markdown",
   "id": "00ef01db",
   "metadata": {},
   "source": [
    "## Неизменяемость кортежей\n",
    "\n",
    "Кортежи неизменяемы, поэтому попытка изменить их приведет к ошибке."
   ]
  },
  {
   "cell_type": "code",
   "execution_count": 11,
   "id": "4b7b3550",
   "metadata": {},
   "outputs": [
    {
     "name": "stdout",
     "output_type": "stream",
     "text": [
      "(1, 2, 3, 4, 5)\n",
      "'tuple' object does not support item assignment\n"
     ]
    }
   ],
   "source": [
    "# Демонстрация неизменяемости кортежей\n",
    "numbers_tuple = (1, 2, 3)\n",
    "numbers_tuple += (4, 5)  # Добавление элементов к кортежу путем создания нового кортежа\n",
    "print(numbers_tuple)  # Выводит (1, 2, 3, 4, 5)\n",
    "\n",
    "# Попытка изменить элемент кортежа вызовет ошибку\n",
    "try:\n",
    "    numbers_tuple[0] = 10\n",
    "except TypeError as e:\n",
    "    print(e)  # Выводит сообщение об ошибке"
   ]
  }
 ],
 "metadata": {
  "kernelspec": {
   "display_name": "Python 3 (ipykernel)",
   "language": "python",
   "name": "python3"
  },
  "language_info": {
   "codemirror_mode": {
    "name": "ipython",
    "version": 3
   },
   "file_extension": ".py",
   "mimetype": "text/x-python",
   "name": "python",
   "nbconvert_exporter": "python",
   "pygments_lexer": "ipython3",
   "version": "3.11.5"
  }
 },
 "nbformat": 4,
 "nbformat_minor": 5
}
