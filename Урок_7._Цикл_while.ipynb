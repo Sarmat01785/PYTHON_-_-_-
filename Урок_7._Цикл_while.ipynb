{
 "cells": [
  {
   "cell_type": "markdown",
   "id": "9074ad54",
   "metadata": {},
   "source": [
    "# Цикл while для открытия веб-сайтов\n",
    "\n",
    "Программа запрашивает у пользователя ввод адреса сайта и открывает его в браузере. Чтобы завершить программу, пользователь должен ввести \"Завершить\"."
   ]
  },
  {
   "cell_type": "code",
   "execution_count": 1,
   "id": "1b4a8e7c",
   "metadata": {},
   "outputs": [],
   "source": [
    "# Импорт модуля webbrowser для открытия веб-сайтов\n",
    "import webbrowser"
   ]
  },
  {
   "cell_type": "markdown",
   "id": "6f15718d",
   "metadata": {},
   "source": [
    "- Вводите адреса веб-сайтов, и программа будет открывать их для вас. Для выхода из программы введите 'Завершить'."
   ]
  },
  {
   "cell_type": "code",
   "execution_count": 2,
   "id": "074d1d95",
   "metadata": {},
   "outputs": [
    {
     "name": "stdout",
     "output_type": "stream",
     "text": [
      "Введите 'Завершить' для выхода из программы.\n",
      "Введите адрес сайта: https://www.youtube.com/\n",
      "Введите адрес сайта: Завершить\n",
      "Программа завершена.\n"
     ]
    }
   ],
   "source": [
    "# Приглашение к вводу и основной цикл программы\n",
    "print(\"Введите 'Завершить' для выхода из программы.\")\n",
    "while True:\n",
    "    website = input(\"Введите адрес сайта: \").strip()  # Удаляем лишние пробелы\n",
    "    if website.lower() == \"завершить\" or website == \"\":\n",
    "        print(\"Программа завершена.\")\n",
    "        break\n",
    "    if not website.startswith((\"http://\", \"https://\")):\n",
    "        # Добавляем префикс https:// для корректности URL\n",
    "        website = f\"https://{website}\"\n",
    "    webbrowser.open(website)  # Открываем сайт в новой вкладке браузера"
   ]
  }
 ],
 "metadata": {
  "kernelspec": {
   "display_name": "Python 3 (ipykernel)",
   "language": "python",
   "name": "python3"
  },
  "language_info": {
   "codemirror_mode": {
    "name": "ipython",
    "version": 3
   },
   "file_extension": ".py",
   "mimetype": "text/x-python",
   "name": "python",
   "nbconvert_exporter": "python",
   "pygments_lexer": "ipython3",
   "version": "3.11.5"
  }
 },
 "nbformat": 4,
 "nbformat_minor": 5
}
