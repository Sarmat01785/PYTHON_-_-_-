{
 "cells": [
  {
   "cell_type": "markdown",
   "id": "802cab9f",
   "metadata": {},
   "source": [
    "### Пример 1: Печать чисел от 1 до 5\n",
    "#### Этот цикл будет печатать числа от 1 до 5 включительно, каждое число на новой строке."
   ]
  },
  {
   "cell_type": "code",
   "execution_count": 1,
   "id": "809d4fdd",
   "metadata": {},
   "outputs": [
    {
     "name": "stdout",
     "output_type": "stream",
     "text": [
      "1\n",
      "2\n",
      "3\n",
      "4\n",
      "5\n"
     ]
    }
   ],
   "source": [
    "i = 1\n",
    "while i <= 5:\n",
    "    print(i)\n",
    "    i += 1"
   ]
  },
  {
   "cell_type": "markdown",
   "id": "8be7a672",
   "metadata": {},
   "source": [
    "### Пример 2: Подсчет суммы чисел от 1 до 10\n",
    "#### Здесь мы используем встроенную функцию `sum()` для подсчета суммы чисел от 1 до 10."
   ]
  },
  {
   "cell_type": "code",
   "execution_count": 2,
   "id": "928605fd",
   "metadata": {},
   "outputs": [
    {
     "name": "stdout",
     "output_type": "stream",
     "text": [
      "Сумма чисел от 1 до 10: 55\n"
     ]
    }
   ],
   "source": [
    "total = sum(range(1, 11))  # Используем функцию sum() для подсчета суммы\n",
    "print(\"Сумма чисел от 1 до 10:\", total)"
   ]
  },
  {
   "cell_type": "markdown",
   "id": "66e95b4c",
   "metadata": {},
   "source": [
    "### Использование else с while\n",
    "- Цикл while может иметь необязательный блок else. Блок else выполняется, когда условие цикла становится ложным.\n",
    "- В этом случае, блок else сообщит нам, когда переменная `x` достигнет значения 5."
   ]
  },
  {
   "cell_type": "code",
   "execution_count": 3,
   "id": "d9798e90",
   "metadata": {},
   "outputs": [
    {
     "name": "stdout",
     "output_type": "stream",
     "text": [
      "Значение x достигло 5\n"
     ]
    }
   ],
   "source": [
    "x = 0\n",
    "while x < 5:\n",
    "    x += 1\n",
    "else:\n",
    "    print(\"Значение x достигло\", x)"
   ]
  },
  {
   "cell_type": "markdown",
   "id": "fb7500bc",
   "metadata": {},
   "source": [
    "### Вычисление факториала числа\n",
    "- Запрашиваем у пользователя число и вычисляем его факториал."
   ]
  },
  {
   "cell_type": "code",
   "execution_count": 15,
   "id": "6f22d747",
   "metadata": {},
   "outputs": [
    {
     "name": "stdout",
     "output_type": "stream",
     "text": [
      "Введите число для вычисления факториала: 5\n",
      "Факториал числа 5 равен 120\n"
     ]
    }
   ],
   "source": [
    "# Закомментирование кода делается путем добавления '#' в начале строки.\n",
    "\n",
    "def factorial(num):\n",
    "    fact = 1  # Инициализация переменной fact, которая будет хранить результат вычисления факториала\n",
    "    while num > 0:  # Начало цикла while, который будет выполняться, пока значение num больше нуля\n",
    "        fact   *= num  # Умножение значения fact на текущее значение num\n",
    "        num -= 1  # Уменьшение значения num на 1\n",
    "    return fact  # После завершения цикла while функция возвращает значение переменной fact, которое является результатом вычисления факториала для введенного числа\n",
    "\n",
    "# Пример использования функции\n",
    "num = int(input(\"Введите число для вычисления факториала: \"))  # Запрос у пользователя ввода числа, которое нужно использовать для вычисления факториала\n",
    "print(\"Факториал числа\", num, \"равен\", factorial(num))  # Вывод результата работы функции factorial\n"
   ]
  },
  {
   "cell_type": "markdown",
   "id": "2e9bd370",
   "metadata": {},
   "source": [
    "### Бесконечный цикл с вводом данных и выходом по условию\n",
    "- Этот цикл будет продолжаться бесконечно, пока пользователь не введет 'exit'."
   ]
  },
  {
   "cell_type": "code",
   "execution_count": 9,
   "id": "20bd08e6",
   "metadata": {},
   "outputs": [
    {
     "name": "stdout",
     "output_type": "stream",
     "text": [
      "Введите 'exit' для выхода: hgf\n",
      "Введите 'exit' для выхода: exit\n"
     ]
    }
   ],
   "source": [
    "while True:\n",
    "    entry = input(\"Введите 'exit' для выхода: \")\n",
    "    if entry == \"exit\":\n",
    "        break  # Выход из цикла"
   ]
  },
  {
   "cell_type": "markdown",
   "id": "213677fd",
   "metadata": {},
   "source": [
    "### Пример использования continue и break\n",
    "- Этот цикл позволяет пользователю ввести строку длиной до 5 символов, пропускает символы 'o' и останавливает ввод при вводе 'l'."
   ]
  },
  {
   "cell_type": "code",
   "execution_count": 11,
   "id": "1da1836a",
   "metadata": {},
   "outputs": [
    {
     "name": "stdout",
     "output_type": "stream",
     "text": [
      "Введите символ: 0\n",
      "Введите символ: done\n",
      "Конечная строка: 0done\n",
      "Цикл завершен, программа работает дальше.\n"
     ]
    }
   ],
   "source": [
    "done = False\n",
    "input_string = \"\"\n",
    "while not done and len(input_string) < 5:\n",
    "    char = input(\"Введите символ: \")\n",
    "    if char == \"o\":\n",
    "        continue  # Пропускаем итерацию, если пользователь ввел 'o'\n",
    "    elif char == \"l\":\n",
    "        done = True  # Устанавливаем флаг выхода из цикла\n",
    "    else:\n",
    "        input_string += char\n",
    "print(\"Конечная строка:\", input_string)\n",
    "print(\"Цикл завершен, программа работает дальше.\")"
   ]
  }
 ],
 "metadata": {
  "kernelspec": {
   "display_name": "Python 3 (ipykernel)",
   "language": "python",
   "name": "python3"
  },
  "language_info": {
   "codemirror_mode": {
    "name": "ipython",
    "version": 3
   },
   "file_extension": ".py",
   "mimetype": "text/x-python",
   "name": "python",
   "nbconvert_exporter": "python",
   "pygments_lexer": "ipython3",
   "version": "3.11.5"
  }
 },
 "nbformat": 4,
 "nbformat_minor": 5
}
