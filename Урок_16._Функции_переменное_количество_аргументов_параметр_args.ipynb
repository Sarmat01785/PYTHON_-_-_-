{
 "cells": [
  {
   "cell_type": "markdown",
   "id": "8fa2537c",
   "metadata": {},
   "source": [
    "# Функции с переменным количеством аргументов в Python\n",
    "\n",
    "Функции в Python могут быть определены так, чтобы принимать переменное количество аргументов, что делает их гибкими при работе с неизвестным заранее количеством входных данных. Это достигается с помощью параметра *args, который позволяет функции принимать любое количество позиционных аргументов."
   ]
  },
  {
   "cell_type": "code",
   "execution_count": 3,
   "id": "e93e342d",
   "metadata": {},
   "outputs": [
    {
     "name": "stdout",
     "output_type": "stream",
     "text": [
      "Hello\n",
      "world\n",
      "!\n"
     ]
    }
   ],
   "source": [
    "# Определение функции, которая печатает все переданные аргументы\n",
    "def print_arguments(*args):\n",
    "    \"\"\"\n",
    "    Печатает все позиционные аргументы, переданные в функцию.\n",
    "    \n",
    "    :param args: переменное количество аргументов\n",
    "    \"\"\"\n",
    "    for arg in args:\n",
    "        print(arg)\n",
    "\n",
    "# Демонстрация использования функции print_arguments\n",
    "print_arguments('Hello', 'world', '!')"
   ]
  },
  {
   "cell_type": "markdown",
   "id": "7d270cd4",
   "metadata": {},
   "source": [
    "Функции, принимающие `*args`, могут передавать эти аргументы другим функциям. Это может быть полезно для делегирования задач или расширения функциональности."
   ]
  },
  {
   "cell_type": "code",
   "execution_count": 4,
   "id": "8564bd4c",
   "metadata": {},
   "outputs": [],
   "source": [
    "# Функция для сложения всех переданных чисел\n",
    "def add_numbers(*args):\n",
    "    \"\"\"\n",
    "    Возвращает сумму всех переданных чисел.\n",
    "    \n",
    "    :param args: переменное количество числовых аргументов\n",
    "    :return: сумма аргументов\n",
    "    \"\"\"\n",
    "    return sum(args)"
   ]
  },
  {
   "cell_type": "code",
   "execution_count": 5,
   "id": "3f4916d1",
   "metadata": {},
   "outputs": [],
   "source": [
    "# Функция для умножения всех переданных чисел\n",
    "def multiply_numbers(*args):\n",
    "    \"\"\"\n",
    "    Возвращает произведение всех переданных чисел.\n",
    "    \n",
    "    :param args: переменное количество числовых аргументов\n",
    "    :return: произведение аргументов\n",
    "    \"\"\"\n",
    "    result = 1\n",
    "    for num in args:\n",
    "        result *= num\n",
    "    return result"
   ]
  },
  {
   "cell_type": "code",
   "execution_count": 6,
   "id": "57a7a226",
   "metadata": {},
   "outputs": [
    {
     "name": "stdout",
     "output_type": "stream",
     "text": [
      "12\n",
      "48\n"
     ]
    }
   ],
   "source": [
    "# Примеры использования функций add_numbers и multiply_numbers\n",
    "numbers = (2, 4, 6)\n",
    "print(add_numbers(*numbers))  # Вывод: 12\n",
    "print(multiply_numbers(*numbers))  # Вывод: 48"
   ]
  },
  {
   "cell_type": "markdown",
   "id": "d583fc22",
   "metadata": {},
   "source": [
    "Можно использовать `*args` для создания функции, которая объединяет уникальные элементы из нескольких списков, возвращая результат без дубликатов."
   ]
  },
  {
   "cell_type": "code",
   "execution_count": 7,
   "id": "bb91bdb3",
   "metadata": {},
   "outputs": [
    {
     "name": "stdout",
     "output_type": "stream",
     "text": [
      "[1, 2, 3, 4, 5, 6, 7, 8, 9]\n"
     ]
    }
   ],
   "source": [
    "# Функция для объединения уникальных элементов из нескольких списков\n",
    "def exclusive_item(*args):\n",
    "    \"\"\"\n",
    "    Возвращает список уникальных элементов, объединенных из всех переданных списков.\n",
    "    \n",
    "    :param args: переменное количество списков\n",
    "    :return: список уникальных элементов\n",
    "    \"\"\"\n",
    "    unique_items = set()\n",
    "    for sequence in args:\n",
    "        unique_items.update(sequence)\n",
    "    return list(unique_items)\n",
    "\n",
    "# Пример использования функции exclusive_item\n",
    "z = [9, 8, 7]\n",
    "x = [8, 8, 9, 7, 6, 5]\n",
    "c = [1, 2, 3, 4, 5, 6, 7, 7]\n",
    "print(exclusive_item(z, x, c))  # Вывод: список уникальных элементов"
   ]
  },
  {
   "cell_type": "markdown",
   "id": "cff6afc2",
   "metadata": {},
   "source": [
    "Функции также могут комбинировать `*args` с другими позиционными параметрами и ключевыми параметрами для создания более сложных поведений."
   ]
  },
  {
   "cell_type": "code",
   "execution_count": 8,
   "id": "d61fe2fd",
   "metadata": {},
   "outputs": [
    {
     "name": "stdout",
     "output_type": "stream",
     "text": [
      "Hello, Alice!\n",
      "Also hello to Bob\n",
      "Also hello to Charlie\n"
     ]
    }
   ],
   "source": [
    "# Функция, которая приветствует пользователя и дополнительные аргументы\n",
    "def greet(name, *args):\n",
    "    \"\"\"\n",
    "    Печатает приветствие пользователю и дополнительные приветствия, если они есть.\n",
    "    \n",
    "    :param name: имя пользователя для основного приветствия\n",
    "    :param args: имена для дополнительных приветствий\n",
    "    \"\"\"\n",
    "    print(f\"Hello, {name}!\")\n",
    "    for arg in args:\n",
    "        print(f\"Also hello to {arg}\")\n",
    "\n",
    "# Пример комбинированного использования функции greet\n",
    "greet(\"Alice\", \"Bob\", \"Charlie\")  # Приветствует Alice и далее каждого из args"
   ]
  }
 ],
 "metadata": {
  "kernelspec": {
   "display_name": "Python 3 (ipykernel)",
   "language": "python",
   "name": "python3"
  },
  "language_info": {
   "codemirror_mode": {
    "name": "ipython",
    "version": 3
   },
   "file_extension": ".py",
   "mimetype": "text/x-python",
   "name": "python",
   "nbconvert_exporter": "python",
   "pygments_lexer": "ipython3",
   "version": "3.11.5"
  }
 },
 "nbformat": 4,
 "nbformat_minor": 5
}
