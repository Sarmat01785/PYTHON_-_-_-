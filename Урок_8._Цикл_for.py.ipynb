{
 "cells": [
  {
   "cell_type": "markdown",
   "id": "735d3054",
   "metadata": {},
   "source": [
    "### Цикл for в Python\n",
    "\n",
    "В этом конспекте мы рассмотрим основы работы с циклом `for` в Python. Цикл `for` используется для итерации по элементам последовательности (например, списка, кортежа, строки) и выполнения блока кода для каждого элемента.\n",
    "\n",
    "#### Пример 1: Печать элементов списка\n",
    "\n",
    "Здесь мы используем цикл `for` для прохода по списку фруктов и печатаем каждый фрукт по очереди."
   ]
  },
  {
   "cell_type": "code",
   "execution_count": 1,
   "id": "fbb23f63",
   "metadata": {},
   "outputs": [
    {
     "name": "stdout",
     "output_type": "stream",
     "text": [
      "яблоко\n",
      "банан\n",
      "груша\n",
      "апельсин\n"
     ]
    }
   ],
   "source": [
    "fruits = [\"яблоко\", \"банан\", \"груша\", \"апельсин\"]\n",
    "for fruit in fruits:\n",
    "    print(fruit)"
   ]
  },
  {
   "cell_type": "markdown",
   "id": "b78cbd8e",
   "metadata": {},
   "source": [
    "#### Пример 2: Подсчёт суммы чисел в списке\n",
    "\n",
    "В этом примере мы считаем сумму чисел, содержащихся в списке `numbers`. Инициализируем переменную `total` нулём, затем прибавляем к ней каждое число из списка.\n"
   ]
  },
  {
   "cell_type": "code",
   "execution_count": 2,
   "id": "0b5ffc0c",
   "metadata": {},
   "outputs": [
    {
     "name": "stdout",
     "output_type": "stream",
     "text": [
      "Сумма чисел: 15\n"
     ]
    }
   ],
   "source": [
    "numbers = [1, 2, 3, 4, 5]\n",
    "total = 0\n",
    "for number in numbers:\n",
    "    total += number\n",
    "print(\"Сумма чисел:\", total)"
   ]
  },
  {
   "cell_type": "markdown",
   "id": "34f6931e",
   "metadata": {},
   "source": [
    "#### Пример 3: Печать каждого символа в строке\n",
    "\n",
    "Цикл `for` можно использовать для прохода по каждому символу в строке. Ниже мы печатаем каждый символ строки `message`.\n"
   ]
  },
  {
   "cell_type": "code",
   "execution_count": 3,
   "id": "d6c5bd75",
   "metadata": {},
   "outputs": [
    {
     "name": "stdout",
     "output_type": "stream",
     "text": [
      "П\n",
      "р\n",
      "и\n",
      "в\n",
      "е\n",
      "т\n",
      ",\n",
      " \n",
      "м\n",
      "и\n",
      "р\n",
      "!\n"
     ]
    }
   ],
   "source": [
    "message = \"Привет, мир!\"\n",
    "for char in message:\n",
    "    print(char)"
   ]
  },
  {
   "cell_type": "markdown",
   "id": "454a6815",
   "metadata": {},
   "source": [
    "#### Пример 4: Использование оператора continue\n",
    "\n",
    "Оператор `continue` используется для пропуска части кода в текущей итерации цикла. В примере ниже мы пропускаем печать буквы \"t\"."
   ]
  },
  {
   "cell_type": "code",
   "execution_count": 4,
   "id": "56c48cb9",
   "metadata": {},
   "outputs": [
    {
     "name": "stdout",
     "output_type": "stream",
     "text": [
      "S\n",
      "r\n",
      "i\n",
      "n\n",
      "g\n",
      " \n",
      "e\n",
      "x\n",
      "Цикл завершён\n",
      "Программа работает дальше\n"
     ]
    }
   ],
   "source": [
    "m = \"String text\"\n",
    "for i in m:\n",
    "    if i == \"t\":\n",
    "        continue\n",
    "    print(i)\n",
    "else:\n",
    "    print(\"Цикл завершён\")\n",
    "\n",
    "print(\"Программа работает дальше\")"
   ]
  },
  {
   "cell_type": "markdown",
   "id": "ed86ded9",
   "metadata": {},
   "source": [
    "### Функция для вычисления факториала числа\n",
    "\n",
    "Факториал числа `n` — это произведение всех натуральных чисел от 1 до `n` включительно. Мы можем вычислить факториал с помощью цикла `for`."
   ]
  },
  {
   "cell_type": "code",
   "execution_count": 5,
   "id": "7c082d74",
   "metadata": {},
   "outputs": [
    {
     "name": "stdout",
     "output_type": "stream",
     "text": [
      "120\n"
     ]
    }
   ],
   "source": [
    "def factorial(num):\n",
    "    if num == 0:\n",
    "        return 1\n",
    "    else:\n",
    "        result = 1\n",
    "        for i in range(1, num + 1):\n",
    "            result *= i\n",
    "        return result\n",
    "\n",
    "print(factorial(5))  # Выведет 120, так как 5! = 5 * 4 * 3 * 2 * 1"
   ]
  },
  {
   "cell_type": "code",
   "execution_count": 7,
   "id": "0e8d0500",
   "metadata": {},
   "outputs": [
    {
     "name": "stdout",
     "output_type": "stream",
     "text": [
      "Введите число для вычисления факториала: 5\n",
      "Факториал числа 5 равен 120\n"
     ]
    }
   ],
   "source": [
    "def factorial(num):\n",
    "    fact = 1  # Инициализация переменной fact, которая будет хранить результат вычисления факториала\n",
    "    while num > 0:  # Начало цикла while, который будет выполняться, пока значение num больше нуля\n",
    "        fact *= num  # Умножение значения fact на текущее значение num\n",
    "        num -= 1  # Уменьшение значения num на 1\n",
    "    return fact  # После завершения цикла while функция возвращает значение переменной fact, которое является результатом вычисления факториала для введенного числа\n",
    "\n",
    "# Пример использования функции\n",
    "num = int(input(\"Введите число для вычисления факториала: \"))  # Запрос у пользователя ввода числа, которое нужно использовать для вычисления факториала\n",
    "print(\"Факториал числа\", num, \"равен\", factorial(num))  # Вывод результата работы функции factorial"
   ]
  },
  {
   "cell_type": "markdown",
   "id": "7bd1d8e9",
   "metadata": {},
   "source": [
    "### Альтернативная функция факториала с использованием цикла while\n",
    "\n",
    "Иногда может быть полезно использовать цикл `while` для вычисления факториала. Пример ниже демонстрирует это.\n"
   ]
  },
  {
   "cell_type": "code",
   "execution_count": 8,
   "id": "335097b6",
   "metadata": {},
   "outputs": [
    {
     "name": "stdout",
     "output_type": "stream",
     "text": [
      "Введите число для вычисления факториала: 5\n",
      "Факториал числа 5 равен 120\n"
     ]
    }
   ],
   "source": [
    "def factorial_1(num_1):\n",
    "    fact = 1\n",
    "    while num_1 > 0:\n",
    "        fact *= num_1\n",
    "        num_1 -= 1\n",
    "    return fact\n",
    "\n",
    "# Пример использования функции\n",
    "num_1 = int(input(\"Введите число для вычисления факториала: \"))\n",
    "print(\"Факториал числа\", num_1, \"равен\", factorial(num_1))"
   ]
  }
 ],
 "metadata": {
  "kernelspec": {
   "display_name": "Python 3 (ipykernel)",
   "language": "python",
   "name": "python3"
  },
  "language_info": {
   "codemirror_mode": {
    "name": "ipython",
    "version": 3
   },
   "file_extension": ".py",
   "mimetype": "text/x-python",
   "name": "python",
   "nbconvert_exporter": "python",
   "pygments_lexer": "ipython3",
   "version": "3.11.5"
  }
 },
 "nbformat": 4,
 "nbformat_minor": 5
}
