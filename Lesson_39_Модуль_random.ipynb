{
 "cells": [
  {
   "cell_type": "markdown",
   "id": "1aa71bfd-9e1a-4751-aeb8-245c9d245fff",
   "metadata": {},
   "source": [
    "# Модуль `random` в `Python`\n",
    "\n",
    "Модуль `random` в `Python` предоставляет функции для работы со случайными числами. Он может быть полезен, например, для генерации случайных чисел, выбора случайного элемента из списка или перемешивания элементов."
   ]
  },
  {
   "cell_type": "markdown",
   "id": "5b77c7c4-991d-4723-88f1-ff2d693e5c79",
   "metadata": {},
   "source": [
    "## Примеры использования модуля `random`"
   ]
  },
  {
   "cell_type": "markdown",
   "id": "d2ef5bf5-c1f0-4689-ba51-afef8a0074e3",
   "metadata": {},
   "source": [
    "### 1. Генерация случайного числа\n",
    "\n",
    "Функция `randint()` генерирует случайное целое число в заданном диапазоне."
   ]
  },
  {
   "cell_type": "code",
   "execution_count": 4,
   "id": "7a83339a-bcee-46e8-a217-1090caa88d17",
   "metadata": {},
   "outputs": [
    {
     "name": "stdout",
     "output_type": "stream",
     "text": [
      "Случайное число: 1\n"
     ]
    }
   ],
   "source": [
    "import random\n",
    "\n",
    "# Случайное число от 1 до 10\n",
    "random_number = random.randint(1, 10)\n",
    "print(\"Случайное число:\", random_number)"
   ]
  },
  {
   "cell_type": "markdown",
   "id": "d4386c71-ca2b-4249-b2fe-ffe9595f8099",
   "metadata": {},
   "source": [
    "### 2. Выбор случайного элемента из списка\n",
    "\n",
    "Функция `choice()` выбирает случайный элемент из последовательности."
   ]
  },
  {
   "cell_type": "code",
   "execution_count": 7,
   "id": "258c925d-da9f-49bb-a21b-164bf1f1752a",
   "metadata": {},
   "outputs": [
    {
     "name": "stdout",
     "output_type": "stream",
     "text": [
      "Выбранный фрукт: апельсин\n"
     ]
    }
   ],
   "source": [
    "import random\n",
    "\n",
    "fruits = [\"яблоко\", \"банан\", \"груша\", \"апельсин\"]\n",
    "random_fruit = random.choice(fruits)\n",
    "print(\"Выбранный фрукт:\", random_fruit)"
   ]
  },
  {
   "cell_type": "markdown",
   "id": "6a713bc1-b659-4774-a6d5-2d2dcc102876",
   "metadata": {},
   "source": [
    "### 3. Перемешивание элементов списка\n",
    "\n",
    "Функция `shuffle()` перемешивает элементы списка случайным образом."
   ]
  },
  {
   "cell_type": "code",
   "execution_count": 10,
   "id": "2cf9dbfc-f6f5-4db5-aef9-41ae3b6a5d97",
   "metadata": {},
   "outputs": [
    {
     "name": "stdout",
     "output_type": "stream",
     "text": [
      "Перемешанные карты: ['Дама', '5', 'Туз', '4', '9', '2', 'Валет', '3', '7', '10', 'Король', '8', '6']\n"
     ]
    }
   ],
   "source": [
    "import random\n",
    "\n",
    "cards = [\"2\", \"3\", \"4\", \"5\", \"6\", \"7\", \"8\", \"9\", \"10\", \"Валет\", \"Дама\", \"Король\", \"Туз\"]\n",
    "random.shuffle(cards)\n",
    "print(\"Перемешанные карты:\", cards)"
   ]
  },
  {
   "cell_type": "markdown",
   "id": "ec831580-32ab-44c9-b551-203aa7f54b9f",
   "metadata": {},
   "source": [
    "Эти примеры демонстрируют базовые возможности модуля `random` в Python."
   ]
  }
 ],
 "metadata": {
  "kernelspec": {
   "display_name": "Python 3 (ipykernel)",
   "language": "python",
   "name": "python3"
  },
  "language_info": {
   "codemirror_mode": {
    "name": "ipython",
    "version": 3
   },
   "file_extension": ".py",
   "mimetype": "text/x-python",
   "name": "python",
   "nbconvert_exporter": "python",
   "pygments_lexer": "ipython3",
   "version": "3.11.5"
  }
 },
 "nbformat": 4,
 "nbformat_minor": 5
}
