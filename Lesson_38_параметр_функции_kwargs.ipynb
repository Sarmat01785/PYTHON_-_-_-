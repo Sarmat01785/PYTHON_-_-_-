{
 "cells": [
  {
   "cell_type": "markdown",
   "id": "363cc110-3f63-42eb-b93c-2c33710fec03",
   "metadata": {},
   "source": [
    "# `**kwargs` - это специальный параметр функции, который позволяет принимать произвольное количество именованных аргументов.\n",
    "\n",
    "## Все эти аргументы собираются в словарь, где ключами являются имена аргументов, а значениями – их значения."
   ]
  },
  {
   "cell_type": "markdown",
   "id": "7885dd4e-f237-4e34-89cc-d277a6c60dfb",
   "metadata": {},
   "source": [
    "### Пример функции с использованием `**kwargs`\n",
    "\n",
    "Рассмотрим функцию, которая принимает любое количество именованных аргументов и выводит их:"
   ]
  },
  {
   "cell_type": "code",
   "execution_count": 7,
   "id": "2a2fbb02-fc27-4d56-9364-5848a20890b9",
   "metadata": {},
   "outputs": [],
   "source": [
    "def print_info(**kwargs):\n",
    "    \"\"\"\n",
    "    Эта функция печатает все переданные ей именованные аргументы.\n",
    "    \n",
    "    :param kwargs: Произвольное количество именованных аргументов\n",
    "    :type kwargs: dict\n",
    "    \"\"\"\n",
    "    # Перебираем все элементы словаря kwargs и выводим их\n",
    "    for key, value in kwargs.items():\n",
    "        print(f\"{key}: {value}\")"
   ]
  },
  {
   "cell_type": "markdown",
   "id": "3828a151-4439-46a0-8de8-ec4310fd9d1f",
   "metadata": {},
   "source": [
    "Пример вызова этой функции:"
   ]
  },
  {
   "cell_type": "code",
   "execution_count": 10,
   "id": "f8ed5e9d-13d1-43d5-a5c4-7282079a9b41",
   "metadata": {},
   "outputs": [
    {
     "name": "stdout",
     "output_type": "stream",
     "text": [
      "имя: Иван\n",
      "возраст: 30\n",
      "город: Москва\n"
     ]
    }
   ],
   "source": [
    "print_info(имя=\"Иван\", возраст=30, город=\"Москва\")"
   ]
  },
  {
   "cell_type": "markdown",
   "id": "29079483-b918-4c26-b829-3802559f7dab",
   "metadata": {},
   "source": [
    "### Комбинация `*args` и `**kwargs`\n",
    "\n",
    "Параметры `*args` и `**kwargs` могут использоваться совместно. Важно помнить о порядке их следования: сначала фиксированные параметры, потом `*args`, и в конце `**kwargs`.\n",
    "\n",
    "Пример функции, принимающей фиксированные, позиционные и именованные аргументы:"
   ]
  },
  {
   "cell_type": "code",
   "execution_count": 13,
   "id": "c11bb8f2-8b45-44c1-8377-5464148d526c",
   "metadata": {},
   "outputs": [],
   "source": [
    "def combined_example(a, *args, **kwargs):\n",
    "    \"\"\"\n",
    "    Эта функция демонстрирует использование комбинации фиксированных, позиционных и именованных аргументов.\n",
    "    \n",
    "    :param a: Фиксированный аргумент\n",
    "    :type a: any\n",
    "    :param args: Позиционные аргументы\n",
    "    :type args: tuple\n",
    "    :param kwargs: Именованные аргументы\n",
    "    :type kwargs: dict\n",
    "    \"\"\"\n",
    "    print(f\"Фиксированный аргумент: {a}\")\n",
    "    for arg in args:\n",
    "        print(f\"Позиционный аргумент: {arg}\")\n",
    "    for key, value in kwargs.items():\n",
    "        print(f\"Именованный аргумент: {key} = {value}\")"
   ]
  },
  {
   "cell_type": "markdown",
   "id": "4a60c583-f4f6-4557-9a66-ea1a821c4b00",
   "metadata": {},
   "source": [
    "Пример вызова функции:"
   ]
  },
  {
   "cell_type": "code",
   "execution_count": 16,
   "id": "4861dec7-4783-4e53-b81f-ad26bf8fd2cd",
   "metadata": {},
   "outputs": [
    {
     "name": "stdout",
     "output_type": "stream",
     "text": [
      "Фиксированный аргумент: 1\n",
      "Позиционный аргумент: два\n",
      "Позиционный аргумент: 3\n",
      "Именованный аргумент: имя = Иван\n",
      "Именованный аргумент: возраст = 30\n"
     ]
    }
   ],
   "source": [
    "combined_example(1, \"два\", 3, имя=\"Иван\", возраст=30)"
   ]
  },
  {
   "cell_type": "markdown",
   "id": "4a201311-174a-4f67-8f1f-2a8dff94b02c",
   "metadata": {},
   "source": [
    "### Возможные ошибки\n",
    "\n",
    "При использовании `**kwargs` важно избегать передачи именованных аргументов, которые уже были определены как фиксированные параметры. Также необходимо соблюдать правильный порядок параметров."
   ]
  },
  {
   "cell_type": "markdown",
   "id": "ed585dac-9ec6-4c9e-b4eb-11cd86b03b5e",
   "metadata": {},
   "source": [
    "### Применение `**kwargs`\n",
    "\n",
    "Этот механизм особенно полезен в случаях, когда требуется передать неопределённое количество именованных аргументов, либо когда аргументы передаются динамически. Например, при создании декораторов, функций высшего порядка или при работе с `API`, где могут добавляться новые ключи аргументов."
   ]
  }
 ],
 "metadata": {
  "kernelspec": {
   "display_name": "Python 3 (ipykernel)",
   "language": "python",
   "name": "python3"
  },
  "language_info": {
   "codemirror_mode": {
    "name": "ipython",
    "version": 3
   },
   "file_extension": ".py",
   "mimetype": "text/x-python",
   "name": "python",
   "nbconvert_exporter": "python",
   "pygments_lexer": "ipython3",
   "version": "3.11.5"
  }
 },
 "nbformat": 4,
 "nbformat_minor": 5
}
