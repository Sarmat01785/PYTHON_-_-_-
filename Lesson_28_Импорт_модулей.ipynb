{
 "cells": [
  {
   "cell_type": "markdown",
   "id": "ff32ffa2-c267-41d1-9ae2-cf1ffd522513",
   "metadata": {},
   "source": [
    "## Импорт модулей и специальная конструкция "
   ]
  },
  {
   "cell_type": "code",
   "execution_count": null,
   "id": "c7ca7ad0-d68c-4e04-98c2-c088af537b53",
   "metadata": {},
   "outputs": [],
   "source": [
    "if __name__ == '__main__'"
   ]
  },
  {
   "cell_type": "markdown",
   "id": "0658800f-9317-4120-b1d2-eeea2cd78ebc",
   "metadata": {},
   "source": [
    "Импортирование модулей в Python позволяет использовать функциональность, предоставленную другими модулями. Это могут быть стандартные библиотеки Python, сторонние пакеты или ваши собственные модули."
   ]
  },
  {
   "cell_type": "markdown",
   "id": "22841fab-39de-438f-881c-792343493339",
   "metadata": {},
   "source": [
    "### Команда `dir()`\n",
    "Команда `dir()` используется для получения списка всех атрибутов объекта или имен, доступных в текущем локальном пространстве имен."
   ]
  },
  {
   "cell_type": "code",
   "execution_count": 8,
   "id": "e9205a22-0030-4893-9464-c6898e31cd8b",
   "metadata": {},
   "outputs": [
    {
     "name": "stdout",
     "output_type": "stream",
     "text": [
      "['In', 'Out', '_', '_1', '_2', '_3', '_4', '_5', '_6', '_7', '__', '___', '__builtin__', '__builtins__', '__doc__', '__loader__', '__name__', '__package__', '__pandas', '__session__', '__spec__', '_dh', '_i', '_i1', '_i2', '_i3', '_i4', '_i5', '_i6', '_i7', '_i8', '_ih', '_ii', '_iii', '_oh', 'dataframe_columns', 'dataframe_hash', 'dtypes_str', 'exit', 'get_dataframes', 'get_ipython', 'getpass', 'hashlib', 'import_pandas_safely', 'is_data_frame', 'json', 'open', 'quit', 'x']\n"
     ]
    }
   ],
   "source": [
    "x = 7\n",
    "print(dir())  # Выведет список имен, определенных в текущем пространстве имен"
   ]
  },
  {
   "cell_type": "markdown",
   "id": "d8802c22-84f5-4c4f-af02-99ba2770932d",
   "metadata": {},
   "source": [
    "### Команда `help()`\n",
    "Команда `help()` предоставляет справочную информацию по модулям, ключевым словам, атрибутам или любым другим объектам."
   ]
  },
  {
   "cell_type": "code",
   "execution_count": null,
   "id": "5e4ff1f0-bb1e-4dfb-9a2b-970297f0b650",
   "metadata": {},
   "outputs": [
    {
     "name": "stdout",
     "output_type": "stream",
     "text": [
      "\n",
      "Please wait a moment while I gather a list of all available modules...\n",
      "\n"
     ]
    },
    {
     "name": "stderr",
     "output_type": "stream",
     "text": [
      "C:\\Users\\Sarmat\\anaconda3\\Lib\\pkgutil.py:92: DeprecationWarning: `torch.distributed._shard.checkpoint` will be deprecated, use `torch.distributed.checkpoint` instead\n",
      "  __import__(info.name)\n",
      "C:\\Users\\Sarmat\\anaconda3\\Lib\\pkgutil.py:92: DeprecationWarning: `torch.distributed._sharded_tensor` will be deprecated, use `torch.distributed._shard.sharded_tensor` instead\n",
      "  __import__(info.name)\n",
      "C:\\Users\\Sarmat\\anaconda3\\Lib\\pkgutil.py:92: DeprecationWarning: `torch.distributed._sharding_spec` will be deprecated, use `torch.distributed._shard.sharding_spec` instead\n",
      "  __import__(info.name)\n",
      "C:\\Users\\Сармат\\AppData\\Roaming\\Python\\Python311\\site-packages\\torch\\distributed\\algorithms\\_optimizer_overlap\\optimizer_overlap.py:12: DeprecationWarning: `TorchScript` support for functional optimizers is deprecated and will be removed in a future PyTorch release. Consider using the `torch.compile` optimizer instead.\n",
      "  from torch.distributed.optim import as_functional_optim\n",
      "W1128 11:13:44.094000 7760 AppData\\Roaming\\Python\\Python311\\site-packages\\torch\\distributed\\elastic\\multiprocessing\\redirects.py:29] NOTE: Redirects are currently not supported in Windows or MacOs.\n",
      "C:\\Users\\Sarmat\\anaconda3\\Lib\\site-packages\\_yaml\\__init__.py:18: DeprecationWarning: The _yaml extension module is now located at yaml._yaml and its location is subject to change.  To use the LibYAML-based parser and emitter, import from `yaml`: `from yaml import CLoader as Loader, CDumper as Dumper`.\n",
      "  warnings.warn(\n",
      "C:\\Users\\Sarmat\\anaconda3\\Lib\\site-packages\\clyent\\__init__.py:5: DeprecationWarning: the imp module is deprecated in favour of importlib and slated for removal in Python 3.12; see the module's documentation for alternative uses\n",
      "  import imp\n",
      "C:\\Users\\Sarmat\\anaconda3\\Lib\\site-packages\\conda_token\\repo_config.py:14: PendingDeprecationWarning: conda.cli.python_api is pending deprecation and will be removed in 24.9. Use `conda.testing.conda_cli` instead.\n",
      "  from conda.cli.python_api import Commands, run_command\n",
      "WARNING: AstropyDeprecationWarning: The private astropy._erfa module has been made into its own package, pyerfa, which is a dependency of astropy and can be imported directly using \"import erfa\" [astropy._erfa]\n"
     ]
    }
   ],
   "source": [
    "print(help('modules'))  # Выведет список доступных модулей"
   ]
  },
  {
   "cell_type": "markdown",
   "id": "2e8ebad1-1222-4b4c-87a3-b6ac009c7152",
   "metadata": {},
   "source": [
    "### Модуль `sys`\n",
    "Модуль `sys` содержит различные системные функции и атрибуты, такие как пути поиска модулей, аргументы командной строки и многое другое."
   ]
  },
  {
   "cell_type": "code",
   "execution_count": 2,
   "id": "3f594de6-d752-4cb4-8a26-04d3e8114301",
   "metadata": {},
   "outputs": [
    {
     "name": "stdout",
     "output_type": "stream",
     "text": [
      "['C:\\\\Users\\\\Сармат', 'C:\\\\Users\\\\Sarmat\\\\anaconda3\\\\python311.zip', 'C:\\\\Users\\\\Sarmat\\\\anaconda3\\\\DLLs', 'C:\\\\Users\\\\Sarmat\\\\anaconda3\\\\Lib', 'C:\\\\Users\\\\Sarmat\\\\anaconda3', '', 'C:\\\\Users\\\\Сармат\\\\AppData\\\\Roaming\\\\Python\\\\Python311\\\\site-packages', 'C:\\\\Users\\\\Sarmat\\\\anaconda3\\\\Lib\\\\site-packages', 'C:\\\\Users\\\\Sarmat\\\\anaconda3\\\\Lib\\\\site-packages\\\\win32', 'C:\\\\Users\\\\Sarmat\\\\anaconda3\\\\Lib\\\\site-packages\\\\win32\\\\lib', 'C:\\\\Users\\\\Sarmat\\\\anaconda3\\\\Lib\\\\site-packages\\\\Pythonwin']\n"
     ]
    }
   ],
   "source": [
    "import sys\n",
    "\n",
    "print(sys.path)  # Выведет список путей, где Python ищет модули при их импорте"
   ]
  },
  {
   "cell_type": "code",
   "execution_count": null,
   "id": "e3dc713c-b632-494f-ae31-d920c9b45682",
   "metadata": {},
   "outputs": [],
   "source": [
    "# Конструкция if __name__ == '__main__'\n",
    "# Эта специальная конструкция используется для определения, выполняется ли модуль как основной скрипт или он был импортирован в другой модуль."
   ]
  },
  {
   "cell_type": "code",
   "execution_count": 4,
   "id": "76e62743-efb8-4c98-bf44-a6b8078c50a2",
   "metadata": {},
   "outputs": [
    {
     "name": "stdout",
     "output_type": "stream",
     "text": [
      "Файл запущен напрямую, а не импортирован.\n"
     ]
    }
   ],
   "source": [
    "if __name__ == '__main__':\n",
    "    # Этот блок кода будет выполнен только тогда, когда файл запущен непосредственно,\n",
    "    # а не импортирован в качестве модуля.\n",
    "    print('Файл запущен напрямую, а не импортирован.')"
   ]
  },
  {
   "cell_type": "markdown",
   "id": "58f86b1e-443e-46ed-a492-5722ea9d6e61",
   "metadata": {},
   "source": [
    "### Применение конструкции if __name__ == '__main__'\n",
    "Когда вы импортируете данный скрипт в другой модуль, код в блоке if __name__ == '__main__' не будет выполнен. Эта конструкция полезна для написания тестов или инициализации программы, которая должна выполниться только при непосредственном запуске модуля."
   ]
  },
  {
   "cell_type": "markdown",
   "id": "46597679-0c4e-44f9-afa9-59f1e88b4528",
   "metadata": {},
   "source": [
    "### Примеры использования"
   ]
  },
  {
   "cell_type": "markdown",
   "id": "eadb422d-e959-425c-943d-ee1641ba8bcb",
   "metadata": {},
   "source": [
    "#### Пример 1: Простое тестирование модуля\n",
    "\n",
    "Предположим, у вас есть функция, которую вы хотите протестировать перед интеграцией в проект. Вы можете поместить тестовый код в блок if __name__ == '__main__'."
   ]
  },
  {
   "cell_type": "code",
   "execution_count": 9,
   "id": "724f77ce-0b57-4dc7-b5cc-6e31eff23ef8",
   "metadata": {},
   "outputs": [
    {
     "name": "stdout",
     "output_type": "stream",
     "text": [
      "5\n"
     ]
    }
   ],
   "source": [
    "def add(a, b):\n",
    "    \"\"\"Функция для сложения двух чисел.\"\"\"\n",
    "    return a + b\n",
    "\n",
    "if __name__ == '__main__':\n",
    "    result = add(2, 3)\n",
    "    print(result)  # Выведет 5"
   ]
  },
  {
   "cell_type": "markdown",
   "id": "89e11d92-5de1-45e7-8bbe-966383a33e81",
   "metadata": {},
   "source": [
    "#### Пример 2: Запуск основного приложения\n",
    "\n",
    "Вы можете использовать конструкцию if __name__ == '__main__', чтобы определить точку входа в ваше приложение."
   ]
  },
  {
   "cell_type": "code",
   "execution_count": 12,
   "id": "2c05da08-a4a7-43ba-a2c1-f5299e1eb540",
   "metadata": {},
   "outputs": [
    {
     "name": "stdout",
     "output_type": "stream",
     "text": [
      "Приложение запущено.\n"
     ]
    }
   ],
   "source": [
    "def main():\n",
    "    print(\"Приложение запущено.\")\n",
    "\n",
    "if __name__ == '__main__':\n",
    "    main()"
   ]
  },
  {
   "cell_type": "markdown",
   "id": "472743ff-a6ad-415c-94f7-59875caabca9",
   "metadata": {},
   "source": [
    "### Заключение\n",
    "\n",
    "Конструкция if __name__ == '__main__' — мощный инструмент для организации кода в Python. Она помогает разделить логику исполнения и тестирования, обеспечивая чистоту и удобство разработки."
   ]
  }
 ],
 "metadata": {
  "kernelspec": {
   "display_name": "Python 3 (ipykernel)",
   "language": "python",
   "name": "python3"
  },
  "language_info": {
   "codemirror_mode": {
    "name": "ipython",
    "version": 3
   },
   "file_extension": ".py",
   "mimetype": "text/x-python",
   "name": "python",
   "nbconvert_exporter": "python",
   "pygments_lexer": "ipython3",
   "version": "3.11.5"
  }
 },
 "nbformat": 4,
 "nbformat_minor": 5
}
