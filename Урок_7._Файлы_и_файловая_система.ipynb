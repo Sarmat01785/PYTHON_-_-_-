{
 "cells": [
  {
   "cell_type": "markdown",
   "metadata": {},
   "source": [
    "# Лекция 7: Файлы и файловая система\n",
    "\n",
    "### Введение\n",
    "\n",
    "Работа с файлами и файловой системой — важный аспект программирования. В Python для этого существует множество встроенных функций и модулей. Эта лекция охватывает основные концепции работы с файлами, доступные режимы работы с ними и особенности работы с файловой системой.\n",
    "\n",
    "### Основные термины\n",
    "\n",
    "- Файл — именованная область данных на носителе информации.\n",
    "\n",
    "- Файловая система — порядок, определяющий способ организации, хранения и именования данных на носителях информации.\n",
    "\n",
    "### Открытие файлов\n",
    "\n",
    "Для работы с файлами в Python используется функция `open()`."
   ]
  },
  {
   "cell_type": "code",
   "execution_count": 2,
   "metadata": {},
   "outputs": [
    {
     "name": "stdout",
     "output_type": "stream",
     "text": [
      "<_io.TextIOWrapper name='text_data.txt' mode='r' encoding='utf-8'>\n",
      "[]\n"
     ]
    }
   ],
   "source": [
    "f = open('text_data.txt', 'r', encoding='utf-8')\n",
    "print(f)\n",
    "print(list(f))\n",
    "f.close()"
   ]
  },
  {
   "cell_type": "markdown",
   "metadata": {},
   "source": [
    "### Параметры функции `open`\n",
    "\n",
    "Функция `open()` имеет следующие параметры:\n",
    "\n",
    "- `file` — путь к файлу, обязательный параметр.\n",
    "\n",
    "- `mode` — режим открытия файла (чтение, запись, добавление и т.д.).\n",
    "\n",
    "- `encoding` — кодировка файла.\n",
    "\n",
    "Пример открытия файла для чтения:"
   ]
  },
  {
   "cell_type": "code",
   "execution_count": 3,
   "metadata": {},
   "outputs": [],
   "source": [
    "f = open('text_data.txt', 'r', encoding='utf-8')"
   ]
  },
  {
   "cell_type": "markdown",
   "metadata": {},
   "source": [
    "🔥 Совет: Всегда указывайте кодировку при работе с текстовыми файлами, чтобы избежать проблем с совместимостью на разных платформах."
   ]
  },
  {
   "cell_type": "markdown",
   "metadata": {},
   "source": [
    "### Режимы открытия файлов\n",
    "\n",
    "Рассмотрим основные режимы открытия файлов:\n",
    "\n",
    "- `'r'` — чтение (по умолчанию).\n",
    "\n",
    "- `'w'` — запись, очищает файл перед записью.\n",
    "\n",
    "- `'x'` — создание нового файла, если файл уже существует — ошибка.\n",
    "\n",
    "- `'a'` — добавление в конец файла.\n",
    "\n",
    "- `'b'` — бинарный режим.\n",
    "\n",
    "- `'t'` — текстовый режим (по умолчанию).\n",
    "\n",
    "- `'+'` — обновление (чтение и запись)."
   ]
  },
  {
   "cell_type": "markdown",
   "metadata": {},
   "source": [
    "### Закрытие файлов\n",
    "\n",
    "После завершения работы с файлом его необходимо закрыть для освобождения ресурсов."
   ]
  },
  {
   "cell_type": "markdown",
   "metadata": {},
   "source": [
    "### Менеджер контекста `with`\n",
    "\n",
    "Для гарантированного закрытия файла, даже в случае ошибки, используется менеджер контекста `with`."
   ]
  },
  {
   "cell_type": "code",
   "execution_count": 4,
   "metadata": {},
   "outputs": [
    {
     "name": "stdout",
     "output_type": "stream",
     "text": [
      "[]\n"
     ]
    }
   ],
   "source": [
    "with open('text_data.txt', 'r+', encoding='utf-8') as f:\n",
    "    print(list(f))"
   ]
  },
  {
   "cell_type": "markdown",
   "metadata": {},
   "source": [
    "🔥 Совет: Использование `with` предпочтительнее, так как оно автоматически закрывает файл, даже если возникнет ошибка."
   ]
  },
  {
   "cell_type": "markdown",
   "metadata": {},
   "source": [
    "### Работа с позициями в файле\n",
    "\n",
    "Методы `tell()` и `seek()` позволяют управлять текущей позицией в файле."
   ]
  },
  {
   "cell_type": "code",
   "execution_count": null,
   "metadata": {},
   "outputs": [],
   "source": [
    "with open('new_data.txt', 'r+', encoding='utf-8') as f:\n",
    "    while line := f.readline():\n",
    "        last, before = f.tell(), last\n",
    "\n",
    "    f.seek(before, 0)\n",
    "    f.write('Новый текст\\n')\n"
   ]
  },
  {
   "cell_type": "markdown",
   "metadata": {},
   "source": [
    "### Метод `truncate()`\n",
    "\n",
    "Метод `truncate()` изменяет размер файла, удаляя часть данных."
   ]
  },
  {
   "cell_type": "code",
   "execution_count": 8,
   "metadata": {},
   "outputs": [],
   "source": [
    "with open('new_data.txt', 'r+', encoding='utf-8') as f:\n",
    "    f.truncate(64)"
   ]
  },
  {
   "cell_type": "markdown",
   "metadata": {},
   "source": [
    "🔥 Совет: Используйте `truncate` для удаления данных из файла или сокращения его размера."
   ]
  },
  {
   "cell_type": "markdown",
   "metadata": {},
   "source": [
    "### Работа с файловой системой\n",
    "\n",
    "Для работы с файловой системой в Python используются следующие модули:\n",
    "\n",
    "- `os` — для работы с функциями, зависящими от ОС.\n",
    "\n",
    "- `os.path` — для работы с путями.\n",
    "\n",
    "- `pathlib` — для работы с путями в ООП стиле.\n",
    "\n",
    "- `shutil` — для высокоуровневых операций над файлами."
   ]
  }
 ],
 "metadata": {
  "kernelspec": {
   "display_name": "Python 3 (ipykernel)",
   "language": "python",
   "name": "python3"
  }
 },
 "nbformat": 4,
 "nbformat_minor": 2
}
