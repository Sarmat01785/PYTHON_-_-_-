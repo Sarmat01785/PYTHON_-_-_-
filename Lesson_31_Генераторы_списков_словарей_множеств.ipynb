{
 "cells": [
  {
   "cell_type": "markdown",
   "id": "44dabc9b-3427-4c55-a4d2-1e0991a94f06",
   "metadata": {},
   "source": [
    "## Использование `Comprehensions` в Python для создания новых коллекций из существующих\n",
    "\n",
    "Comprehension — это удобная и мощная техника в Python для создания новых списков, множеств или словарей на основе существующих последовательностей или итерируемых объектов. Рассмотрим несколько примеров использования comprehension для различных типов коллекций."
   ]
  },
  {
   "cell_type": "markdown",
   "id": "967593f2-4f08-4c64-8ed5-c6ef9b319f40",
   "metadata": {},
   "source": [
    "### Генерация списка\n",
    "\n",
    "Исходный список чисел:"
   ]
  },
  {
   "cell_type": "code",
   "execution_count": 4,
   "id": "9c545961-642e-47bf-ac48-f09afdf6fb84",
   "metadata": {},
   "outputs": [],
   "source": [
    "numbers = [9, 8, 7, 4, 5, 6, 3, 2, 1, 5, 5, -2]"
   ]
  },
  {
   "cell_type": "markdown",
   "id": "b89889df-94c3-4b14-8370-0653a1d659d7",
   "metadata": {},
   "source": [
    "Создание нового списка, где каждое чётное число умножается на 2:"
   ]
  },
  {
   "cell_type": "code",
   "execution_count": 7,
   "id": "fffed6dc-a7f9-4924-8ab8-90e77920f136",
   "metadata": {},
   "outputs": [
    {
     "name": "stdout",
     "output_type": "stream",
     "text": [
      "[16, 8, 12, 4, -4]\n"
     ]
    }
   ],
   "source": [
    "even_numbers_doubled = [x * 2 for x in numbers if x % 2 == 0]\n",
    "print(even_numbers_doubled)  # Выведет: [16, 8, 12, 4, -4]"
   ]
  },
  {
   "cell_type": "markdown",
   "id": "0ed499e5-8626-4672-80bb-f92612eeed3a",
   "metadata": {},
   "source": [
    "То же самое, но только с положительными числами:"
   ]
  },
  {
   "cell_type": "code",
   "execution_count": 10,
   "id": "4e941d0d-a2d9-4a7d-9e88-e757ebd8676a",
   "metadata": {},
   "outputs": [
    {
     "name": "stdout",
     "output_type": "stream",
     "text": [
      "[16, 8, 12, 4]\n"
     ]
    }
   ],
   "source": [
    "positive_even_numbers_doubled = [x * 2 for x in numbers if x % 2 == 0 and x > 0]\n",
    "print(positive_even_numbers_doubled)  # Выведет: [16, 8, 12, 4]"
   ]
  },
  {
   "cell_type": "markdown",
   "id": "ae2c8265-750e-410a-aec5-c3abade682dc",
   "metadata": {},
   "source": [
    "### Генерация множества\n",
    "\n",
    "Рассмотрим генерацию множества уникальных квадратов положительных чисел из списка:"
   ]
  },
  {
   "cell_type": "code",
   "execution_count": 13,
   "id": "246c429d-3719-4496-b5d9-cbd1655dde35",
   "metadata": {},
   "outputs": [
    {
     "name": "stdout",
     "output_type": "stream",
     "text": [
      "{64, 1, 36, 4, 9, 16, 81, 49, 25}\n"
     ]
    }
   ],
   "source": [
    "unique_squares = {x**2 for x in numbers if x > 0}\n",
    "print(unique_squares)  # Выведет: {64, 49, 36, 25, 16, 9, 4, 1}"
   ]
  },
  {
   "cell_type": "markdown",
   "id": "05538176-0cbd-4e08-a164-cb377de6cf93",
   "metadata": {},
   "source": [
    "### Генерация словаря\n",
    "\n",
    "Исходный словарь с ценами:"
   ]
  },
  {
   "cell_type": "code",
   "execution_count": 16,
   "id": "a294e2d4-a590-4924-a25f-47e3781417cf",
   "metadata": {},
   "outputs": [],
   "source": [
    "prices = {'мясо': 200, 'хлеб': 100, 'картофель': 50, 'вода': 20}"
   ]
  },
  {
   "cell_type": "markdown",
   "id": "fda7b7b4-8e88-4332-b8ea-adce5c20af59",
   "metadata": {},
   "source": [
    "Обновление цен с 15% скидкой, используя словарный `comprehension`:"
   ]
  },
  {
   "cell_type": "code",
   "execution_count": 19,
   "id": "6b94c332-c11b-484c-a4ec-15c928f4eee6",
   "metadata": {},
   "outputs": [
    {
     "name": "stdout",
     "output_type": "stream",
     "text": [
      "{'мясо': 170.0, 'хлеб': 85.0, 'картофель': 42.5, 'вода': 17.0}\n"
     ]
    }
   ],
   "source": [
    "discounted_prices = {item: round(price * 0.85, 2) for item, price in prices.items()}\n",
    "print(discounted_prices)  # Выведет: {'мясо': 170.0, 'хлеб': 85.0, 'картофель': 42.5, 'вода': 17.0}"
   ]
  },
  {
   "cell_type": "markdown",
   "id": "931a0413-45b6-4402-91b7-276ea028b688",
   "metadata": {},
   "source": [
    "### Использование `os.walk()` для поиска файлов\n",
    "\n",
    "Поиск всех файлов в корневой директории \"C:\\\":"
   ]
  },
  {
   "cell_type": "code",
   "execution_count": 22,
   "id": "1879866a-c140-474a-8079-421ead074d2b",
   "metadata": {},
   "outputs": [
    {
     "name": "stdout",
     "output_type": "stream",
     "text": [
      "Найдено файлов: 908148\n"
     ]
    }
   ],
   "source": [
    "import os\n",
    "\n",
    "root_dir = \"C:\\\\\"\n",
    "all_files = [os.path.join(root, name) for root, dirs, files in os.walk(root_dir) for name in files]\n",
    "print(f\"Найдено файлов: {len(all_files)}\")"
   ]
  },
  {
   "cell_type": "markdown",
   "id": "8547b19c-d390-48cc-9189-7560c2392840",
   "metadata": {},
   "source": [
    "Поиск всех файлов с расширением .txt в корневой директории \"C:\\\":"
   ]
  },
  {
   "cell_type": "code",
   "execution_count": 25,
   "id": "06b04c2b-8aaf-4dab-8e1e-61a19f79ad5c",
   "metadata": {},
   "outputs": [
    {
     "name": "stdout",
     "output_type": "stream",
     "text": [
      "Найдено .txt файлов: 6211\n"
     ]
    }
   ],
   "source": [
    "txt_files = [os.path.join(root, name) for root, dirs, files in os.walk(root_dir) for name in files if\n",
    "             name.endswith('.txt')]\n",
    "print(f\"Найдено .txt файлов: {len(txt_files)}\")"
   ]
  },
  {
   "cell_type": "markdown",
   "id": "4190c243-f15f-408c-85f3-e11bb7e0b648",
   "metadata": {},
   "source": [
    "### Заключение\n",
    "\n",
    "`Comprehension` — это очень полезный инструмент в Python, позволяющий создавать новые коллекции на основе существующих данных. Он значительно упрощает код и делает его более читабельным."
   ]
  }
 ],
 "metadata": {
  "kernelspec": {
   "display_name": "Python 3 (ipykernel)",
   "language": "python",
   "name": "python3"
  },
  "language_info": {
   "codemirror_mode": {
    "name": "ipython",
    "version": 3
   },
   "file_extension": ".py",
   "mimetype": "text/x-python",
   "name": "python",
   "nbconvert_exporter": "python",
   "pygments_lexer": "ipython3",
   "version": "3.11.5"
  }
 },
 "nbformat": 4,
 "nbformat_minor": 5
}
