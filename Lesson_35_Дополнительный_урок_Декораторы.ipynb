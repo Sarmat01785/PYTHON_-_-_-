{
 "cells": [
  {
   "cell_type": "markdown",
   "id": "fbc965b2-e8e4-43b5-b1c7-8eeeac4b51c2",
   "metadata": {},
   "source": [
    "# Декораторы в Python\n",
    "\n",
    "Декораторы позволяют изменить поведение функций или классов без изменения их исходного кода. \n",
    "Они работают как обёртки вокруг функций или классов, принимая одну функцию или класс и возвращая другую, \n",
    "которая обычно расширяет или изменяет поведение исходной функции или класса."
   ]
  },
  {
   "cell_type": "markdown",
   "id": "1f692936-2aa9-4593-b2de-32955308062f",
   "metadata": {},
   "source": [
    "### Пример декоратора для функций"
   ]
  },
  {
   "cell_type": "code",
   "execution_count": 3,
   "id": "934b5135-6cb7-485d-8540-d1c52ea5d83d",
   "metadata": {},
   "outputs": [],
   "source": [
    "def decorator_1(func):\n",
    "    \"\"\"Декоратор, который добавляет сообщения до и после вызова функции.\"\"\"\n",
    "    \n",
    "    def wrapper():\n",
    "        # Сообщение перед вызовом функции\n",
    "        print(\"До выполнения функции\")\n",
    "        \n",
    "        # Вызов декорируемой функции\n",
    "        func()\n",
    "        \n",
    "        # Сообщение после вызова функции\n",
    "        print(\"После выполнения функции\")\n",
    "    \n",
    "    return wrapper"
   ]
  },
  {
   "cell_type": "markdown",
   "id": "3c928a80-466e-4ccc-9597-19f06a212294",
   "metadata": {},
   "source": [
    "Применение декоратора к функции:"
   ]
  },
  {
   "cell_type": "code",
   "execution_count": 6,
   "id": "08eee5d2-d73f-4481-889f-3e0229fe730d",
   "metadata": {},
   "outputs": [],
   "source": [
    "@decorator_1\n",
    "def hello():\n",
    "    \"\"\"Функция, которая выводит приветствие.\"\"\"\n",
    "    print(\"Привет, мир!\")"
   ]
  },
  {
   "cell_type": "markdown",
   "id": "8253dfdc-0c1a-4633-a034-0def9ddbf029",
   "metadata": {},
   "source": [
    "Вызов функции с декоратором:"
   ]
  },
  {
   "cell_type": "code",
   "execution_count": 9,
   "id": "92a0e875-36a1-4406-8564-d69c4013619f",
   "metadata": {},
   "outputs": [
    {
     "name": "stdout",
     "output_type": "stream",
     "text": [
      "До выполнения функции\n",
      "Привет, мир!\n",
      "После выполнения функции\n"
     ]
    }
   ],
   "source": [
    "hello()"
   ]
  },
  {
   "cell_type": "markdown",
   "id": "ceefdf7d-c512-4814-a7af-b0756ea7ebb5",
   "metadata": {},
   "source": [
    "### Декораторы для классов\n",
    "\n",
    "Пример декоратора для классов:"
   ]
  },
  {
   "cell_type": "code",
   "execution_count": 12,
   "id": "a78ea827-fd16-4179-b036-9518aae13945",
   "metadata": {},
   "outputs": [],
   "source": [
    "def decorator(cls):\n",
    "    \"\"\"Декоратор, который добавляет дополнительный функционал к методам класса.\"\"\"\n",
    "    \n",
    "    class Wrapper:\n",
    "        def __init__(self, *args, **kwargs):\n",
    "            \"\"\"Инициализирует объект класса-обертки.\"\"\"\n",
    "            self.wrapped = cls(*args, **kwargs)\n",
    "            \n",
    "        def some_method(self):\n",
    "            \"\"\"Добавляет дополнительный функционал к методу some_method.\"\"\"\n",
    "            print(\"Дополнительный функционал\")\n",
    "            self.wrapped.some_method()\n",
    "    \n",
    "    return Wrapper"
   ]
  },
  {
   "cell_type": "markdown",
   "id": "10415764-b7cb-45dc-8675-408a4c67a8bc",
   "metadata": {},
   "source": [
    "Применение декоратора к классу:"
   ]
  },
  {
   "cell_type": "code",
   "execution_count": 15,
   "id": "fd8f1a50-77ed-4173-83e0-3076c23bdeaa",
   "metadata": {},
   "outputs": [],
   "source": [
    "@decorator\n",
    "class MyClass:\n",
    "    \"\"\"Класс, к которому применяется декоратор.\"\"\"\n",
    "    \n",
    "    def some_method(self):\n",
    "        \"\"\"Метод, который будет изменён декоратором.\"\"\"\n",
    "        print(\"Основной функционал\")"
   ]
  },
  {
   "cell_type": "markdown",
   "id": "6c2c71c7-ab59-4a28-bcec-bc4191d0d64b",
   "metadata": {},
   "source": [
    "Создание экземпляра класса с декоратором:"
   ]
  },
  {
   "cell_type": "code",
   "execution_count": 18,
   "id": "3c1601f4-dca1-476f-92fb-1e5b9ec89de5",
   "metadata": {},
   "outputs": [],
   "source": [
    "my_obj = MyClass()"
   ]
  },
  {
   "cell_type": "markdown",
   "id": "f90f75ad-26c4-4572-93a9-dda43861bc13",
   "metadata": {},
   "source": [
    "Вызов метода с декоратором:"
   ]
  },
  {
   "cell_type": "code",
   "execution_count": 21,
   "id": "9d89bf42-759b-46da-82be-802580f8c794",
   "metadata": {},
   "outputs": [
    {
     "name": "stdout",
     "output_type": "stream",
     "text": [
      "Дополнительный функционал\n",
      "Основной функционал\n"
     ]
    }
   ],
   "source": [
    "my_obj.some_method()"
   ]
  },
  {
   "cell_type": "markdown",
   "id": "db2bd875-9a38-45d9-82e1-e2486056bf65",
   "metadata": {},
   "source": [
    "### Заключение\n",
    "\n",
    "Декораторы — это мощный инструмент, позволяющий сделать код более модульным, гибким и переиспользуемым. Они упрощают добавление дополнительного функционала к существующему коду без его модификации."
   ]
  }
 ],
 "metadata": {
  "kernelspec": {
   "display_name": "Python 3 (ipykernel)",
   "language": "python",
   "name": "python3"
  },
  "language_info": {
   "codemirror_mode": {
    "name": "ipython",
    "version": 3
   },
   "file_extension": ".py",
   "mimetype": "text/x-python",
   "name": "python",
   "nbconvert_exporter": "python",
   "pygments_lexer": "ipython3",
   "version": "3.11.5"
  }
 },
 "nbformat": 4,
 "nbformat_minor": 5
}
