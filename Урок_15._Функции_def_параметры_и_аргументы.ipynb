{
 "cells": [
  {
   "cell_type": "markdown",
   "id": "69c8359c",
   "metadata": {},
   "source": [
    "## Определение и использование функций в Python\n",
    "\n",
    "В Python функции являются ключевым инструментом для создания модульного, высокоуровневого и читаемого кода. Ниже приведены примеры определения функций, использования параметров и аргументов, а также возвращения значений."
   ]
  },
  {
   "cell_type": "code",
   "execution_count": 1,
   "id": "497b6e64",
   "metadata": {},
   "outputs": [
    {
     "name": "stdout",
     "output_type": "stream",
     "text": [
      "4\n"
     ]
    }
   ],
   "source": [
    "# Определение функции для подсчета элементов в списке\n",
    "def count_elements(items):\n",
    "    \"\"\"\n",
    "    Возвращает количество элементов в переданном списке.\n",
    "    \n",
    "    :param items: список для подсчета элементов\n",
    "    :return: количество элементов в списке\n",
    "    \"\"\"\n",
    "    return len(items)\n",
    "\n",
    "# Пример вызова функции\n",
    "elements = [9, 8, 7, 6]\n",
    "print(count_elements(elements))  # Выведет: 4"
   ]
  },
  {
   "cell_type": "markdown",
   "id": "c9f3410d",
   "metadata": {},
   "source": [
    "## Функции с параметрами по умолчанию\n",
    "\n",
    "Функции могут иметь параметры по умолчанию, что позволяет вызывать их даже без передачи всех аргументов.\n"
   ]
  },
  {
   "cell_type": "code",
   "execution_count": 2,
   "id": "cbfe18e7",
   "metadata": {},
   "outputs": [
    {
     "name": "stdout",
     "output_type": "stream",
     "text": [
      "Привет, мир!\n",
      "Привет, Алексей!\n"
     ]
    }
   ],
   "source": [
    "# Определение функции с параметром по умолчанию\n",
    "def greet(name='мир'):\n",
    "    \"\"\"\n",
    "    Выводит приветствие.\n",
    "    \n",
    "    :param name: имя для приветствия, по умолчанию 'мир'\n",
    "    \"\"\"\n",
    "    print(f\"Привет, {name}!\")\n",
    "\n",
    "# Примеры вызова функции\n",
    "greet()  # Выведет: Привет, мир!\n",
    "greet(\"Алексей\")  # Выведет: Привет, Алексей!"
   ]
  },
  {
   "cell_type": "markdown",
   "id": "d810c413",
   "metadata": {},
   "source": [
    "## Функции возвращающие значения\n",
    "\n",
    "Функции в Python могут возвращать значения, которые затем можно использовать для дальнейших операций."
   ]
  },
  {
   "cell_type": "code",
   "execution_count": 3,
   "id": "474fc18f",
   "metadata": {},
   "outputs": [
    {
     "name": "stdout",
     "output_type": "stream",
     "text": [
      "5\n",
      "15\n"
     ]
    }
   ],
   "source": [
    "# Определение функции, возвращающей площадь прямоугольника\n",
    "def calculate_area(length, width=1):\n",
    "    \"\"\"\n",
    "    Возвращает площадь прямоугольника по заданным длине и ширине.\n",
    "    \n",
    "    :param length: длина прямоугольника\n",
    "    :param width: ширина прямоугольника, по умолчанию 1\n",
    "    :return: площадь прямоугольника\n",
    "    \"\"\"\n",
    "    return length * width\n",
    "\n",
    "# Примеры вызова функции\n",
    "print(calculate_area(5))  # Выведет: 5 (площадь квадрата)\n",
    "print(calculate_area(5, 3))  # Выведет: 15 (площадь прямоугольника)"
   ]
  },
  {
   "cell_type": "markdown",
   "id": "1ad78b6a",
   "metadata": {},
   "source": [
    "## Функции с необязательными параметрами и параметрами по умолчанию\n",
    "\n",
    "Можно комбинировать параметры по умолчанию и необязательные параметры для создания гибких функций."
   ]
  },
  {
   "cell_type": "code",
   "execution_count": 6,
   "id": "ab8c8a64",
   "metadata": {},
   "outputs": [
    {
     "name": "stdout",
     "output_type": "stream",
     "text": [
      "4\n",
      "(4, <class 'int'>)\n",
      "(3, <class 'int'>)\n"
     ]
    }
   ],
   "source": [
    "# Определение функции с необязательными параметрами\n",
    "def count_list(items, include_type=False, start_count=0):\n",
    "    \"\"\"\n",
    "    Подсчитывает количество элементов в списке и, опционально, возвращает тип первого элемента.\n",
    "    \n",
    "    :param items: список для подсчета элементов\n",
    "    :param include_type: флаг, указывающий на необходимость возвращения типа первого элемента\n",
    "    :param start_count: начальное значение счетчика\n",
    "    :return: количество элементов и, если include_type истина, тип первого элемента\n",
    "    \"\"\"\n",
    "    count = start_count + len(items)\n",
    "    if include_type and items:\n",
    "        item_type = type(items[0])\n",
    "        return count, item_type\n",
    "    return count\n",
    "\n",
    "# Определение списка 'numbers' перед использованием в функции\n",
    "numbers = [9, 8, 7, 6]\n",
    "\n",
    "# Примеры использования функции\n",
    "print(count_list(numbers))  # Выведет: 4\n",
    "print(count_list(numbers, include_type=True))  # Выведет: (4, <class 'int'>)\n",
    "print(count_list(numbers, include_type=True, start_count=-1))  # Выведет: (3, <class 'int'>)"
   ]
  },
  {
   "cell_type": "markdown",
   "id": "811393a6",
   "metadata": {},
   "source": [
    "##### P.S.      В Jupyter Notebook каждый блок кода и описание, что позволяет легко следить за логикой и обучением. Комментарии в коде помогают понять, что делает каждая строка, а docstrings описывают назначение функций, их параметры и возвращаемые значения."
   ]
  },
  {
   "cell_type": "markdown",
   "id": "83fadec5",
   "metadata": {},
   "source": [
    "- P.S. `Docstrings` в Python обычно используются для документирования кода непосредственно внутри определения функций, методов, классов и модулей."
   ]
  }
 ],
 "metadata": {
  "kernelspec": {
   "display_name": "Python 3 (ipykernel)",
   "language": "python",
   "name": "python3"
  },
  "language_info": {
   "codemirror_mode": {
    "name": "ipython",
    "version": 3
   },
   "file_extension": ".py",
   "mimetype": "text/x-python",
   "name": "python",
   "nbconvert_exporter": "python",
   "pygments_lexer": "ipython3",
   "version": "3.11.5"
  }
 },
 "nbformat": 4,
 "nbformat_minor": 5
}
