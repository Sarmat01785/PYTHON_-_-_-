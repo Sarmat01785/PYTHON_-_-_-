{
 "cells": [
  {
   "cell_type": "markdown",
   "id": "ca6d8b35",
   "metadata": {},
   "source": [
    "# Функции и область видимости переменных в Python\n",
    "\n",
    "В этом уроке мы узнаем о функциях и области видимости переменных в Python."
   ]
  },
  {
   "cell_type": "markdown",
   "id": "7848a24a",
   "metadata": {},
   "source": [
    "## Функции в программировании\n",
    "Функции — это переиспользуемые блоки кода, которые предназначены для выполнения конкретной задачи. Они позволяют нам разделить код на модули, сделать его более читаемым и избежать дублирования."
   ]
  },
  {
   "cell_type": "markdown",
   "id": "c81f38a3",
   "metadata": {},
   "source": [
    "### Преимущества использования функций\n",
    "- **Модульность:** Разделение программы на отдельные функции позволяет упростить управление и тестирование кода.\n",
    "- **Переиспользование:** Функции можно вызывать несколько раз, что способствует переиспользованию кода.\n",
    "- **Абстракция:** Функции позволяют сосредоточиться на выполнении задачи, не вдаваясь в детали реализации."
   ]
  },
  {
   "cell_type": "markdown",
   "id": "1f55a6a5",
   "metadata": {},
   "source": [
    "## Область видимости переменных\n",
    "Область видимости определяет, в какой части программы можно использовать ту или иную переменную."
   ]
  },
  {
   "cell_type": "markdown",
   "id": "cddf5cbc",
   "metadata": {},
   "source": [
    "### Типы областей видимости в Python\n",
    "- **Локальная область видимости:** Переменная, объявленная внутри функции, доступна только в этой функции.\n",
    "- **Глобальная область видимости:** Переменная, объявленная вне всех функций, доступна в любом месте программы."
   ]
  },
  {
   "cell_type": "code",
   "execution_count": 1,
   "id": "0cd0b457",
   "metadata": {},
   "outputs": [
    {
     "name": "stdout",
     "output_type": "stream",
     "text": [
      "10\n"
     ]
    }
   ],
   "source": [
    "# Глобальная переменная доступна в любом месте в коде\n",
    "x = 10\n",
    "\n",
    "def print_global_x():\n",
    "    \"\"\"\n",
    "    Эта функция выводит значение глобальной переменной x.\n",
    "    \"\"\"\n",
    "    # Доступ к глобальной переменной внутри функции\n",
    "    print(x)\n",
    "\n",
    "# Вызов функции, которая выводит значение глобальной переменной\n",
    "print_global_x()  # Выведет: 10"
   ]
  },
  {
   "cell_type": "code",
   "execution_count": 3,
   "id": "5ef72ea9",
   "metadata": {},
   "outputs": [
    {
     "name": "stdout",
     "output_type": "stream",
     "text": [
      "5\n"
     ]
    },
    {
     "ename": "NameError",
     "evalue": "name 'y' is not defined",
     "output_type": "error",
     "traceback": [
      "\u001b[1;31m---------------------------------------------------------------------------\u001b[0m",
      "\u001b[1;31mNameError\u001b[0m                                 Traceback (most recent call last)",
      "Cell \u001b[1;32mIn[3], line 13\u001b[0m\n\u001b[0;32m     10\u001b[0m print_local_y()  \u001b[38;5;66;03m# Выведет: 5\u001b[39;00m\n\u001b[0;32m     12\u001b[0m \u001b[38;5;66;03m# Попытка доступа к локальной переменной вне функции вызовет ошибку\u001b[39;00m\n\u001b[1;32m---> 13\u001b[0m \u001b[38;5;28mprint\u001b[39m(y)\n",
      "\u001b[1;31mNameError\u001b[0m: name 'y' is not defined"
     ]
    }
   ],
   "source": [
    "def print_local_y():\n",
    "    \"\"\"\n",
    "    Эта функция создает локальную переменную y и выводит ее значение.\n",
    "    Локальная переменная y доступна только внутри этой функции.\n",
    "    \"\"\"\n",
    "    y = 5\n",
    "    print(y)\n",
    "\n",
    "# Вызов функции, которая выводит значение локальной переменной\n",
    "print_local_y()  # Выведет: 5\n",
    "\n",
    "# Попытка доступа к локальной переменной вне функции вызовет ошибку\n",
    "print(y)  # NameError: name 'y' is not defined"
   ]
  },
  {
   "cell_type": "markdown",
   "id": "f2b9480a",
   "metadata": {},
   "source": [
    "## Использование global для изменения глобальных переменных:"
   ]
  },
  {
   "cell_type": "code",
   "execution_count": 4,
   "id": "5b4dd85d",
   "metadata": {},
   "outputs": [
    {
     "name": "stdout",
     "output_type": "stream",
     "text": [
      "6\n",
      "6\n"
     ]
    }
   ],
   "source": [
    "# Инициализация глобальной переменной z\n",
    "z = 5\n",
    "\n",
    "def modify_global_z():\n",
    "    \"\"\"\n",
    "    Эта функция изменяет глобальную переменную z.\n",
    "    \"\"\"\n",
    "    global z\n",
    "    # Изменение значения глобальной переменной z\n",
    "    z += 1\n",
    "    print(z)\n",
    "\n",
    "# Изменение и печать глобальной переменной\n",
    "modify_global_z()  # Выведет: 6\n",
    "print(z)  # Выведет: 6"
   ]
  },
  {
   "cell_type": "markdown",
   "id": "1617bc54",
   "metadata": {},
   "source": [
    "## Использование nonlocal во вложенных функциях:"
   ]
  },
  {
   "cell_type": "code",
   "execution_count": 5,
   "id": "2417cacf",
   "metadata": {},
   "outputs": [
    {
     "name": "stdout",
     "output_type": "stream",
     "text": [
      "100\n",
      "100\n"
     ]
    }
   ],
   "source": [
    "def outer_function():\n",
    "    \"\"\"\n",
    "    Эта функция содержит вложенную функцию, которая изменяет переменную\n",
    "    из обрамляющей области видимости.\n",
    "    \"\"\"\n",
    "    outer_var = 10\n",
    "\n",
    "    def inner_function():\n",
    "        nonlocal outer_var\n",
    "        # Изменение значения outer_var во вложенной функции\n",
    "        outer_var = 100\n",
    "        print(outer_var)\n",
    "\n",
    "    # Вызов вложенной функции\n",
    "    inner_function()\n",
    "    \n",
    "    # Печать outer_var после вызова inner_function показывает изменение значения\n",
    "    print(outer_var)\n",
    "\n",
    "# Вызов внешней функции покажет изменение значения outer_var\n",
    "outer_function()  # Выведет: 100, 100"
   ]
  }
 ],
 "metadata": {
  "kernelspec": {
   "display_name": "Python 3 (ipykernel)",
   "language": "python",
   "name": "python3"
  },
  "language_info": {
   "codemirror_mode": {
    "name": "ipython",
    "version": 3
   },
   "file_extension": ".py",
   "mimetype": "text/x-python",
   "name": "python",
   "nbconvert_exporter": "python",
   "pygments_lexer": "ipython3",
   "version": "3.11.5"
  }
 },
 "nbformat": 4,
 "nbformat_minor": 5
}
