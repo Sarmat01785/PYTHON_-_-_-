{
 "cells": [
  {
   "cell_type": "markdown",
   "metadata": {},
   "source": [
    "# Строки и методы str в Python\n",
    "\n",
    "В `Python` строка - это объект класса `str`. Их можно создавать, используя кавычки:"
   ]
  },
  {
   "cell_type": "code",
   "execution_count": 1,
   "metadata": {},
   "outputs": [
    {
     "name": "stdout",
     "output_type": "stream",
     "text": [
      "<class 'str'>\n"
     ]
    }
   ],
   "source": [
    "text = \"Привет, мир!\"\n",
    "print(type(text))  # <class 'str'>"
   ]
  },
  {
   "cell_type": "markdown",
   "metadata": {},
   "source": [
    "## Доступ к символам строки\n",
    "\n",
    "В Python индексация начинается с 0. Можно получить доступ к символам строки, используя индексацию:"
   ]
  },
  {
   "cell_type": "code",
   "execution_count": 2,
   "metadata": {},
   "outputs": [
    {
     "name": "stdout",
     "output_type": "stream",
     "text": [
      "П\n",
      "т\n"
     ]
    }
   ],
   "source": [
    "print(text[0])  # 'П' - первый символ строки\n",
    "print(text[5])  # 'т' - шестой символ строки"
   ]
  },
  {
   "cell_type": "markdown",
   "metadata": {},
   "source": [
    "## Срезы строк\n",
    "\n",
    "Срезы позволяют получать подстроки:"
   ]
  },
  {
   "cell_type": "code",
   "execution_count": 3,
   "metadata": {},
   "outputs": [
    {
     "name": "stdout",
     "output_type": "stream",
     "text": [
      "риве\n",
      "Привет,\n",
      " мир!\n"
     ]
    }
   ],
   "source": [
    "print(text[1:5])  # 'риве' - срез с 2-го по 5-й символы\n",
    "print(text[:7])  # 'Привет,' - срез с начала до 7-го символа\n",
    "print(text[7:])  # 'мир!' - срез с 8-го символа до конца"
   ]
  },
  {
   "cell_type": "markdown",
   "metadata": {},
   "source": [
    "## Длина строки\n",
    "\n",
    "Функция `len()` возвращает количество символов в строке:"
   ]
  },
  {
   "cell_type": "code",
   "execution_count": 4,
   "metadata": {},
   "outputs": [
    {
     "name": "stdout",
     "output_type": "stream",
     "text": [
      "12\n"
     ]
    }
   ],
   "source": [
    "print(len(text))  # 12 - длина строки \"Привет, мир!\""
   ]
  },
  {
   "cell_type": "markdown",
   "metadata": {},
   "source": [
    "## Методы строк\n",
    "\n",
    "Методы строк позволяют выполнять различные операции над строками:"
   ]
  },
  {
   "cell_type": "code",
   "execution_count": 5,
   "metadata": {},
   "outputs": [
    {
     "name": "stdout",
     "output_type": "stream",
     "text": [
      "ПРИВЕТ, МИР!\n",
      "привет, мир!\n",
      "Привет, Вселенная!\n"
     ]
    }
   ],
   "source": [
    "print(text.upper())  # 'ПРИВЕТ, МИР!' - все символы в верхнем регистре\n",
    "print(text.lower())  # 'привет, мир!' - все символы в нижнем регистре\n",
    "print(text.replace(\"мир\", \"Вселенная\"))  # 'Привет, Вселенная!' - замена подстроки"
   ]
  },
  {
   "cell_type": "markdown",
   "metadata": {},
   "source": [
    "## Дополнительные примеры работы со строками\n",
    "\n",
    "Примеры включают проверку наличия подстроки в строке, преобразование первого символа в верхний регистр, замену одного символа или подстроки на другую, разбиение строки на список подстрок по разделителю, чтение из файла и удаление нежелательных символов:"
   ]
  },
  {
   "cell_type": "code",
   "execution_count": 6,
   "metadata": {},
   "outputs": [
    {
     "name": "stdout",
     "output_type": "stream",
     "text": [
      "True\n",
      "False\n"
     ]
    }
   ],
   "source": [
    "# Проверка наличия подстроки в строке\n",
    "s = 'stroka texta'\n",
    "print('str' in s)  # True - 'str' есть в строке s\n",
    "print('sto' in s)  # False - 'sto' нет в строке s"
   ]
  },
  {
   "cell_type": "code",
   "execution_count": 7,
   "metadata": {},
   "outputs": [
    {
     "name": "stdout",
     "output_type": "stream",
     "text": [
      "Stroka texta\n"
     ]
    }
   ],
   "source": [
    "# Преобразование первого символа в верхний регистр\n",
    "s = \"stroka texta\"\n",
    "print(s.capitalize())  # 'Stroka texta' - первый символ в верхнем регистре"
   ]
  },
  {
   "cell_type": "code",
   "execution_count": 8,
   "metadata": {},
   "outputs": [
    {
     "name": "stdout",
     "output_type": "stream",
     "text": [
      "C:\\Users\\PyHS\\Desktops\\s.py\n"
     ]
    }
   ],
   "source": [
    "# Замена одного символа или подстроки на другую\n",
    "path = 'C:/Users/PyHS/Desktops/s.py'\n",
    "path_1 = path.replace('/', '\\\\')  # Замена всех '/' на '\\'\n",
    "print(path_1)  # 'C:\\Users\\PyHS\\Desktops\\s.py'"
   ]
  },
  {
   "cell_type": "code",
   "execution_count": 9,
   "metadata": {},
   "outputs": [
    {
     "name": "stdout",
     "output_type": "stream",
     "text": [
      "['C:', 'Users', 'PyHS', 'Desktops', 's.py']\n",
      "s.py\n"
     ]
    }
   ],
   "source": [
    "# Разбиение строки на список подстрок по разделителю\n",
    "r = path_1.split('\\\\')  # Разбиение строки по '\\'\n",
    "print(r)  # ['C:', 'Users', 'PyHS', 'Desktops', 's.py']\n",
    "print(r[-1])  # 's.py' - последний элемент списка, имя файла"
   ]
  },
  {
   "cell_type": "code",
   "execution_count": null,
   "metadata": {},
   "outputs": [],
   "source": [
    "# Чтение из файла и удаление нежелательных символов\n",
    "with open(\"text.txt\", encoding=\"utf-8\") as f:\n",
    "    text = f.read()\n",
    "list_znk = [\"(\", \")\", '\"', \"\\n\"]\n",
    "for znk in list_znk:\n",
    "    text = text.replace(znk, \" \")\n",
    "t = text.split()\n",
    "print(t)  # Вывод списка слов без скобок, кавычек и символов"
   ]
  }
 ],
 "metadata": {
  "kernelspec": {
   "display_name": "Python 3 (ipykernel)",
   "language": "python",
   "name": "python3"
  }
 },
 "nbformat": 4,
 "nbformat_minor": 2
}
