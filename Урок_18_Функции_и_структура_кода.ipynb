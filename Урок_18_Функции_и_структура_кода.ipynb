{
 "cells": [
  {
   "cell_type": "markdown",
   "id": "846452a9",
   "metadata": {},
   "source": [
    "# Конспект: Функции и структура кода в Python"
   ]
  },
  {
   "cell_type": "markdown",
   "id": "cce216df",
   "metadata": {},
   "source": [
    "## Передача значений между функциями\n",
    "\n",
    "Передача значений между функциями в Python осуществляется через возврат значений функциями и их последующую передачу в другие функции. Это позволяет строить модульные и легко читаемые программы.\n",
    "\n",
    "В следующих примерах мы рассмотрим, как функции могут обмениваться данными и использовать результаты друг друга."
   ]
  },
  {
   "cell_type": "code",
   "execution_count": 3,
   "id": "6e02efbe",
   "metadata": {},
   "outputs": [
    {
     "name": "stdout",
     "output_type": "stream",
     "text": [
      "35\n"
     ]
    }
   ],
   "source": [
    "# Функция, возвращающая квадрат числа\n",
    "def square(number):\n",
    "    \"\"\"\n",
    "    Возвращает квадрат переданного числа.\n",
    "    \n",
    "    Параметры:\n",
    "    number (int, float): Число для возведения в квадрат.\n",
    "    \n",
    "    Возвращает:\n",
    "    int, float: Квадрат числа.\n",
    "    \"\"\"\n",
    "    return number ** 2\n",
    "\n",
    "# Функция, вычисляющая сумму двух чисел\n",
    "def calculate_sum(a, b):\n",
    "    \"\"\"\n",
    "    Возвращает сумму двух чисел.\n",
    "    \n",
    "    Параметры:\n",
    "    a (int, float): Первое слагаемое.\n",
    "    b (int, float): Второе слагаемое.\n",
    "    \n",
    "    Возвращает:\n",
    "    int, float: Сумма a и b.\n",
    "    \"\"\"\n",
    "    return a + b\n",
    "\n",
    "# Пример использования функций square и calculate_sum\n",
    "result = square(5)  # Результат вызова функции square с аргументом 5\n",
    "final_result = calculate_sum(result, 10)  # Результат вызова функции calculate_sum с результатом square и числом 10\n",
    "\n",
    "print(final_result)  # Выведет 35"
   ]
  },
  {
   "cell_type": "code",
   "execution_count": 4,
   "id": "2b95cfe5",
   "metadata": {},
   "outputs": [],
   "source": [
    "import math"
   ]
  },
  {
   "cell_type": "code",
   "execution_count": 5,
   "id": "adf04ac3",
   "metadata": {},
   "outputs": [
    {
     "name": "stdout",
     "output_type": "stream",
     "text": [
      "Введите радиус цилиндра в см: 5\n",
      "Введите высоту цилиндра в см: 12\n",
      "Введите плотность материала цилиндра в г/см^3: 5\n",
      "Объем цилиндра: 942.48 см3\n",
      "Масса цилиндра: 4.71 кг\n"
     ]
    }
   ],
   "source": [
    "# Функция для вычисления объема цилиндра\n",
    "def volume(radius, height):\n",
    "    \"\"\"\n",
    "    Вычисляет и возвращает объем цилиндра на основе его радиуса и высоты.\n",
    "    \n",
    "    Параметры:\n",
    "    radius (float): Радиус цилиндра.\n",
    "    height (float): Высота цилиндра.\n",
    "    \n",
    "    Возвращает:\n",
    "    float: Объем цилиндра.\n",
    "    \"\"\"\n",
    "    base_area = math.pi * radius ** 2\n",
    "    return base_area * height\n",
    "\n",
    "# Функция для вычисления массы цилиндра\n",
    "def massa(volume, density):\n",
    "    \"\"\"\n",
    "    Вычисляет и возвращает массу цилиндра на основе его объема и плотности материала.\n",
    "    \n",
    "    Параметры:\n",
    "    volume (float): Объем цилиндра.\n",
    "    density (float): Плотность материала цилиндра в г/см^3.\n",
    "    \n",
    "    Возвращает:\n",
    "    float: Масса цилиндра в кг.\n",
    "    \"\"\"\n",
    "    return volume * density / 1000  # Перевод плотности из г/см^3 в кг\n",
    "\n",
    "# Интерактивное получение данных от пользователя и расчеты\n",
    "r = float(input(\"Введите радиус цилиндра в см: \"))\n",
    "h = float(input(\"Введите высоту цилиндра в см: \"))\n",
    "density = float(input(\"Введите плотность материала цилиндра в г/см^3: \"))\n",
    "\n",
    "cylinder_volume = volume(r, h)\n",
    "cylinder_mass = massa(cylinder_volume, density)\n",
    "\n",
    "print(f\"Объем цилиндра: {cylinder_volume:.2f} см3\")\n",
    "print(f\"Масса цилиндра: {cylinder_mass:.2f} кг\")"
   ]
  }
 ],
 "metadata": {
  "kernelspec": {
   "display_name": "Python 3 (ipykernel)",
   "language": "python",
   "name": "python3"
  },
  "language_info": {
   "codemirror_mode": {
    "name": "ipython",
    "version": 3
   },
   "file_extension": ".py",
   "mimetype": "text/x-python",
   "name": "python",
   "nbconvert_exporter": "python",
   "pygments_lexer": "ipython3",
   "version": "3.11.5"
  }
 },
 "nbformat": 4,
 "nbformat_minor": 5
}
