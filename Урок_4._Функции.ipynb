{
 "cells": [
  {
   "cell_type": "markdown",
   "metadata": {},
   "source": [
    "# Погружение в Python. Часть 1 (лекции)\n",
    "\n",
    "## Урок 4. Функции"
   ]
  },
  {
   "cell_type": "markdown",
   "metadata": {},
   "source": [
    "## Введение\n",
    "\n",
    "Функция в программировании — это фрагмент кода, к которому можно обратиться из другого места программы. В Python функции могут быть как встроенными, так и пользовательскими. Эта лекция сосредоточена на создании пользовательских функций и использовании встроенных.\n",
    "\n",
    "## Определение функции\n",
    "\n",
    "Для создания функции используется ключевое слово `def`, за которым следует имя функции, круглые скобки и двоеточие. После этого начинается тело функции, которое должно быть отступлено на четыре пробела.\n",
    "\n",
    "```python\n",
    "def my_func():\n",
    "    pass\n"
   ]
  },
  {
   "cell_type": "markdown",
   "metadata": {},
   "source": [
    "Здесь `my_func` — это функция, которая ничего не делает, так как содержит лишь ключевое слово `pass`, означающее, что операция пропускается."
   ]
  },
  {
   "cell_type": "markdown",
   "metadata": {},
   "source": [
    "## Аргументы функции\n",
    "\n",
    "Функции могут принимать на вход аргументы. Пример функции, решающей квадратные уравнения:"
   ]
  },
  {
   "cell_type": "code",
   "execution_count": 1,
   "metadata": {},
   "outputs": [],
   "source": [
    "def quadratic_equations(a: int | float, b: int | float, c: int | float) -> tuple[float, float] | float | str:\n",
    "    \"\"\"\n",
    "    Решает квадратное уравнение вида ax^2 + bx + c = 0.\n",
    "\n",
    "    Аргументы:\n",
    "    a, b, c — коэффициенты квадратного уравнения.\n",
    "\n",
    "    Возвращает:\n",
    "    Два корня, один корень или строку 'Нет решений'.\n",
    "    \"\"\"\n",
    "    d = b ** 2 - 4 * a * c\n",
    "    if d > 0:\n",
    "        return (-b + d ** 0.5) / (2 * a), (-b - d ** 0.5) / (2 * a)\n",
    "    elif d == 0:\n",
    "        return -b / (2 * a)\n",
    "    else:\n",
    "        return 'Нет решений'\n"
   ]
  },
  {
   "cell_type": "markdown",
   "metadata": {},
   "source": [
    "Здесь используются аннотации типов, указывающие, что на вход подаются числа, а на выходе может быть кортеж из двух значений, одно значение или строка."
   ]
  },
  {
   "cell_type": "markdown",
   "metadata": {},
   "source": [
    "## Изменяемые и неизменяемые аргументы\n",
    "\n",
    "Неизменяемые объекты не изменяются внутри функции, а изменяемые могут быть изменены. Примеры:\n",
    "\n",
    "## Пример с неизменяемым аргументом (число)"
   ]
  },
  {
   "cell_type": "code",
   "execution_count": 5,
   "metadata": {},
   "outputs": [
    {
     "name": "stdout",
     "output_type": "stream",
     "text": [
      "In main a = 42\n",
      "In func a = 43\n",
      "a = 42\tz = 43\n"
     ]
    }
   ],
   "source": [
    "def no_mutable(a: int) -> int:\n",
    "    \"\"\"\n",
    "    Увеличивает переданное число на 1.\n",
    "\n",
    "    Аргументы:\n",
    "    a — число для увеличения.\n",
    "\n",
    "    Возвращает:\n",
    "    Измененное значение.\n",
    "    \"\"\"\n",
    "    a += 1\n",
    "    print(f'In func {a = }')\n",
    "    return a\n",
    "\n",
    "a = 42\n",
    "print(f'In main {a = }')\n",
    "z = no_mutable(a)\n",
    "print(f'{a = }\\t{z = }')"
   ]
  },
  {
   "cell_type": "markdown",
   "metadata": {},
   "source": [
    "## Пример с изменяемым аргументом (список)"
   ]
  },
  {
   "cell_type": "code",
   "execution_count": 7,
   "metadata": {},
   "outputs": [
    {
     "name": "stdout",
     "output_type": "stream",
     "text": [
      "In main my_list = [2, 4, 6, 8]\n",
      "In func data = [3, 5, 7, 9]\n",
      "my_list = [3, 5, 7, 9]\tnew_list = [3, 5, 7, 9]\n"
     ]
    }
   ],
   "source": [
    "def mutable(data: list[int]) -> list[int]:\n",
    "    \"\"\"\n",
    "    Увеличивает каждый элемент списка на 1.\n",
    "\n",
    "    Аргументы:\n",
    "    data — список целых чисел.\n",
    "\n",
    "    Возвращает:\n",
    "    Измененный список.\n",
    "    \"\"\"\n",
    "    for i, item in enumerate(data):\n",
    "        data[i] = item + 1\n",
    "    print(f'In func {data = }')\n",
    "    return data\n",
    "\n",
    "my_list = [2, 4, 6, 8]\n",
    "print(f'In main {my_list = }')\n",
    "new_list = mutable(my_list)\n",
    "print(f'{my_list = }\\t{new_list = }')"
   ]
  },
  {
   "cell_type": "markdown",
   "metadata": {},
   "source": [
    "## Возврат значения\n",
    "\n",
    "Функция может возвращать значение с помощью ключевого слова `return`."
   ]
  },
  {
   "cell_type": "code",
   "execution_count": 10,
   "metadata": {},
   "outputs": [],
   "source": [
    "def quadratic_equations(a, b, c):\n",
    "    \"\"\"\n",
    "    Решает квадратное уравнение вида ax^2 + bx + c = 0.\n",
    "\n",
    "    Аргументы:\n",
    "    a, b, c — коэффициенты квадратного уравнения.\n",
    "\n",
    "    Возвращает:\n",
    "    Два корня, один корень или None, если решений нет.\n",
    "    \"\"\"\n",
    "    d = b ** 2 - 4 * a * c\n",
    "    if d > 0:\n",
    "        return (-b + d ** 0.5) / (2 * a), (-b - d ** 0.5) / (2 * a)\n",
    "    if d == 0:\n",
    "        return -b / (2 * a)\n",
    "    return None\n"
   ]
  },
  {
   "cell_type": "markdown",
   "metadata": {},
   "source": [
    "## Значения по умолчанию\n",
    "\n",
    "Функции могут содержать значения по умолчанию для своих параметров:"
   ]
  },
  {
   "cell_type": "code",
   "execution_count": 12,
   "metadata": {},
   "outputs": [],
   "source": [
    "def quadratic_equations(a, b=0, c=0):\n",
    "    \"\"\"\n",
    "    Решает квадратное уравнение вида ax^2 + bx + c = 0.\n",
    "    b и c имеют значения по умолчанию 0.\n",
    "\n",
    "    Аргументы:\n",
    "    a — коэффициент при x^2.\n",
    "    b — коэффициент при x.\n",
    "    c — свободный член.\n",
    "\n",
    "    Возвращает:\n",
    "    Два корня, один корень или None, если решений нет.\n",
    "    \"\"\"\n",
    "    d = b ** 2 - 4 * a * c\n",
    "    if d > 0:\n",
    "        return (-b + d ** 0.5) / (2 * a), (-b - d ** 0.5) / (2 * a)\n",
    "    if d == 0:\n",
    "        return -b / (2 * a)"
   ]
  },
  {
   "cell_type": "markdown",
   "metadata": {},
   "source": [
    "## Изменяемый объект как значение по умолчанию\n",
    "\n",
    "Изменяемые объекты, такие как списки, не следует использовать в качестве значений по умолчанию:"
   ]
  },
  {
   "cell_type": "code",
   "execution_count": 14,
   "metadata": {},
   "outputs": [],
   "source": [
    "def from_one_to_n(n, data=None):\n",
    "    \"\"\"\n",
    "    Создает список чисел от 1 до n.\n",
    "\n",
    "    Аргументы:\n",
    "    n — конечное значение.\n",
    "    data — начальный список, если не передан, создается новый.\n",
    "\n",
    "    Возвращает:\n",
    "    Список чисел от 1 до n.\n",
    "    \"\"\"\n",
    "    if data is None:\n",
    "        data = []\n",
    "    for i in range(1, n + 1):\n",
    "        data.append(i)\n",
    "    return data"
   ]
  },
  {
   "cell_type": "markdown",
   "metadata": {},
   "source": [
    "## Позиционные и ключевые параметры\n",
    "\n",
    "Функции могут принимать параметры как позиционно, так и по имени:"
   ]
  },
  {
   "cell_type": "code",
   "execution_count": 15,
   "metadata": {},
   "outputs": [],
   "source": [
    "def func(positional_only_parameters, /, positional_or_keyword_parameters, *, keyword_only_parameters):\n",
    "    \"\"\"\n",
    "    Демонстрация позиции и ключевых параметров.\n",
    "\n",
    "    Аргументы:\n",
    "    positional_only_parameters — позиционные параметры.\n",
    "    positional_or_keyword_parameters — могут быть переданы как позиционно, так и по имени.\n",
    "    keyword_only_parameters — только ключевые параметры.\n",
    "    \"\"\"\n",
    "    pass"
   ]
  },
  {
   "cell_type": "markdown",
   "metadata": {},
   "source": [
    "Примеры:"
   ]
  },
  {
   "cell_type": "code",
   "execution_count": 17,
   "metadata": {},
   "outputs": [],
   "source": [
    "def standard_arg(arg):\n",
    "    \"\"\"\n",
    "    Демонстрация стандартного аргумента.\n",
    "    \"\"\"\n",
    "    print(arg)\n",
    "\n",
    "def pos_only_arg(arg, /):\n",
    "    \"\"\"\n",
    "    Демонстрация только позиционного аргумента.\n",
    "    \"\"\"\n",
    "    print(arg)\n",
    "\n",
    "def kwd_only_arg(*, arg):\n",
    "    \"\"\"\n",
    "    Демонстрация только ключевого аргумента.\n",
    "    \"\"\"\n",
    "    print(arg)\n",
    "\n",
    "def combined_example(pos_only, /, standard, *, kwd_only):\n",
    "    \"\"\"\n",
    "    Демонстрация комбинированного использования различных видов аргументов.\n",
    "    \"\"\"\n",
    "    print(pos_only, standard, kwd_only)\n"
   ]
  },
  {
   "cell_type": "markdown",
   "metadata": {},
   "source": [
    "## Области видимости: `global` и `nonlocal`\n",
    "\n",
    "### `global`\n",
    "\n",
    "Ключевое слово `global` позволяет изменять значение глобальной переменной внутри функции. Без использования `global` переменная внутри функции считается локальной.\n",
    "\n",
    "Пример:\n"
   ]
  },
  {
   "cell_type": "code",
   "execution_count": 19,
   "metadata": {},
   "outputs": [
    {
     "name": "stdout",
     "output_type": "stream",
     "text": [
      "Before: 10\n",
      "After: 20\n"
     ]
    }
   ],
   "source": [
    "x = 10\n",
    "\n",
    "def modify_global():\n",
    "    global x\n",
    "    x = 20\n",
    "\n",
    "print(f'Before: {x}')\n",
    "modify_global()\n",
    "print(f'After: {x}')"
   ]
  },
  {
   "cell_type": "markdown",
   "metadata": {},
   "source": [
    "В этом примере переменная x изменяется внутри функции modify_global, и изменение отражается на глобальной переменной x."
   ]
  },
  {
   "cell_type": "markdown",
   "metadata": {},
   "source": [
    "### `nonlocal`\n",
    "Ключевое слово `nonlocal` используется для изменения переменной, находящейся в объемлющей функции, но не в глобальной области видимости.\n",
    "\n",
    "Пример:"
   ]
  },
  {
   "cell_type": "code",
   "execution_count": 20,
   "metadata": {},
   "outputs": [
    {
     "name": "stdout",
     "output_type": "stream",
     "text": [
      "After inner: 10\n"
     ]
    }
   ],
   "source": [
    "def outer():\n",
    "    x = 5\n",
    "    \n",
    "    def inner():\n",
    "        nonlocal x\n",
    "        x = 10\n",
    "    \n",
    "    inner()\n",
    "    print(f'After inner: {x}')\n",
    "\n",
    "outer()"
   ]
  },
  {
   "cell_type": "markdown",
   "metadata": {},
   "source": [
    "В этом примере функция `inner` изменяет значение переменной `x`, которая определена в объемлющей функции `outer`."
   ]
  },
  {
   "cell_type": "markdown",
   "metadata": {},
   "source": [
    "## Доступ к константам\n",
    "\n",
    "В Python принято использовать заглавные буквы для обозначения констант, хотя механизмов, запрещающих их изменение, нет. Константы часто объявляются в начале программы или модуля.\n",
    "\n",
    "Пример:"
   ]
  },
  {
   "cell_type": "code",
   "execution_count": 23,
   "metadata": {},
   "outputs": [
    {
     "name": "stdout",
     "output_type": "stream",
     "text": [
      "Area of circle with radius 5: 78.53975\n"
     ]
    }
   ],
   "source": [
    "PI = 3.14159\n",
    "\n",
    "def area_of_circle(radius):\n",
    "    return PI * (radius ** 2)\n",
    "\n",
    "print(f'Area of circle with radius 5: {area_of_circle(5)}')"
   ]
  },
  {
   "cell_type": "markdown",
   "metadata": {},
   "source": [
    "В этом примере `PI` — это константа, которую используют для вычисления площади круга."
   ]
  },
  {
   "cell_type": "markdown",
   "metadata": {},
   "source": [
    "## Анонимная функция `lambda`\n",
    "\n",
    "`lambda` выражения позволяют создавать небольшие анонимные функции. Они могут иметь любое количество аргументов, но содержат только одно выражение.\n",
    "\n",
    "Пример:"
   ]
  },
  {
   "cell_type": "code",
   "execution_count": 24,
   "metadata": {},
   "outputs": [
    {
     "name": "stdout",
     "output_type": "stream",
     "text": [
      "Add 2 and 3: 5\n"
     ]
    }
   ],
   "source": [
    "add = lambda x, y: x + y\n",
    "print(f'Add 2 and 3: {add(2, 3)}')"
   ]
  },
  {
   "cell_type": "markdown",
   "metadata": {},
   "source": [
    "Функция `add` — это анонимная функция, которая принимает два аргумента и возвращает их сумму. `lambda` функции полезны в тех случаях, когда \n",
    "\n",
    "нужно создать небольшую функцию на месте."
   ]
  },
  {
   "cell_type": "markdown",
   "metadata": {},
   "source": [
    "### Пример использования с функцией `sorted`:"
   ]
  },
  {
   "cell_type": "code",
   "execution_count": 26,
   "metadata": {},
   "outputs": [
    {
     "name": "stdout",
     "output_type": "stream",
     "text": [
      "Sorted by y-coordinate: [(4, 1), (2, 3), (1, 5)]\n"
     ]
    }
   ],
   "source": [
    "points = [(2, 3), (4, 1), (1, 5)]\n",
    "sorted_points = sorted(points, key=lambda point: point[1])\n",
    "print(f'Sorted by y-coordinate: {sorted_points}')"
   ]
  },
  {
   "cell_type": "markdown",
   "metadata": {},
   "source": [
    "## Документирование кода функций\n",
    "\n",
    "Для документирования функций в Python используются строки документации, или `docstrings`. Они помогают объяснить, что делает функция, какие принимает параметры и что возвращает.\n",
    "\n",
    "Пример:"
   ]
  },
  {
   "cell_type": "code",
   "execution_count": 28,
   "metadata": {},
   "outputs": [],
   "source": [
    "def quadratic_equations(a: int | float, b: int | float, c: int | float) -> tuple[float, float] | float | str:\n",
    "    \"\"\"\n",
    "    Решает квадратное уравнение вида ax^2 + bx + c = 0.\n",
    "\n",
    "    Аргументы:\n",
    "    a (int | float): Коэффициент при x^2.\n",
    "    b (int | float): Коэффициент при x.\n",
    "    c (int | float): Свободный член.\n",
    "\n",
    "    Возвращает:\n",
    "    tuple[float, float]: Два корня, если уравнение имеет два решения.\n",
    "    float: Один корень, если уравнение имеет одно решение.\n",
    "    str: 'Нет решений', если у уравнения нет решений.\n",
    "    \"\"\"\n",
    "    d = b ** 2 - 4 * a * c\n",
    "    if d > 0:\n",
    "        return (-b + d ** 0.5) / (2 * a), (-b - d ** 0.5) / (2 * a)\n",
    "    elif d == 0:\n",
    "        return -b / (2 * a)\n",
    "    else:\n",
    "        return 'Нет решений'"
   ]
  },
  {
   "cell_type": "markdown",
   "metadata": {},
   "source": [
    "## Функции \"из коробки\"\n",
    "\n",
    "Python предоставляет множество встроенных функций, которые можно использовать без дополнительного импорта. Это включает функции для работы с числами, строками, списками и многим другим.\n",
    "\n",
    "Примеры встроенных функций:\n",
    "\n",
    "- `len()`: Возвращает длину объекта.\n",
    "\n",
    "- `sum()`: Возвращает сумму элементов итерируемого объекта.\n",
    "\n",
    "- `max()`: Возвращает максимальный элемент.\n",
    "\n",
    "- `min()`: Возвращает минимальный элемент.\n",
    "\n",
    "- `abs()`: Возвращает абсолютное значение числа.\n",
    "\n",
    "- `round()`: Округляет число до ближайшего целого или до указанного количества знаков после запятой.\n",
    "\n",
    "Примеры:"
   ]
  },
  {
   "cell_type": "code",
   "execution_count": 32,
   "metadata": {},
   "outputs": [
    {
     "name": "stdout",
     "output_type": "stream",
     "text": [
      "Length of list: 5\n",
      "Sum of list: 15\n",
      "Maximum: 5\n",
      "Minimum: 1\n",
      "Absolute value of -10: 10\n",
      "Round 5.678 to 2 decimal places: 5.68\n"
     ]
    }
   ],
   "source": [
    "numbers = [2, 3, 1, 5, 4]\n",
    "print(f'Length of list: {len(numbers)}')\n",
    "print(f'Sum of list: {sum(numbers)}')\n",
    "print(f'Maximum: {max(numbers)}')\n",
    "print(f'Minimum: {min(numbers)}')\n",
    "print(f'Absolute value of -10: {abs(-10)}')\n",
    "print(f'Round 5.678 to 2 decimal places: {round(5.678, 2)}')\n"
   ]
  }
 ],
 "metadata": {
  "kernelspec": {
   "display_name": "Python 3 (ipykernel)",
   "language": "python",
   "name": "python3"
  },
  "language_info": {
   "codemirror_mode": {
    "name": "ipython",
    "version": 3
   },
   "file_extension": ".py",
   "mimetype": "text/x-python",
   "name": "python",
   "nbconvert_exporter": "python",
   "pygments_lexer": "ipython3",
   "version": "3.11.5"
  }
 },
 "nbformat": 4,
 "nbformat_minor": 2
}
