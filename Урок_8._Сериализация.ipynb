{
 "cells": [
  {
   "cell_type": "markdown",
   "metadata": {},
   "source": [
    "# Лекция 8: Погружение в Python. Сериализация\n",
    "\n",
    "## Введение\n",
    "\n",
    "Сериализация — это процесс преобразования объекта в формат, который можно сохранить в файл, передать по сети или сохранить в базе данных. В Python есть несколько способов сериализации данных, включая `JSON`, `CSV` и `Pickle`. На этой лекции мы рассмотрим, как и когда использовать каждый из этих методов."
   ]
  },
  {
   "cell_type": "markdown",
   "metadata": {},
   "source": [
    "## Термины лекции\n",
    "\n",
    "- Сериализация — процесс преобразования объекта в поток байтов или текстовый формат для хранения или передачи.\n",
    "\n",
    "- Десериализация — процесс восстановления объекта из потока байтов или текстового формата."
   ]
  },
  {
   "cell_type": "markdown",
   "metadata": {},
   "source": [
    "## Сериализация данных\n",
    "\n",
    "### **1. `JSON`**\n",
    "\n",
    "`JSON` (JavaScript Object Notation) — это легкий формат обмена данными, который легко читается и пишется как людьми, так и машинами. JSON широко используется для передачи данных между сервером и клиентом в веб-приложениях.\n",
    "\n",
    "**Преобразование `JSON` в Python**\n",
    "Когда данные в формате `JSON` загружаются в Python, они преобразуются в соответствующие типы данных: строки в `JSON` становятся строками Python, массивы — списками, объекты — словарями"
   ]
  },
  {
   "cell_type": "code",
   "execution_count": null,
   "metadata": {},
   "outputs": [],
   "source": [
    "import json\n",
    "\n",
    "with open('user.json', 'r', encoding='utf-8') as f:\n",
    "    json_file = json.load(f)\n",
    "\n",
    "print(f'{type(json_file) = }\\n{json_file = }')\n",
    "print(f'{json_file[\"name\"] = }')\n",
    "print(f'{json_file[\"address\"][\"geo\"] = }')\n",
    "print(f'{json_file[\"email\"] = }')"
   ]
  },
  {
   "cell_type": "markdown",
   "metadata": {},
   "source": [
    "- **Пояснение: `json.load()`** загружает `JSON`-объект из файла и преобразует его в объект Python (словарь). Доступ к данным осуществляется через ключи, аналогично работе с обычными словарями."
   ]
  },
  {
   "cell_type": "markdown",
   "metadata": {},
   "source": [
    "**Преобразование Python в `JSON`**\n",
    "\n",
    "Для сохранения Python-объектов в `JSON`-формате используется функция `json.dump()` (для записи в файл) или `json.dumps()` (для получения строки JSON)."
   ]
  },
  {
   "cell_type": "code",
   "execution_count": null,
   "metadata": {},
   "outputs": [],
   "source": [
    "import json\n",
    "\n",
    "my_dict = {\n",
    "    \"first_name\": \"Джон\",\n",
    "    \"last_name\": \"Смит\",\n",
    "    \"hobbies\": [\"кузнечное дело\", \"программирование\", \"путешествия\"],\n",
    "    \"age\": 35,\n",
    "    \"children\": [\n",
    "        {\"first_name\": \"Алиса\", \"age\": 5},\n",
    "        {\"first_name\": \"Маруся\", \"age\": 3}\n",
    "    ]\n",
    "}\n",
    "\n",
    "with open('new_user.json', 'w') as f:\n",
    "    json.dump(my_dict, f)"
   ]
  },
  {
   "cell_type": "markdown",
   "metadata": {},
   "source": [
    "- Пояснение: `json.dump()` сохраняет словарь Python в файл в формате `JSON`. Этот формат удобен для обмена данными между различными системами."
   ]
  },
  {
   "cell_type": "markdown",
   "metadata": {},
   "source": [
    "**Дополнительные параметры `dump` и `dumps`**\n",
    "\n",
    "`JSON`-данные можно форматировать для лучшей читаемости, добавляя отступы, изменяя разделители и сортируя ключи."
   ]
  },
  {
   "cell_type": "code",
   "execution_count": null,
   "metadata": {},
   "outputs": [],
   "source": [
    "import json\n",
    "\n",
    "res = json.dumps(my_dict, indent=2, separators=(',', ': '), sort_keys=True)\n",
    "print(res)"
   ]
  },
  {
   "cell_type": "markdown",
   "metadata": {},
   "source": [
    "- **Пояснение:**\n",
    "\n",
    "    - `indent=2` — добавляет отступы для улучшения читаемости.\n",
    "\n",
    "    - `separators=(',', ': ')` — задает разделители между элементами и ключами.\n",
    "\n",
    "    - `sort_keys=True` — сортирует ключи в алфавитном порядке.\n",
    "\n",
    "🔥 Совет: Используйте параметры `indent` и `sort_keys`, если хотите сделать `JSON`-файл более удобным для чтения и анализа."
   ]
  },
  {
   "cell_type": "markdown",
   "metadata": {},
   "source": [
    "### **2. CSV**"
   ]
  },
  {
   "cell_type": "markdown",
   "metadata": {},
   "source": [
    "`CSV` (Comma-Separated Values) — это формат хранения табличных данных в текстовом файле, где каждое значение отделено запятой. Этот формат часто используется для экспорта и импорта данных в таблицы или базы данных"
   ]
  },
  {
   "cell_type": "markdown",
   "metadata": {},
   "source": [
    "**Формат `CSV`**\n",
    "\n",
    "Файлы `CSV` состоят из строк, каждая из которых представляет собой запись, а поля в строках отделены запятыми. Первая строка часто содержит заголовки столбцов."
   ]
  },
  {
   "cell_type": "markdown",
   "metadata": {},
   "source": [
    "Пример `CSV`-файла:"
   ]
  },
  {
   "cell_type": "code",
   "execution_count": null,
   "metadata": {},
   "outputs": [],
   "source": [
    "\"Name\",\"Sex\",\"Age\",\"Height (in)\",\"Weight (lbs)\"\n",
    "\"Alex\",\"M\",41,74,170\n",
    "\"Bert\",\"M\",42,68,166"
   ]
  },
  {
   "cell_type": "markdown",
   "metadata": {},
   "source": [
    "**Модуль `csv`**\n",
    "\n",
    "В Python есть встроенный модуль `csv`, который упрощает чтение и запись `CSV`-файлов. Рассмотрим, как использовать этот модуль."
   ]
  },
  {
   "cell_type": "markdown",
   "metadata": {},
   "source": [
    "**Чтение `CSV`**\n",
    "\n",
    "Для чтения *CSV*-файлов используется объект `reader`, который поочередно возвращает строки в виде списков."
   ]
  },
  {
   "cell_type": "code",
   "execution_count": null,
   "metadata": {},
   "outputs": [],
   "source": [
    "import csv\n",
    "\n",
    "with open('biostats.csv', 'r', newline='') as f:\n",
    "    csv_file = csv.reader(f)\n",
    "    for line in csv_file:\n",
    "        print(line)"
   ]
  },
  {
   "cell_type": "markdown",
   "metadata": {},
   "source": [
    "- Пояснение: `csv.reader()` считывает данные построчно, возвращая каждую строку как список значений. Это позволяет легко обрабатывать данные в табличном формате"
   ]
  },
  {
   "cell_type": "markdown",
   "metadata": {},
   "source": [
    "**Запись `CSV`**\n",
    "\n",
    "Для записи данных в `CSV`-файл используется объект `writer`, который позволяет записывать строки в файл"
   ]
  },
  {
   "cell_type": "code",
   "execution_count": null,
   "metadata": {},
   "outputs": [],
   "source": [
    "import csv\n",
    "\n",
    "with open('new_biostats.csv', 'w', newline='', encoding='utf-8') as f:\n",
    "    csv_write = csv.writer(f)\n",
    "    csv_write.writerow([\"Name\", \"Sex\", \"Age\", \"Height\", \"Weight\"])\n",
    "    csv_write.writerow([\"John\", \"M\", 25, 70, 175])"
   ]
  },
  {
   "cell_type": "markdown",
   "metadata": {},
   "source": [
    "- **Пояснение: csv.writer()** создает объект записи в `CSV`-файл. Метод `writerow()` записывает одну строку данных в файл.\n",
    "    \n",
    "🔥 Совет: При работе с CSV-файлами всегда указывайте параметр newline='', чтобы избежать лишних пустых строк при записи данных."
   ]
  },
  {
   "cell_type": "markdown",
   "metadata": {},
   "source": [
    "### **3. Pickle**\n",
    "\n",
    "`Pickle` — это встроенный модуль Python, который используется для сериализации и десериализации объектов Python в байтовый поток и обратно. В отличие от `JSON` и `CSV`, `Pickle` позволяет сохранять и восстанавливать объекты любой сложности, включая пользовательские классы."
   ]
  },
  {
   "cell_type": "markdown",
   "metadata": {},
   "source": [
    "**Допустимые типы данных для преобразования**\n",
    "\n",
    "`Pickle` поддерживает сериализацию большинства встроенных типов данных Python, включая:\n",
    "\n",
    "- `None`, `True`, `False`\n",
    "\n",
    "- `int`, `float`, `complex`\n",
    "\n",
    "- `str`, `bytes`, `bytearray`\n",
    "\n",
    "- `list`, `tuple`, `set`, `dict`\n",
    "\n",
    "- Функции и классы, определенные на верхнем уровне модуля"
   ]
  },
  {
   "cell_type": "markdown",
   "metadata": {},
   "source": [
    "🔥 Предупреждение: `Pickle` не проверяет безопасность входящих данных при десериализации. Это может быть использовано для выполнения вредоносного кода. Используйте `Pickle` только с доверенными источниками данных."
   ]
  },
  {
   "cell_type": "markdown",
   "metadata": {},
   "source": [
    "**Сериализация и десериализация с использованием `pickle`**\n",
    "\n",
    "**Пример сериализации:**"
   ]
  },
  {
   "cell_type": "code",
   "execution_count": null,
   "metadata": {},
   "outputs": [],
   "source": [
    "import pickle\n",
    "\n",
    "my_dict = {\n",
    "    \"first_name\": \"Джон\",\n",
    "    \"last_name\": \"Смит\",\n",
    "    \"hobbies\": [\"кузнечное дело\", \"программирование\", \"путешествия\"],\n",
    "    \"age\": 35,\n",
    "    \"children\": [\n",
    "        {\"first_name\": \"Алиса\", \"age\": 5},\n",
    "        {\"first_name\": \"Маруся\", \"age\": 3}\n",
    "    ]\n",
    "}\n",
    "\n",
    "res = pickle.dumps(my_dict)\n",
    "print(f'{res = }')"
   ]
  },
  {
   "cell_type": "markdown",
   "metadata": {},
   "source": [
    "- Пояснение: `pickle.dumps()` сериализует объект Python в байтовую строку. Этот байтовый поток можно затем сохранить в файл или передать по сети."
   ]
  },
  {
   "cell_type": "markdown",
   "metadata": {},
   "source": [
    "**Пример десериализации:**"
   ]
  },
  {
   "cell_type": "code",
   "execution_count": null,
   "metadata": {},
   "outputs": [],
   "source": [
    "import pickle\n",
    "\n",
    "with open('my_dict.pickle', 'rb') as f:\n",
    "    new_dict = pickle.load(f)\n",
    "\n",
    "print(f'{new_dict = }')"
   ]
  },
  {
   "cell_type": "markdown",
   "metadata": {},
   "source": [
    "- **Пояснение: `pickle.load()`** восстанавливает объект Python из байтового потока. Десериализованный объект имеет ту же структуру, что и оригинал.\n",
    "\n",
    "🔥 Совет: Всегда закрывайте файл после работы с ним, особенно при использовании `pickle`, чтобы избежать потери данных."
   ]
  },
  {
   "cell_type": "markdown",
   "metadata": {},
   "source": [
    "## Выводы\n",
    "\n",
    "На этой лекции мы:\n",
    "\n",
    "1. Изучили процесс сериализации и десериализации данных в Python.\n",
    "\n",
    "2. Рассмотрели формат `JSON` для обмена данными между различными системами.\n",
    "\n",
    "3. Узнали, как работать с табличными данными в формате `CSV`.\n",
    "\n",
    "4. Изучили модуль `Pickle` для сериализации и десериализации объектов Python любой сложности.\n",
    "\n",
    "🔥 Практический совет: При выборе метода сериализации учитывайте требования к совместимости, объему данных и безопасности. `JSON` подходит для обмена данными между системами, `CSV` — для табличных данных, а `Pickle` — для работы с объектами Python, которые должны быть быстро сохранены и восстановлены."
   ]
  }
 ],
 "metadata": {
  "kernelspec": {
   "display_name": "Python 3 (ipykernel)",
   "language": "python",
   "name": "python3"
  },
  "language_info": {
   "codemirror_mode": {
    "name": "ipython",
    "version": 3
   },
   "file_extension": ".py",
   "mimetype": "text/x-python",
   "name": "python",
   "nbconvert_exporter": "python",
   "pygments_lexer": "ipython3",
   "version": "3.11.5"
  }
 },
 "nbformat": 4,
 "nbformat_minor": 2
}
