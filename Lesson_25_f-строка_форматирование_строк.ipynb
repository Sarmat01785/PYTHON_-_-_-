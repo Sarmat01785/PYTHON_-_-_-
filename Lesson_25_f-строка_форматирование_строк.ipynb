{
 "cells": [
  {
   "cell_type": "markdown",
   "id": "a31e5933-de4e-45b9-91a4-b210e509a8ab",
   "metadata": {},
   "source": [
    "# Строки и методы форматирования строк в Python\n",
    "\n",
    "Python предоставляет несколько способов форматирования строк. Ниже приведены примеры некоторых из них.\n",
    "\n",
    "## F-строки\n",
    "\n",
    "F-строки - это литералы строк, префикс которых `f`. Они могут содержать выражения в фигурных скобках {}, которые заменяются их значениями."
   ]
  },
  {
   "cell_type": "code",
   "execution_count": 21,
   "id": "91fc9831-51ba-49c8-abc3-28992aa31df0",
   "metadata": {},
   "outputs": [
    {
     "name": "stdout",
     "output_type": "stream",
     "text": [
      "My name is Alice and I am 25 years old.\n"
     ]
    }
   ],
   "source": [
    "# Определение переменных\n",
    "name = \"Alice\"\n",
    "age = 25\n",
    "\n",
    "# Использование f-строк для вывода имени и возраста\n",
    "print(f\"My name is {name} and I am {age} years old.\")\n",
    "# Вывод: My name is Alice and I am 25 years old."
   ]
  },
  {
   "cell_type": "markdown",
   "id": "45a9306d-af8b-4d95-b763-a53c2b0c4fb9",
   "metadata": {},
   "source": [
    "\n",
    "F-строки также позволяют выполнять вычисления и вызовы функций внутри фигурных скобок:"
   ]
  },
  {
   "cell_type": "code",
   "execution_count": 23,
   "id": "dfe44b51-c006-4518-bb2d-338af84302c8",
   "metadata": {},
   "outputs": [
    {
     "name": "stdout",
     "output_type": "stream",
     "text": [
      "The sum of 10 and 5 is 15.\n"
     ]
    }
   ],
   "source": [
    "# Определение переменных\n",
    "x = 10\n",
    "y = 5\n",
    "\n",
    "# Использование f-строк для выполнения арифметических операций\n",
    "print(f\"The sum of {x} and {y} is {x + y}.\")\n",
    "# Вывод: The sum of 10 and 5 is 15."
   ]
  },
  {
   "cell_type": "markdown",
   "id": "0db345d7-a3a0-401d-a2f5-8d8cc09f4c20",
   "metadata": {},
   "source": [
    "F-строки поддерживают форматирование чисел:"
   ]
  },
  {
   "cell_type": "code",
   "execution_count": 25,
   "id": "08b8a738-cdd4-4fc0-b34c-4a842b7f7024",
   "metadata": {},
   "outputs": [
    {
     "name": "stdout",
     "output_type": "stream",
     "text": [
      "Pi with 2 decimal places: 3.14\n",
      "Pi with 10 characters, aligned to the right:       3.14\n"
     ]
    }
   ],
   "source": [
    "# Значение числа π\n",
    "pi = 3.141592653589793\n",
    "\n",
    "# Округление до двух знаков после запятой\n",
    "print(f\"Pi with 2 decimal places: {pi:.2f}\")\n",
    "# Вывод: Pi with 2 decimal places: 3.14\n",
    "\n",
    "# Выравнивание по правому краю с шириной поля 10 символов\n",
    "print(f\"Pi with 10 characters, aligned to the right: {pi:>10.2f}\")\n",
    "# Вывод: Pi with 10 characters, aligned to the right:       3.14"
   ]
  },
  {
   "cell_type": "markdown",
   "id": "46facd4a-eac5-4092-9285-f927a9e7772b",
   "metadata": {},
   "source": [
    "## Старые методы форматирования: %s и .format()\n",
    "\n",
    "Старый стиль форматирования с использованием оператора `%`:"
   ]
  },
  {
   "cell_type": "code",
   "execution_count": 27,
   "id": "4b34eabe-e648-4628-a6ba-bc0e274bddac",
   "metadata": {},
   "outputs": [
    {
     "name": "stdin",
     "output_type": "stream",
     "text": [
      "Ваше имя:  Вася\n"
     ]
    },
    {
     "name": "stdout",
     "output_type": "stream",
     "text": [
      "Привет Вася!\n"
     ]
    }
   ],
   "source": [
    "# Запрашиваем ввод у пользователя\n",
    "enter = input('Ваше имя: ')\n",
    "\n",
    "# Используем оператор % для вставки значения переменной в строку\n",
    "s = 'Привет %s!' % enter\n",
    "print(s)\n",
    "# Вывод: Привет [ваше_имя]!"
   ]
  },
  {
   "cell_type": "markdown",
   "id": "4026023c-11c8-4b9d-87b9-ebaaade36733",
   "metadata": {},
   "source": [
    "Метод `.format()` предоставляет больше гибкости:"
   ]
  },
  {
   "cell_type": "code",
   "execution_count": 29,
   "id": "630e184f-5e7d-4b5f-abe9-037baebd63ce",
   "metadata": {},
   "outputs": [
    {
     "name": "stdout",
     "output_type": "stream",
     "text": [
      "Привет Вася! Я - Python.\n",
      "Привет Вася! Я - Python.\n"
     ]
    }
   ],
   "source": [
    "# Форматируем строку с помощью метода .format()\n",
    "s = \"Привет {}! Я - {}.\".format(enter, \"Python\")\n",
    "print(s)\n",
    "# Вывод: Привет [ваше_имя]! Я - Python.\n",
    "\n",
    "# Указываем порядок аргументов с помощью индексов\n",
    "s = \"Привет {1}! Я - {0}.\".format(\"Python\", enter)\n",
    "print(s)\n",
    "# Вывод: Привет [ваше_имя]! Я - Python."
   ]
  },
  {
   "cell_type": "markdown",
   "id": "34c7c6b9-c121-4687-be68-a523a6d89f9c",
   "metadata": {},
   "source": [
    "## Использование функций в f-строках\n",
    "\n",
    "Можно использовать любую функцию внутри фигурных скобок f-строки:"
   ]
  },
  {
   "cell_type": "code",
   "execution_count": 19,
   "id": "c8211d5a-70b9-4a88-a4fa-0d32f5c99ac4",
   "metadata": {},
   "outputs": [
    {
     "name": "stdout",
     "output_type": "stream",
     "text": [
      "HELLO, world!\n"
     ]
    }
   ],
   "source": [
    "s = \"Hello\"\n",
    "print(f\"{s.upper()}, world!\")\n",
    "# Выводит: HELLO, world!"
   ]
  },
  {
   "cell_type": "code",
   "execution_count": 31,
   "id": "4f4eb308-af32-4453-9ec1-c3af740c410c",
   "metadata": {},
   "outputs": [
    {
     "name": "stdout",
     "output_type": "stream",
     "text": [
      "Привет, Вася! Я могу сделать это в f-строке: 4\n",
      "Привет, Вася! Я могу сделать это в f-строке: 6\n"
     ]
    }
   ],
   "source": [
    "# Использование f-строк для включения результатов вычислений и вызова функций\n",
    "s = f\"Привет, {enter}! Я могу сделать это в f-строке: {2 + 2}\"\n",
    "print(s)\n",
    "# Вывод: Привет, [ваше_имя]! Я могу сделать это в f-строке: 4\n",
    "\n",
    "# Вызов функции len() внутри f-строки\n",
    "var = 'stroka'\n",
    "s = f\"Привет, {enter}! Я могу сделать это в f-строке: {len(var)}\"\n",
    "print(s)\n",
    "# Вывод: Привет, [ваше_имя]! Я могу сделать это в f-строке: 6"
   ]
  }
 ],
 "metadata": {
  "kernelspec": {
   "display_name": "Python 3 (ipykernel)",
   "language": "python",
   "name": "python3"
  },
  "language_info": {
   "codemirror_mode": {
    "name": "ipython",
    "version": 3
   },
   "file_extension": ".py",
   "mimetype": "text/x-python",
   "name": "python",
   "nbconvert_exporter": "python",
   "pygments_lexer": "ipython3",
   "version": "3.11.5"
  }
 },
 "nbformat": 4,
 "nbformat_minor": 5
}
