{
 "cells": [
  {
   "cell_type": "markdown",
   "id": "4cf6fe81",
   "metadata": {},
   "source": [
    "# Работа с файлами в Python\n",
    "\n",
    "В Python файлы обычно обрабатываются с помощью менеджера контекста, который обеспечивает корректное закрытие файла после завершения работы, даже если в процессе чтения/записи возникнут ошибки."
   ]
  },
  {
   "cell_type": "markdown",
   "id": "d886c991",
   "metadata": {},
   "source": [
    "## Основные операции с файлами:\n",
    "\n",
    "1. Запись в текстовый файл.\n",
    "2. Чтение из текстового файла и поиск определенной строки.\n",
    "3. Копирование двоичного файла.\n",
    "\n",
    "Каждая из этих операций будет продемонстрирована в примерах ниже."
   ]
  },
  {
   "cell_type": "markdown",
   "id": "1e9f5558",
   "metadata": {},
   "source": [
    "### Ячейки с кодом и комментариями для практических примеров:"
   ]
  },
  {
   "cell_type": "code",
   "execution_count": null,
   "id": "ae177904",
   "metadata": {},
   "outputs": [],
   "source": [
    "# Открытие файла для записи текста\n",
    "# Здесь мы определяем список путей, которые хотим записать в файл\n",
    "list_paths = [\n",
    "    \"path/to/first/file\",\n",
    "    \"path/to/second/file\",\n",
    "    # Добавьте необходимые пути к файлам\n",
    "]\n",
    "\n",
    "# Использование менеджера контекста для записи в файл\n",
    "# 'w' означает режим записи, 'encoding=\"utf-8\"' указывает на кодировку файла\n",
    "with open(\"text.txt\", \"w\", encoding=\"utf-8\") as file:\n",
    "    for path in list_paths:\n",
    "        # Записываем пути в файл, каждый с новой строки\n",
    "        file.write(path + \"\\n\")\n",
    "\n",
    "# Чтение из файла и поиск строки\n",
    "# 'r' для чтения текстового файла не обязателен, т.к. это режим по умолчанию\n",
    "with open(\"text.txt\", encoding=\"utf-8\") as file:\n",
    "    for line in file:\n",
    "        # Если строка содержит 'read.py', она будет выведена\n",
    "        if \"read.py\" in line:\n",
    "            print(line.strip())  # Метод strip() удаляет символы новой строки\n",
    "\n",
    "# Копирование двоичного файла\n",
    "# Используем 'rb' и 'wb' для чтения и записи двоичных файлов соответственно\n",
    "with open(\"PuntoSwitcherSetup.exe\", \"rb\") as src:\n",
    "    with open(\"Копия PuntoSwitcherSetup.exe\", \"wb\") as dst:\n",
    "        # Чтение и запись блоками по 1 МБ (1048576 байт)\n",
    "        while True:\n",
    "            buffer = src.read(1048576)\n",
    "            # Когда достигнем конца файла, buffer будет пустым и цикл завершится\n",
    "            if not buffer:\n",
    "                break\n",
    "            dst.write(buffer)\n",
    "\n",
    "# Выводим сообщение о завершении копирования\n",
    "print(\"Копирование завершено.\")"
   ]
  }
 ],
 "metadata": {
  "kernelspec": {
   "display_name": "Python 3 (ipykernel)",
   "language": "python",
   "name": "python3"
  },
  "language_info": {
   "codemirror_mode": {
    "name": "ipython",
    "version": 3
   },
   "file_extension": ".py",
   "mimetype": "text/x-python",
   "name": "python",
   "nbconvert_exporter": "python",
   "pygments_lexer": "ipython3",
   "version": "3.11.5"
  }
 },
 "nbformat": 4,
 "nbformat_minor": 5
}
