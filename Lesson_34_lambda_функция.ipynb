{
 "cells": [
  {
   "cell_type": "markdown",
   "id": "7da59c70-b027-4981-ae29-e9c18a26d265",
   "metadata": {},
   "source": [
    "## Lambda-функции в Python\n",
    "\n",
    "`Lambda-функции` – это компактный способ создания анонимных функций, то есть функций без имени. Они полезны для выполнения небольших операций, особенно при работе с функциями высшего порядка, такими как `map`, `filter` и `reduce`."
   ]
  },
  {
   "cell_type": "code",
   "execution_count": 3,
   "id": "f1ab383f-b0a6-45ef-b966-6503035108b2",
   "metadata": {},
   "outputs": [],
   "source": [
    "# Импортируем необходимые библиотеки\n",
    "import math"
   ]
  },
  {
   "cell_type": "markdown",
   "id": "00539e1a-b9de-41fd-9934-1529cb2255e6",
   "metadata": {},
   "source": [
    "### Синтаксис lambda-функции"
   ]
  },
  {
   "cell_type": "code",
   "execution_count": 5,
   "id": "202f7a49-c39b-4d30-9486-5c0ec099fb97",
   "metadata": {},
   "outputs": [
    {
     "data": {
      "text/plain": [
       "<function __main__.<lambda>(arguments)>"
      ]
     },
     "execution_count": 5,
     "metadata": {},
     "output_type": "execute_result"
    }
   ],
   "source": [
    "lambda arguments: expression"
   ]
  },
  {
   "cell_type": "markdown",
   "id": "ae6b3e1f-bbc5-401e-8058-434533ebc5b5",
   "metadata": {},
   "source": [
    "Здесь `arguments` — это аргументы, как в обычной функции, а `expression` — выражение, результат которого возвращается функцией."
   ]
  },
  {
   "cell_type": "markdown",
   "id": "83356df9-124c-4153-a905-df7eb1aafee9",
   "metadata": {},
   "source": [
    "### Примеры использования lambda-функций"
   ]
  },
  {
   "cell_type": "markdown",
   "id": "702a19a4-3fb7-45de-9e90-e99be6cebfe0",
   "metadata": {},
   "source": [
    "#### Сложение двух чисел"
   ]
  },
  {
   "cell_type": "code",
   "execution_count": 12,
   "id": "f158921c-3e11-44b4-8664-4481ac7d9e0d",
   "metadata": {},
   "outputs": [
    {
     "name": "stdout",
     "output_type": "stream",
     "text": [
      "Сумма 5 и 3 равна 8\n"
     ]
    }
   ],
   "source": [
    "# Создаем функцию сложения через lambda\n",
    "add = lambda x, y: x + y\n",
    "\n",
    "# Вызываем функцию и выводим результат\n",
    "print(f\"Сумма 5 и 3 равна {add(5, 3)}\")  # Вывод: Сумма 5 и 3 равна 8"
   ]
  },
  {
   "cell_type": "markdown",
   "id": "79c9dc17-e7e9-4e62-931d-ce14a80f27e9",
   "metadata": {},
   "source": [
    "#### Проверка числа на чётность"
   ]
  },
  {
   "cell_type": "code",
   "execution_count": 15,
   "id": "cc4840af-5317-41fd-95c9-40e8cf979994",
   "metadata": {},
   "outputs": [
    {
     "name": "stdout",
     "output_type": "stream",
     "text": [
      "Четное ли число 4? Ответ: True\n",
      "Четное ли число 7? Ответ: False\n"
     ]
    }
   ],
   "source": [
    "# Функция проверки числа на чётность\n",
    "is_even = lambda num: num % 2 == 0\n",
    "\n",
    "# Проверяем два числа\n",
    "print(f\"Четное ли число 4? Ответ: {is_even(4)}\")  # Вывод: Четное ли число 4? Ответ: True\n",
    "print(f\"Четное ли число 7? Ответ: {is_even(7)}\")  # Вывод: Четное ли число 7? Ответ: False"
   ]
  },
  {
   "cell_type": "markdown",
   "id": "94e01370-bbf3-4bda-a5d5-77c352e14ad3",
   "metadata": {},
   "source": [
    "#### Возведение в квадрат всех чисел списка с помощью `map`"
   ]
  },
  {
   "cell_type": "code",
   "execution_count": 18,
   "id": "d9ecdc81-0286-4d17-8fac-1fbbd6f581c7",
   "metadata": {},
   "outputs": [
    {
     "name": "stdout",
     "output_type": "stream",
     "text": [
      "Квадраты чисел списка: [1, 4, 9, 16, 25]\n"
     ]
    }
   ],
   "source": [
    "# Список чисел\n",
    "numbers = [1, 2, 3, 4, 5]\n",
    "\n",
    "# Применяем lambda-функцию для возведения в квадрат каждого элемента списка\n",
    "squared_numbers = list(map(lambda x: x**2, numbers))\n",
    "\n",
    "# Выводим результат\n",
    "print(f\"Квадраты чисел списка: {squared_numbers}\")  # Вывод: Квадраты чисел списка: [1, 4, 9, 16, 25]"
   ]
  },
  {
   "cell_type": "markdown",
   "id": "7d1ae63d-85d3-46b9-b154-43c493caf5c9",
   "metadata": {},
   "source": [
    "### Сравнение с обычными функциями\n",
    "\n",
    "Рассмотрим пример с использованием обычной функции и аналогичной ей lambda-функцией."
   ]
  },
  {
   "cell_type": "code",
   "execution_count": 21,
   "id": "ba6755ed-6138-4814-9c57-d2cba1c7de02",
   "metadata": {},
   "outputs": [
    {
     "name": "stdout",
     "output_type": "stream",
     "text": [
      "Деление 7 на 5 обычным способом: 1.4\n",
      "Деление 7 на 5 с помощью lambda: 1.4\n"
     ]
    }
   ],
   "source": [
    "# Обычная функция деления числа на пять\n",
    "def divide_by_five(x):\n",
    "    return x / 5\n",
    "\n",
    "# Аналогичная lambda-функция\n",
    "lambda_divide_by_five = lambda x: x / 5\n",
    "\n",
    "# Сравниваем результаты\n",
    "print(f\"Деление 7 на 5 обычным способом: {divide_by_five(7)}\")\n",
    "print(f\"Деление 7 на 5 с помощью lambda: {lambda_divide_by_five(7)}\")"
   ]
  },
  {
   "cell_type": "markdown",
   "id": "63d9b8f4-a2b3-4446-b4c2-72347751f10c",
   "metadata": {},
   "source": [
    "### Сортировка списка с помощью `key` и `lambda-функции`"
   ]
  },
  {
   "cell_type": "code",
   "execution_count": 24,
   "id": "0e9edafa-c07d-44b8-a152-e40715df79ef",
   "metadata": {},
   "outputs": [
    {
     "name": "stdout",
     "output_type": "stream",
     "text": [
      "Джонни имеет возраст 0.08\n",
      "Джесс имеет возраст 25.00\n",
      "Адам имеет возраст 29.00\n"
     ]
    }
   ],
   "source": [
    "# Список людей с их возрастами\n",
    "list_of_people = [\n",
    "    [\"Адам\", 29],\n",
    "    [\"Джонни\", 1/12],\n",
    "    [\"Джесс\", 25]\n",
    "]\n",
    "\n",
    "# Сортируем список по возрасту\n",
    "sorted_list = sorted(list_of_people, key=lambda x: x[1])\n",
    "\n",
    "# Выводим отсортированный список\n",
    "for person in sorted_list:\n",
    "    print(f\"{person[0]} имеет возраст {person[1]:.2f}\")"
   ]
  },
  {
   "cell_type": "markdown",
   "id": "29ccd6b8-80a4-4599-a56e-e1cb0d8614bb",
   "metadata": {},
   "source": [
    "### Фильтрация списка с помощью `filter` и `lambda-функции`"
   ]
  },
  {
   "cell_type": "code",
   "execution_count": 29,
   "id": "713a3480-41dc-4c51-8f23-6c182a194ba1",
   "metadata": {},
   "outputs": [
    {
     "name": "stdout",
     "output_type": "stream",
     "text": [
      "Адам является взрослым, так как ему/ей 29 лет.\n",
      "Джесс является взрослым, так как ему/ей 25 лет.\n"
     ]
    }
   ],
   "source": [
    "# Отфильтруем тех, кто старше 18 лет\n",
    "adults = list(filter(lambda person: person[1] >= 18, list_of_people))\n",
    "\n",
    "# Выводим отфильтрованный список\n",
    "for adult in adults:\n",
    "    print(f\"{adult[0]} является взрослым, так как ему/ей {math.floor(adult[1])} лет.\")"
   ]
  },
  {
   "cell_type": "markdown",
   "id": "b26ccddb-9f1a-421c-82e8-f22683819a13",
   "metadata": {},
   "source": [
    "### Заключение\n",
    "\n",
    "Lambda-функции удобны для создания коротких функций «на лету» и часто применяются там, где функциональность нужна однократно или в небольшом объёме кода. Однако следует помнить, что чрезмерное использование lambda-функций может усложнить чтение и поддержку кода, поэтому важно соблюдать баланс между лаконичностью и читабельностью."
   ]
  }
 ],
 "metadata": {
  "kernelspec": {
   "display_name": "Python 3 (ipykernel)",
   "language": "python",
   "name": "python3"
  },
  "language_info": {
   "codemirror_mode": {
    "name": "ipython",
    "version": 3
   },
   "file_extension": ".py",
   "mimetype": "text/x-python",
   "name": "python",
   "nbconvert_exporter": "python",
   "pygments_lexer": "ipython3",
   "version": "3.11.5"
  }
 },
 "nbformat": 4,
 "nbformat_minor": 5
}
