{
 "cells": [
  {
   "cell_type": "markdown",
   "id": "daeb171b",
   "metadata": {},
   "source": [
    "# Конспект: Методы dict() в Python\n",
    "## Часть 2: Итерация по словарю\n",
    "\n",
    "Итерация по словарю в Python может производиться различными способами, \n",
    "включая перебор ключей, значений или пар ключ-значение. Давайте рассмотрим \n",
    "некоторые из наиболее часто используемых методов для работы со словарями, \n",
    "а также узнаем, как модифицировать словарь в процессе итерации."
   ]
  },
  {
   "cell_type": "markdown",
   "id": "90eb59db",
   "metadata": {},
   "source": [
    "### Ячейки с кодом и комментариями для практических примеров:"
   ]
  },
  {
   "cell_type": "code",
   "execution_count": 1,
   "id": "507b64c5",
   "metadata": {},
   "outputs": [
    {
     "name": "stdout",
     "output_type": "stream",
     "text": [
      "Количество элементов в словаре 'student': 3\n"
     ]
    }
   ],
   "source": [
    "# Создание словаря\n",
    "student = {\n",
    "    \"имя\": \"Анна\",\n",
    "    \"возраст\": 20,\n",
    "    \"курс\": \"Программирование\"\n",
    "}\n",
    "\n",
    "# Получение количества элементов в словаре\n",
    "print(f\"Количество элементов в словаре 'student': {len(student)}\")"
   ]
  },
  {
   "cell_type": "code",
   "execution_count": 2,
   "id": "021723f1",
   "metadata": {},
   "outputs": [
    {
     "name": "stdout",
     "output_type": "stream",
     "text": [
      "Возраст студента: 20\n"
     ]
    }
   ],
   "source": [
    "# Получение значения по ключу с помощью метода get()\n",
    "# Метод get() предпочтительнее, т.к. не вызывает исключения при отсутствии ключа\n",
    "age = student.get(\"возраст\")\n",
    "print(f\"Возраст студента: {age}\")  # Выведет 20, если ключ 'возраст' существует"
   ]
  },
  {
   "cell_type": "code",
   "execution_count": 3,
   "id": "d5e28332",
   "metadata": {},
   "outputs": [
    {
     "name": "stdout",
     "output_type": "stream",
     "text": [
      "Удаленный курс: Программирование\n"
     ]
    }
   ],
   "source": [
    "# Удаление элемента по ключу с помощью метода pop()\n",
    "# Метод pop() удаляет ключ и возвращает его значение\n",
    "course = student.pop(\"курс\", \"Курс не найден\")\n",
    "print(f\"Удаленный курс: {course}\")"
   ]
  },
  {
   "cell_type": "code",
   "execution_count": 4,
   "id": "eea7ba0f",
   "metadata": {},
   "outputs": [
    {
     "name": "stdout",
     "output_type": "stream",
     "text": [
      "Ключи словаря 'student':\n",
      "имя\n",
      "возраст\n"
     ]
    }
   ],
   "source": [
    "# Перебор всех ключей словаря\n",
    "# Используя прямую итерацию по словарю, мы перебираем ключи\n",
    "print(\"Ключи словаря 'student':\")\n",
    "for key in student:\n",
    "    print(key)"
   ]
  },
  {
   "cell_type": "code",
   "execution_count": 5,
   "id": "6f7ab854",
   "metadata": {},
   "outputs": [
    {
     "name": "stdout",
     "output_type": "stream",
     "text": [
      "Значения словаря 'student':\n",
      "Анна\n",
      "20\n"
     ]
    }
   ],
   "source": [
    "# Перебор всех значений словаря\n",
    "# Метод values() возвращает представление всех значений\n",
    "print(\"Значения словаря 'student':\")\n",
    "for value in student.values():\n",
    "    print(value)"
   ]
  },
  {
   "cell_type": "code",
   "execution_count": 6,
   "id": "a70e4991",
   "metadata": {},
   "outputs": [
    {
     "name": "stdout",
     "output_type": "stream",
     "text": [
      "Пары ключ-значение словаря 'student':\n",
      "имя: Анна\n",
      "возраст: 20\n"
     ]
    }
   ],
   "source": [
    "# Перебор всех пар ключ-значение словаря\n",
    "# Метод items() возвращает представление всех пар ключ-значение\n",
    "print(\"Пары ключ-значение словаря 'student':\")\n",
    "for key, value in student.items():\n",
    "    print(f\"{key}: {value}\")"
   ]
  },
  {
   "cell_type": "code",
   "execution_count": 7,
   "id": "c8a0902e",
   "metadata": {},
   "outputs": [
    {
     "name": "stdout",
     "output_type": "stream",
     "text": [
      "Обновленные цены с учетом скидки:\n",
      "{'мясо': 2.55, 'хлеб': 0.85, 'картошка': 0.425, 'вода': 0.17}\n"
     ]
    }
   ],
   "source": [
    "# Итерация по словарю с изменением значений\n",
    "# Внимание: модификация словаря во время итерации может привести к непредсказуемому поведению.\n",
    "# Рекомендуется изменять копию словаря или создавать новый словарь\n",
    "price = {\"мясо\": 3, \"хлеб\": 1, \"картошка\": 0.5, \"вода\": 0.2}\n",
    "for item in list(price.keys()):\n",
    "    price[item] *= 0.85  # Применяем скидку в 15%\n",
    "print(\"Обновленные цены с учетом скидки:\")\n",
    "print(price)"
   ]
  },
  {
   "cell_type": "code",
   "execution_count": 8,
   "id": "36bf2270",
   "metadata": {},
   "outputs": [
    {
     "name": "stdout",
     "output_type": "stream",
     "text": [
      "Новый словарь с ценами со скидкой:\n",
      "{'мясо': 2.17, 'хлеб': 0.72, 'картошка': 0.36, 'вода': 0.14}\n"
     ]
    }
   ],
   "source": [
    "# Создание нового словаря на основе старого с изменением значений\n",
    "new_price = {item: round(value * 0.85, 2) for item, value in price.items()}\n",
    "print(\"Новый словарь с ценами со скидкой:\")\n",
    "print(new_price)"
   ]
  },
  {
   "cell_type": "code",
   "execution_count": 9,
   "id": "43765605",
   "metadata": {},
   "outputs": [
    {
     "name": "stdout",
     "output_type": "stream",
     "text": [
      "Список значений словаря 'price':\n",
      "[2.55, 0.85, 0.425, 0.17]\n"
     ]
    }
   ],
   "source": [
    "# Извлечение представления значений из словаря\n",
    "values_view = price.values()\n",
    "print(\"Список значений словаря 'price':\")\n",
    "print(list(values_view))"
   ]
  },
  {
   "cell_type": "code",
   "execution_count": 10,
   "id": "25f4792f",
   "metadata": {},
   "outputs": [
    {
     "name": "stdout",
     "output_type": "stream",
     "text": [
      "Инвертированный словарь 'price':\n",
      "{2.55: 'мясо', 0.85: 'хлеб', 0.425: 'картошка', 0.17: 'вода'}\n"
     ]
    }
   ],
   "source": [
    "# Инверсия словаря (ключи становятся значениями и наоборот)\n",
    "inverted_price = {value: key for key, value in price.items()}\n",
    "print(\"Инвертированный словарь 'price':\")\n",
    "print(inverted_price)"
   ]
  },
  {
   "cell_type": "code",
   "execution_count": 11,
   "id": "cfc6466a",
   "metadata": {},
   "outputs": [
    {
     "name": "stdout",
     "output_type": "stream",
     "text": [
      "Итерация по ключам словаря 'price' с использованием метода keys():\n",
      "мясо\n",
      "хлеб\n",
      "картошка\n",
      "вода\n"
     ]
    }
   ],
   "source": [
    "# Итерация по ключам словаря с использованием метода keys()\n",
    "# Метод keys() является более явным и читаемым способом перебора ключей\n",
    "print(\"Итерация по ключам словаря 'price' с использованием метода keys():\")\n",
    "for k in price.keys():\n",
    "    print(k)  # Выводит все ключи словаря"
   ]
  },
  {
   "cell_type": "code",
   "execution_count": 12,
   "id": "4b417777",
   "metadata": {},
   "outputs": [
    {
     "name": "stdout",
     "output_type": "stream",
     "text": [
      "Улучшенная итерация по ключам словаря 'price':\n",
      "мясо\n",
      "хлеб\n",
      "картошка\n",
      "вода\n"
     ]
    }
   ],
   "source": [
    "# Пример улучшенного кода для итерации по ключам словаря\n",
    "# Прямая итерация по словарю является более короткой и предпочтительной формой\n",
    "print(\"Улучшенная итерация по ключам словаря 'price':\")\n",
    "for k in price:\n",
    "    print(k)  # Выводит все ключи словаря"
   ]
  }
 ],
 "metadata": {
  "kernelspec": {
   "display_name": "Python 3 (ipykernel)",
   "language": "python",
   "name": "python3"
  },
  "language_info": {
   "codemirror_mode": {
    "name": "ipython",
    "version": 3
   },
   "file_extension": ".py",
   "mimetype": "text/x-python",
   "name": "python",
   "nbconvert_exporter": "python",
   "pygments_lexer": "ipython3",
   "version": "3.11.5"
  }
 },
 "nbformat": 4,
 "nbformat_minor": 5
}
