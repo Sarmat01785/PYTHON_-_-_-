{
 "cells": [
  {
   "cell_type": "markdown",
   "metadata": {},
   "source": [
    "# Конспект: Лекция 5. Итераторы и генераторы"
   ]
  },
  {
   "cell_type": "markdown",
   "metadata": {},
   "source": [
    "## Введение\n",
    "\n",
    "Итераторы и генераторы — это важные концепции в языке программирования Python, которые позволяют эффективно работать с последовательностями данных. Эти инструменты позволяют обрабатывать большие объемы данных, избегая необходимости загружать все элементы в память сразу. В данной лекции мы рассмотрим, что такое итераторы и генераторы, как их создавать и использовать, а также чем они отличаются друг от друга"
   ]
  },
  {
   "cell_type": "markdown",
   "metadata": {},
   "source": [
    "### Термины лекции\n",
    "\n",
    "1. **Итератор (Iterator)** — объект, поддерживающий протокол итерации. С помощью итераторов можно последовательно получать элементы коллекции, не загружая их все сразу в память.\n",
    "\n",
    "2. **Генератор (Generator)** — это разновидность итератора, который создается с помощью функции с ключевым словом `yield`. Генераторы позволяют лениво вычислять значения по мере необходимости.\n",
    "\n",
    "3. **Протокол итерации** — это набор методов, который должен реализовать объект для того, чтобы быть итератором. Основные методы: `__iter__()` и `__next__()`.\n",
    "\n",
    "4. **Лямбда-функция (Lambda Function)** — это небольшая анонимная функция, которая создается с помощью ключевого слова `lambda` и может использоваться в выражениях."
   ]
  },
  {
   "cell_type": "markdown",
   "metadata": {},
   "source": [
    "### Обмен значениями переменных\n",
    "\n",
    "В Python можно легко обменять значения двух переменных без использования временной переменной, что удобно для однострочных операций.\n",
    "\n",
    "Пример:"
   ]
  },
  {
   "cell_type": "code",
   "execution_count": 8,
   "metadata": {},
   "outputs": [
    {
     "name": "stdout",
     "output_type": "stream",
     "text": [
      "10 5\n"
     ]
    }
   ],
   "source": [
    "a, b = 5, 10\n",
    "a, b = b, a\n",
    "print(a, b)  # Output: 10 5"
   ]
  },
  {
   "cell_type": "markdown",
   "metadata": {},
   "source": [
    "Пояснение:\n",
    "\n",
    "- В данном примере значения переменных a и b меняются местами с использованием множественного присваивания."
   ]
  },
  {
   "cell_type": "markdown",
   "metadata": {},
   "source": [
    "### Распаковка коллекции\n",
    "\n",
    "Распаковка позволяет извлекать элементы коллекции (например, списка или кортежа) и присваивать их отдельным переменным.\n",
    "\n",
    "Пример распаковки коллекции:"
   ]
  },
  {
   "cell_type": "code",
   "execution_count": 10,
   "metadata": {},
   "outputs": [
    {
     "name": "stdout",
     "output_type": "stream",
     "text": [
      "1 2 3\n"
     ]
    }
   ],
   "source": [
    "data = [1, 2, 3]\n",
    "a, b, c = data\n",
    "print(a, b, c)  # Output: 1 2 3"
   ]
  },
  {
   "cell_type": "markdown",
   "metadata": {},
   "source": [
    "Пояснение:\n",
    "\n",
    "- В этом примере элементы списка data присваиваются переменным a, b и c."
   ]
  },
  {
   "cell_type": "markdown",
   "metadata": {},
   "source": [
    "### Распаковка со звёздочкой\n",
    "\n",
    "Распаковка со звёздочкой `(*)` позволяет собирать оставшиеся элементы коллекции в один список, что удобно, если вам не нужно явно указывать количество элементов.\n",
    "\n",
    "Пример распаковки со звёздочкой:"
   ]
  },
  {
   "cell_type": "code",
   "execution_count": 14,
   "metadata": {},
   "outputs": [
    {
     "name": "stdout",
     "output_type": "stream",
     "text": [
      "1\n",
      "[2, 3, 4]\n",
      "5\n"
     ]
    }
   ],
   "source": [
    "data = [1, 2, 3, 4, 5]\n",
    "a, *b, c = data\n",
    "print(a)  # Output: 1\n",
    "print(b)  # Output: [2, 3, 4]\n",
    "print(c)  # Output: 5"
   ]
  },
  {
   "cell_type": "markdown",
   "metadata": {},
   "source": [
    "Пояснение:\n",
    "\n",
    "- В данном примере первый и последний элементы списка присваиваются переменным `a` и `c`, а оставшиеся элементы собираются в список `b`."
   ]
  },
  {
   "cell_type": "markdown",
   "metadata": {},
   "source": [
    "### Множественное присваивание\n",
    "\n",
    "Множественное присваивание позволяет одновременно присвоить значения нескольким переменным, что сокращает код и делает его более читаемым.\n",
    "\n",
    "Пример множественного присваивания:"
   ]
  },
  {
   "cell_type": "code",
   "execution_count": 15,
   "metadata": {},
   "outputs": [
    {
     "name": "stdout",
     "output_type": "stream",
     "text": [
      "1 2 3\n"
     ]
    }
   ],
   "source": [
    "x, y, z = 1, 2, 3\n",
    "print(x, y, z)  # Output: 1 2 3"
   ]
  },
  {
   "cell_type": "markdown",
   "metadata": {},
   "source": [
    "Пояснение:\n",
    "\n",
    "- В этом примере значения 1, 2 и 3 одновременно присваиваются переменным `x`, `y` и `z`."
   ]
  },
  {
   "cell_type": "markdown",
   "metadata": {},
   "source": [
    "### Множественное сравнение\n",
    "\n",
    "Python поддерживает множественное сравнение, что позволяет писать цепочки сравнений в одной строке.\n",
    "\n",
    "Пример множественного сравнения:"
   ]
  },
  {
   "cell_type": "code",
   "execution_count": 16,
   "metadata": {},
   "outputs": [
    {
     "name": "stdout",
     "output_type": "stream",
     "text": [
      "True\n"
     ]
    }
   ],
   "source": [
    "x = 5\n",
    "result = 1 < x < 10\n",
    "print(result)  # Output: True"
   ]
  },
  {
   "cell_type": "markdown",
   "metadata": {},
   "source": [
    "Пояснение:\n",
    "\n",
    "- В данном примере проверяется, находится ли переменная x в диапазоне от 1 до 10."
   ]
  },
  {
   "cell_type": "markdown",
   "metadata": {},
   "source": [
    "### Однострочники\n",
    "\n",
    "Однострочники — это конструкции в Python, которые можно записать в одну строку, упрощая код и делая его более компактным. Часто используются для небольших операций или быстрого выполнения задач.\n",
    "\n",
    "Пример:"
   ]
  },
  {
   "cell_type": "code",
   "execution_count": 17,
   "metadata": {},
   "outputs": [],
   "source": [
    "result = [x * 2 for x in range(10)]"
   ]
  },
  {
   "cell_type": "markdown",
   "metadata": {},
   "source": [
    "Пояснение:\n",
    "\n",
    "- В данном примере создается список `result`, элементы которого равны удвоенным значениям чисел от 0 до 9."
   ]
  },
  {
   "cell_type": "markdown",
   "metadata": {},
   "source": [
    "### Полезные однострочники\n",
    "\n",
    "Полезные однострочники позволяют быстро выполнять типовые операции. Например, генерация списка чисел, фильтрация списка или вычисление суммы элементов.\n",
    "\n",
    "Примеры полезных однострочников:"
   ]
  },
  {
   "cell_type": "code",
   "execution_count": 18,
   "metadata": {},
   "outputs": [],
   "source": [
    "# Генерация списка квадратов чисел\n",
    "squares = [x**2 for x in range(10)]\n",
    "\n",
    "# Фильтрация списка\n",
    "evens = [x for x in range(10) if x % 2 == 0]\n",
    "\n",
    "# Вычисление суммы элементов списка\n",
    "total = sum([x for x in range(10)])"
   ]
  },
  {
   "cell_type": "markdown",
   "metadata": {},
   "source": [
    "Пояснение:\n",
    "\n",
    "- Эти однострочники позволяют быстро генерировать, фильтровать и суммировать элементы списков."
   ]
  },
  {
   "cell_type": "markdown",
   "metadata": {},
   "source": [
    "### Итераторы\n",
    "\n",
    "Итератор — это объект, который позволяет проходить по элементам коллекции, не загружая их все в память сразу. Чтобы объект стал итератором, он должен реализовывать методы \n",
    "\n",
    "`__iter__()` и `__next__()`.\n",
    "\n",
    "Пример создания итератора:"
   ]
  },
  {
   "cell_type": "code",
   "execution_count": 22,
   "metadata": {},
   "outputs": [
    {
     "name": "stdout",
     "output_type": "stream",
     "text": [
      "1\n",
      "2\n",
      "3\n",
      "4\n"
     ]
    }
   ],
   "source": [
    "class MyRange:\n",
    "    def __init__(self, start, end):\n",
    "        self.current = start\n",
    "        self.end = end\n",
    "    \n",
    "    def __iter__(self):\n",
    "        return self\n",
    "    \n",
    "    def __next__(self):\n",
    "        if self.current < self.end:\n",
    "            number = self.current\n",
    "            self.current += 1\n",
    "            return number\n",
    "        else:\n",
    "            raise StopIteration\n",
    "\n",
    "my_range = MyRange(1, 5)\n",
    "for num in my_range:\n",
    "    print(num)\n"
   ]
  },
  {
   "cell_type": "markdown",
   "metadata": {},
   "source": [
    "Пояснение:\n",
    "\n",
    "- В этом примере мы создаем класс `MyRange`, который реализует интерфейс итератора. Метод `__next__()` возвращает текущее значение и увеличивает его на единицу, пока не достигнет конца диапазона."
   ]
  },
  {
   "cell_type": "markdown",
   "metadata": {},
   "source": [
    "### Генераторы\n",
    "\n",
    "Генераторы — это удобный способ создания итераторов с использованием функции и ключевого слова `yield`. Они позволяют лениво вычислять значения, т.е. по мере необходимости, а не загружая все сразу.\n",
    "\n",
    "Пример создания генератора:"
   ]
  },
  {
   "cell_type": "code",
   "execution_count": 25,
   "metadata": {},
   "outputs": [
    {
     "name": "stdout",
     "output_type": "stream",
     "text": [
      "1\n",
      "2\n",
      "3\n",
      "4\n"
     ]
    }
   ],
   "source": [
    "def my_range(start, end):\n",
    "    current = start\n",
    "    while current < end:\n",
    "        yield current\n",
    "        current += 1\n",
    "\n",
    "for num in my_range(1, 5):\n",
    "    print(num)"
   ]
  },
  {
   "cell_type": "markdown",
   "metadata": {},
   "source": [
    "Пояснение:\n",
    "\n",
    "- Генератор `my_range` возвращает значения от `start` до `end`, каждый раз приостанавливая выполнение функции с помощью `yield` и продолжая с того места, где остановился при следующем вызове."
   ]
  },
  {
   "cell_type": "markdown",
   "metadata": {},
   "source": [
    "### Генераторные выражения\n",
    "\n",
    "Генераторные выражения — это краткий способ создания генераторов с использованием синтаксиса, похожего на списковые включения, но с использованием круглых скобок вместо квадратных.\n",
    "\n",
    "Пример генераторного выражения:"
   ]
  },
  {
   "cell_type": "code",
   "execution_count": 26,
   "metadata": {},
   "outputs": [
    {
     "name": "stdout",
     "output_type": "stream",
     "text": [
      "<generator object <genexpr> at 0x0000016EC756C450>\n",
      "[0, 1, 4, 9, 16]\n"
     ]
    }
   ],
   "source": [
    "squares = (x ** 2 for x in range(5))\n",
    "print(squares)\n",
    "print(list(squares))"
   ]
  },
  {
   "cell_type": "markdown",
   "metadata": {},
   "source": [
    "Пояснение:\n",
    "\n",
    "- Генераторное выражение `(x ** 2 for x in range(5))` создает генератор, который вычисляет квадраты чисел от 0 до 4. При необходимости генератор можно преобразовать в список."
   ]
  },
  {
   "cell_type": "markdown",
   "metadata": {},
   "source": [
    "### Пример: Генератор чисел Фибоначчи\n",
    "\n",
    "Генераторы позволяют создавать последовательности с ленивыми вычислениями, такие как числа Фибоначчи.\n",
    "\n",
    "Пример генератора чисел Фибоначчи:"
   ]
  },
  {
   "cell_type": "code",
   "execution_count": 28,
   "metadata": {},
   "outputs": [
    {
     "name": "stdout",
     "output_type": "stream",
     "text": [
      "0\n",
      "1\n",
      "1\n",
      "2\n",
      "3\n",
      "5\n",
      "8\n",
      "13\n",
      "21\n",
      "34\n"
     ]
    }
   ],
   "source": [
    "def fibonacci():\n",
    "    a, b = 0, 1\n",
    "    while True:\n",
    "        yield a\n",
    "        a, b = b, a + b\n",
    "\n",
    "fib = fibonacci()\n",
    "for _ in range(10):\n",
    "    print(next(fib))"
   ]
  },
  {
   "cell_type": "markdown",
   "metadata": {},
   "source": [
    "Пояснение:\n",
    "\n",
    "- Генератор `fibonacci()` создает бесконечную последовательность чисел Фибоначчи. В данном примере мы выводим первые 10 чисел этой последовательности."
   ]
  },
  {
   "cell_type": "markdown",
   "metadata": {},
   "source": [
    "### Пример: Генератор для вычисления факториала\n",
    "\n",
    "Факториал вычисляется как произведение всех натуральных чисел от 1 до n. Генератор позволяет пошагово вычислять эти значения.\n",
    "\n",
    "Пример генератора факториала:"
   ]
  },
  {
   "cell_type": "code",
   "execution_count": 1,
   "metadata": {},
   "outputs": [
    {
     "name": "stdout",
     "output_type": "stream",
     "text": [
      "1\n",
      "2\n",
      "6\n",
      "24\n",
      "120\n"
     ]
    }
   ],
   "source": [
    "def factorial_gen(n):\n",
    "    result = 1\n",
    "    for i in range(1, n + 1):\n",
    "        result *= i\n",
    "        yield result\n",
    "\n",
    "factorials = factorial_gen(5)\n",
    "for value in factorials:\n",
    "    print(value)"
   ]
  },
  {
   "cell_type": "markdown",
   "metadata": {},
   "source": [
    "- Пояснение:\n",
    "\n",
    "В данном примере функция `factorial_gen` генерирует факториалы чисел от 1 до `n`. Каждый раз, когда вызывается yield, генератор возвращает текущее значение факториала и приостанавливает выполнение до следующего вызова."
   ]
  },
  {
   "cell_type": "markdown",
   "metadata": {},
   "source": [
    "### Функции `map`, `filter` и `reduce`\n",
    "\n",
    "Функции `map`, `filter` и `reduce` — это мощные инструменты Python для работы с последовательностями. Они позволяют выполнять действия над каждым элементом последовательности (или отбирать элементы) с использованием функций.\n",
    "\n",
    " `map`\n",
    "\n",
    "Функция `map` применяет указанную функцию к каждому элементу последовательности и возвращает новый итератор.\n",
    "\n",
    "Пример использования `map`:"
   ]
  },
  {
   "cell_type": "code",
   "execution_count": 5,
   "metadata": {},
   "outputs": [
    {
     "name": "stdout",
     "output_type": "stream",
     "text": [
      "[1, 4, 9, 16, 25]\n"
     ]
    }
   ],
   "source": [
    "def square(x):\n",
    "    return x ** 2\n",
    "\n",
    "numbers = [1, 2, 3, 4, 5]\n",
    "squared_numbers = map(square, numbers)\n",
    "print(list(squared_numbers))"
   ]
  },
  {
   "cell_type": "markdown",
   "metadata": {},
   "source": [
    "- Пояснение:\n",
    "\n",
    "В этом примере функция `square` применяется к каждому элементу списка `numbers`. Результатом работы функции `map` является итератор, который затем преобразуется в список."
   ]
  },
  {
   "cell_type": "markdown",
   "metadata": {},
   "source": [
    "### Функция `filter`\n",
    "\n",
    "Функция `filter` отбирает элементы последовательности, для которых указанная функция возвращает True.\n",
    "\n",
    "Пример использования `filter`:"
   ]
  },
  {
   "cell_type": "code",
   "execution_count": 7,
   "metadata": {},
   "outputs": [
    {
     "name": "stdout",
     "output_type": "stream",
     "text": [
      "[2, 4, 6]\n"
     ]
    }
   ],
   "source": [
    "def is_even(x):\n",
    "    return x % 2 == 0\n",
    "\n",
    "numbers = [1, 2, 3, 4, 5, 6]\n",
    "even_numbers = filter(is_even, numbers)\n",
    "print(list(even_numbers))"
   ]
  },
  {
   "cell_type": "markdown",
   "metadata": {},
   "source": [
    "- Пояснение:\n",
    "\n",
    "В этом примере функция `is_even` проверяет, является ли число четным. Функция `filter` возвращает итератор, содержащий только те элементы списка, для которых функция вернула `True`."
   ]
  },
  {
   "cell_type": "markdown",
   "metadata": {},
   "source": [
    "### Функция `reduce`\n",
    "\n",
    "Функция `reduce` из модуля `functools` последовательно применяет указанную функцию к элементам последовательности, сводя ее к одному значению.\n",
    "\n",
    "Пример использования `reduce`:"
   ]
  },
  {
   "cell_type": "code",
   "execution_count": 8,
   "metadata": {},
   "outputs": [
    {
     "name": "stdout",
     "output_type": "stream",
     "text": [
      "120\n"
     ]
    }
   ],
   "source": [
    "from functools import reduce\n",
    "\n",
    "def multiply(x, y):\n",
    "    return x * y\n",
    "\n",
    "numbers = [1, 2, 3, 4, 5]\n",
    "product = reduce(multiply, numbers)\n",
    "print(product)"
   ]
  },
  {
   "cell_type": "markdown",
   "metadata": {},
   "source": [
    "- Пояснение:\n",
    "\n",
    "В этом примере функция `multiply` применяется последовательно ко всем элементам списка `numbers`. В результате вычисляется произведение всех чисел списка."
   ]
  },
  {
   "cell_type": "markdown",
   "metadata": {},
   "source": [
    "### Итераторы и генераторы в Python\n",
    "\n",
    "Как уже было упомянуто ранее, итераторы и генераторы — это мощные инструменты для работы с данными в Python. Итераторы позволяют проходить по элементам последовательности, а генераторы дают возможность создавать итераторы более простым и удобным способом"
   ]
  },
  {
   "cell_type": "markdown",
   "metadata": {},
   "source": [
    "### Итераторы\n",
    "\n",
    "Итераторы реализуют два метода: `__iter__()` и `__next__()`. Они позволяют проходить по элементам коллекции последовательно, возвращая элементы по одному. Если элементы закончились, вызывается исключение `StopIteration`.\n",
    "\n",
    "Пример создания итератора:"
   ]
  },
  {
   "cell_type": "code",
   "execution_count": 16,
   "metadata": {},
   "outputs": [
    {
     "name": "stdout",
     "output_type": "stream",
     "text": [
      "1\n",
      "2\n",
      "3\n"
     ]
    }
   ],
   "source": [
    "class MyIterator:\n",
    "    def __init__(self, start, end):\n",
    "        self.current = start\n",
    "        self.end = end\n",
    "    \n",
    "    def __iter__(self):\n",
    "        return self\n",
    "    \n",
    "    def __next__(self):\n",
    "        if self.current < self.end:\n",
    "            current_value = self.current\n",
    "            self.current += 1\n",
    "            return current_value\n",
    "        else:\n",
    "            raise StopIteration\n",
    "\n",
    "my_iter = MyIterator(1, 4)\n",
    "for value in my_iter:\n",
    "    print(value)"
   ]
  },
  {
   "cell_type": "markdown",
   "metadata": {},
   "source": [
    "- Пояснение:\n",
    "\n",
    "В данном примере мы создаем класс `MyIterator`, который реализует итератор для чисел от `start` до `end`. Каждый вызов метода `__next__()` возвращает следующее значение, пока не будет достигнут конец диапазона."
   ]
  },
  {
   "cell_type": "markdown",
   "metadata": {},
   "source": [
    "### Генераторы\n",
    "\n",
    "Генераторы — это удобный способ создания итераторов с использованием функции и ключевого слова `yield`. Они позволяют лениво генерировать значения по мере необходимости.\n",
    "\n",
    "Пример создания генератора:"
   ]
  },
  {
   "cell_type": "code",
   "execution_count": 17,
   "metadata": {},
   "outputs": [
    {
     "name": "stdout",
     "output_type": "stream",
     "text": [
      "1\n",
      "2\n",
      "3\n"
     ]
    }
   ],
   "source": [
    "def simple_generator():\n",
    "    yield 1\n",
    "    yield 2\n",
    "    yield 3\n",
    "\n",
    "for value in simple_generator():\n",
    "    print(value)"
   ]
  },
  {
   "cell_type": "markdown",
   "metadata": {},
   "source": [
    "- Пояснение:\n",
    "\n",
    "В данном примере функция `simple_generator` возвращает значения последовательно с помощью ключевого слова `yield`. Генератор позволяет лениво генерировать значения по мере необходимости, что особенно полезно при работе с большими объемами данных."
   ]
  },
  {
   "cell_type": "markdown",
   "metadata": {},
   "source": [
    "### Заключение\n",
    "\n",
    "Итераторы и генераторы — это важные инструменты Python, которые помогают эффективно работать с данными, особенно когда объем данных слишком велик для загрузки в память целиком. Итераторы позволяют проходить по элементам коллекции последовательно, а генераторы — это удобный способ создания итераторов с использованием ключевого слова `yield`."
   ]
  }
 ],
 "metadata": {
  "kernelspec": {
   "display_name": "Python 3 (ipykernel)",
   "language": "python",
   "name": "python3"
  }
 },
 "nbformat": 4,
 "nbformat_minor": 2
}
