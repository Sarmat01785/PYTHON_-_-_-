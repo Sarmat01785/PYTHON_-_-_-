{
 "cells": [
  {
   "cell_type": "markdown",
   "id": "2df6d637-86ea-43ac-b162-5cb9fcddff7b",
   "metadata": {},
   "source": [
    "# Оператор `raise` в Python"
   ]
  },
  {
   "cell_type": "markdown",
   "id": "4f4b768f-d453-4b0b-bf50-71ac16455230",
   "metadata": {},
   "source": [
    "# Оператор `raise` используется для возбуждения исключений, что позволяет контролировать\n",
    "# поведение программы при возникновении ошибок или непредвиденных ситуаций."
   ]
  },
  {
   "cell_type": "markdown",
   "id": "e18e8bf9-3dc2-45e8-b984-6a1de54095ba",
   "metadata": {},
   "source": [
    "### Стандартные исключения\n",
    "\n",
    "В Python встроены стандартные классы исключений, такие как `ValueError`, `TypeError`, `ZeroDivisionError` и другие. Они позволяют обрабатывать различные типы ошибок."
   ]
  },
  {
   "cell_type": "markdown",
   "id": "2252acb1-1f00-4da3-adf3-7ddb2530750c",
   "metadata": {},
   "source": [
    "#### Пример использования `ValueError`\n",
    "\n",
    "Возбудим исключение `ValueError`, если значение `b` равно нулю:"
   ]
  },
  {
   "cell_type": "code",
   "execution_count": 6,
   "id": "2759c214-0bd2-4882-84bb-0a41617e3f23",
   "metadata": {},
   "outputs": [],
   "source": [
    "def divide(a, b):\n",
    "    \"\"\"\n",
    "    Функция делит число a на число b.\n",
    "    \n",
    "    :param a: Деленое число\n",
    "    :type a: int or float\n",
    "    :param b: Делитель\n",
    "    :type b: int or float\n",
    "    :return: Результат деления\n",
    "    :rtype: float\n",
    "    :raises ValueError: Если b равно 0\n",
    "    \"\"\"\n",
    "    if b == 0:\n",
    "        raise ValueError(\"Деление на ноль недопустимо\")\n",
    "    return a / b"
   ]
  },
  {
   "cell_type": "markdown",
   "id": "57258bdd-0445-413a-836a-28c532e682ae",
   "metadata": {},
   "source": [
    "Теперь попробуем обработать это исключение с помощью блока `try-except`:"
   ]
  },
  {
   "cell_type": "code",
   "execution_count": 9,
   "id": "2b68efae-8e0e-4748-9360-eb521b987876",
   "metadata": {},
   "outputs": [
    {
     "name": "stdout",
     "output_type": "stream",
     "text": [
      "Деление на ноль недопустимо\n"
     ]
    }
   ],
   "source": [
    "try:\n",
    "    result = divide(10, 0)\n",
    "except ValueError as e:\n",
    "    print(e)"
   ]
  },
  {
   "cell_type": "markdown",
   "id": "b38ebde9-6786-48ca-bb94-90b60dd76e9d",
   "metadata": {},
   "source": [
    "### Пользовательские исключения\n",
    "\n",
    "Иногда стандартных исключений недостаточно, и нужно создать свои собственные классы исключений для специфичных случаев."
   ]
  },
  {
   "cell_type": "markdown",
   "id": "0d8568c3-3183-4f53-b7f6-c58fb20d51f4",
   "metadata": {},
   "source": [
    "#### Пример создания пользовательского исключения\n",
    "\n",
    "Создадим класс `MyCustomException`, который наследуется от базового класса `Exception`:"
   ]
  },
  {
   "cell_type": "code",
   "execution_count": 13,
   "id": "b105cf84-b3e5-423a-823d-b1b346dac6bb",
   "metadata": {},
   "outputs": [],
   "source": [
    "class MyCustomException(Exception):\n",
    "    \"\"\"Пользовательское исключение для обработки особых ошибок.\"\"\"\n",
    "\n",
    "    def __init__(self, message, code):\n",
    "        \"\"\"\n",
    "        Конструктор класса MyCustomException.\n",
    "        \n",
    "        :param message: Сообщение об ошибке\n",
    "        :type message: str\n",
    "        :param code: Код ошибки\n",
    "        :type code: int\n",
    "        \"\"\"\n",
    "        super().__init__(message)\n",
    "        self.code = code  # Дополнительный атрибут для хранения кода ошибки"
   ]
  },
  {
   "cell_type": "markdown",
   "id": "b02aebdf-6978-4e3b-9712-4a085504ac5d",
   "metadata": {},
   "source": [
    "Теперь возбудим наше пользовательское исключение с дополнительной информацией:"
   ]
  },
  {
   "cell_type": "code",
   "execution_count": 16,
   "id": "ef21f5c4-0f6d-45a9-8530-64dc1a27d464",
   "metadata": {},
   "outputs": [],
   "source": [
    "def process_data(data):\n",
    "    \"\"\"\n",
    "    Функция обрабатывает данные.\n",
    "    \n",
    "    :param data: Список данных\n",
    "    :type data: list\n",
    "    :raises MyCustomException: Если список пуст\n",
    "    \"\"\"\n",
    "    if not data:\n",
    "        raise MyCustomException(\"Пустые данные обнаружены\", code=400)"
   ]
  },
  {
   "cell_type": "markdown",
   "id": "a0bcef11-28d4-4314-9afd-83de9e69288f",
   "metadata": {},
   "source": [
    "Обработаем пользовательское исключение:"
   ]
  },
  {
   "cell_type": "code",
   "execution_count": 19,
   "id": "3e4defb4-b598-45ca-a5d5-15d1755a1de3",
   "metadata": {},
   "outputs": [
    {
     "name": "stdout",
     "output_type": "stream",
     "text": [
      "Пустые данные обнаружены - Код ошибки: 400\n"
     ]
    }
   ],
   "source": [
    "try:\n",
    "    data = []\n",
    "    process_data(data)\n",
    "except MyCustomException as e:\n",
    "    print(f\"{e} - Код ошибки: {e.code}\")"
   ]
  },
  {
   "cell_type": "markdown",
   "id": "9037dcba-46f9-4357-aa0a-e34dfa6d4bcb",
   "metadata": {},
   "source": [
    "### Заключение\n",
    "\n",
    "Использование оператора `raise` делает ваш код более понятным и управляемым, а также улучшает взаимодействие с пользователями программы благодаря точной передаче информации об ошибках. Документация исключений помогает другим разработчикам понять, какие ошибки могут возникнуть, и правильно их обработать, тем самым повышая надёжность и стабильность программы."
   ]
  }
 ],
 "metadata": {
  "kernelspec": {
   "display_name": "Python 3 (ipykernel)",
   "language": "python",
   "name": "python3"
  },
  "language_info": {
   "codemirror_mode": {
    "name": "ipython",
    "version": 3
   },
   "file_extension": ".py",
   "mimetype": "text/x-python",
   "name": "python",
   "nbconvert_exporter": "python",
   "pygments_lexer": "ipython3",
   "version": "3.11.5"
  }
 },
 "nbformat": 4,
 "nbformat_minor": 5
}
