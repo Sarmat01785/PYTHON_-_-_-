{
 "cells": [
  {
   "cell_type": "markdown",
   "id": "1803a026",
   "metadata": {},
   "source": [
    "# Строки и экранированные символы в Python\n",
    "\n",
    "Строки в Python могут содержать экранированные символы, которые позволяют вставлять специальные символы, такие как новая строка, табуляция или даже сам символ обратной косой черты. Экранирование достигается с помощью символа обратной косой черты (`\\`). Рассмотрим наиболее распространенные экранированные последовательности и альтернативы их использования."
   ]
  },
  {
   "cell_type": "markdown",
   "id": "d7c9f9ec",
   "metadata": {},
   "source": [
    "# Примеры использования экранированных символов в строках"
   ]
  },
  {
   "cell_type": "code",
   "execution_count": 1,
   "id": "7eb3a905",
   "metadata": {},
   "outputs": [
    {
     "name": "stdout",
     "output_type": "stream",
     "text": [
      "Я строка с кавычкой: '\n"
     ]
    }
   ],
   "source": [
    "# Экранирование одиночной кавычки в строке\n",
    "string_with_quotes = \"Я строка с кавычкой: \\'\"\n",
    "print(string_with_quotes)  # Вывод: Я строка с кавычкой: '"
   ]
  },
  {
   "cell_type": "code",
   "execution_count": 2,
   "id": "9dbff000",
   "metadata": {},
   "outputs": [
    {
     "name": "stdout",
     "output_type": "stream",
     "text": [
      "Вот обратная косая черта: \\\n"
     ]
    }
   ],
   "source": [
    "# Экранирование обратной косой черты позволяет включить сам символ обратной косой черты в строку\n",
    "string_with_backslash = \"Вот обратная косая черта: \\\\\"\n",
    "print(string_with_backslash)  # Вывод: Вот обратная косая черта: \\"
   ]
  },
  {
   "cell_type": "code",
   "execution_count": 3,
   "id": "fd856c98",
   "metadata": {},
   "outputs": [
    {
     "name": "stdout",
     "output_type": "stream",
     "text": [
      "Это многострочная строка.\n",
      "Вот вторая строка.\n"
     ]
    }
   ],
   "source": [
    "# Экранирование переноса строки для создания многострочного текста\n",
    "multi_line_string = \"Это многострочная строка.\\nВот вторая строка.\"\n",
    "print(multi_line_string)\n",
    "# Вывод:\n",
    "# Это многострочная строка.\n",
    "# Вот вторая строка."
   ]
  },
  {
   "cell_type": "code",
   "execution_count": 4,
   "id": "4aa7bd6e",
   "metadata": {},
   "outputs": [
    {
     "name": "stdout",
     "output_type": "stream",
     "text": [
      "Это строка с табуляцией:\tВот текст с табуляцией.\n"
     ]
    }
   ],
   "source": [
    "# Экранирование символа табуляции для вставки табуляции в строку\n",
    "tabbed_string = \"Это строка с табуляцией:\\tВот текст с табуляцией.\"\n",
    "print(tabbed_string)  # Вывод: Это строка с табуляцией:    Вот текст с табуляцией."
   ]
  },
  {
   "cell_type": "code",
   "execution_count": 5,
   "id": "f4c3415c",
   "metadata": {},
   "outputs": [
    {
     "name": "stdout",
     "output_type": "stream",
     "text": [
      "Давайте напишем строку с кавычкой: \"s\"\n"
     ]
    }
   ],
   "source": [
    "# Использование одинарных и двойных кавычек для вставки кавычек без экранирования\n",
    "s = 'Давайте напишем строку с кавычкой: \"s\"'\n",
    "print(s)  # Вывод: Давайте напишем строку с кавычкой: \"s\""
   ]
  },
  {
   "cell_type": "code",
   "execution_count": 6,
   "id": "3bfc8ff8",
   "metadata": {},
   "outputs": [
    {
     "name": "stdout",
     "output_type": "stream",
     "text": [
      "https:\\\\www.youtube.com\\new\n"
     ]
    }
   ],
   "source": [
    "# Использование raw-строк (сырых строк) для предотвращения экранирования символов\n",
    "url = r\"https:\\\\www.youtube.com\\new\"\n",
    "print(url)  # Вывод: https:\\\\www.youtube.com\\new"
   ]
  },
  {
   "cell_type": "code",
   "execution_count": 7,
   "id": "056f9270",
   "metadata": {},
   "outputs": [
    {
     "name": "stdout",
     "output_type": "stream",
     "text": [
      "C:\\Users\\PyHS\\Desktop\n"
     ]
    }
   ],
   "source": [
    "# Пути к файлам в Windows лучше представлять с помощью raw-строк\n",
    "path = r'C:\\Users\\PyHS\\Desktop'\n",
    "print(path)  # Вывод: C:\\Users\\PyHS\\Desktop"
   ]
  },
  {
   "cell_type": "code",
   "execution_count": 8,
   "id": "7e6cf352",
   "metadata": {},
   "outputs": [
    {
     "name": "stdout",
     "output_type": "stream",
     "text": [
      "https://www.youtube.com/new\n"
     ]
    }
   ],
   "source": [
    "# URL-адреса лучше представлять с использованием прямых слешей\n",
    "url = \"https://www.youtube.com/new\"\n",
    "print(url)  # Вывод: https://www.youtube.com/new"
   ]
  }
 ],
 "metadata": {
  "kernelspec": {
   "display_name": "Python 3 (ipykernel)",
   "language": "python",
   "name": "python3"
  },
  "language_info": {
   "codemirror_mode": {
    "name": "ipython",
    "version": 3
   },
   "file_extension": ".py",
   "mimetype": "text/x-python",
   "name": "python",
   "nbconvert_exporter": "python",
   "pygments_lexer": "ipython3",
   "version": "3.11.5"
  }
 },
 "nbformat": 4,
 "nbformat_minor": 5
}
