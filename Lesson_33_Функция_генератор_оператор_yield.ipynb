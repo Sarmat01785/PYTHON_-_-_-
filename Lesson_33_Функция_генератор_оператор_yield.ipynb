{
 "cells": [
  {
   "cell_type": "markdown",
   "id": "e6da3e8c-7292-43a6-9c7a-523d9169fb45",
   "metadata": {},
   "source": [
    "### Генератор и оператор yield в Python\n",
    "\n",
    "Функция-генератор позволяет создавать итераторы, которые генерируют значения по запросу. Оператор yield приостанавливает выполнение функции, сохраняя её состояние, чтобы продолжить с места остановки при следующем вызове."
   ]
  },
  {
   "cell_type": "markdown",
   "id": "1d1e088f-6faf-414a-a275-1776a3b31ab2",
   "metadata": {},
   "source": [
    "#### Пример функции-генератора, генерирующей последовательность чисел от 1 до N"
   ]
  },
  {
   "cell_type": "code",
   "execution_count": 3,
   "id": "e0476647-0445-47c4-9af8-265ef705dfb3",
   "metadata": {},
   "outputs": [],
   "source": [
    "def number_generator(N):\n",
    "    \"\"\"\n",
    "    Генерирует последовательность чисел от 1 до N включительно.\n",
    "    \n",
    "    :param int N: Верхняя граница последовательности.\n",
    "    :yields: Последовательность целых чисел от 1 до N.\n",
    "    \"\"\"\n",
    "    i = 1\n",
    "    while i <= N:\n",
    "        yield i  # Возвращает текущее значение i и приостанавливает функцию\n",
    "        i += 1"
   ]
  },
  {
   "cell_type": "markdown",
   "id": "ea84d93e-df02-49fb-899b-1dbbfbbaea0e",
   "metadata": {},
   "source": [
    "Пример использования функции-генератора:"
   ]
  },
  {
   "cell_type": "code",
   "execution_count": 6,
   "id": "71a73244-bc49-4ddd-812a-11a7a84a23dd",
   "metadata": {},
   "outputs": [
    {
     "name": "stdout",
     "output_type": "stream",
     "text": [
      "1\n",
      "2\n",
      "3\n",
      "4\n",
      "5\n"
     ]
    }
   ],
   "source": [
    "# Итерация по значениям, возвращаемым генератором\n",
    "for number in number_generator(5):\n",
    "    print(number)  # Выведет числа от 1 до 5"
   ]
  },
  {
   "cell_type": "markdown",
   "id": "45b6bdda-04c7-41d9-b58c-79d0aacb535e",
   "metadata": {},
   "source": [
    "#### Функции-генераторы полезны в ситуациях, где необходимо работать с потенциально большими или бесконечными последовательностями данных, так как они не требуют загрузки всех значений в память."
   ]
  },
  {
   "cell_type": "markdown",
   "id": "9a151b79-2703-4064-8cdd-e2b3b41df7cc",
   "metadata": {},
   "source": [
    "#### Пример функции-генератора для чтения файла построчно"
   ]
  },
  {
   "cell_type": "code",
   "execution_count": 10,
   "id": "994669ec-1cd0-4613-8b41-1c1ceb2dc505",
   "metadata": {},
   "outputs": [],
   "source": [
    "def read_lines(file_name):\n",
    "    \"\"\"\n",
    "    Читает файл построчно и возвращает каждую строку.\n",
    "    \n",
    "    :param str file_name: Имя файла для чтения.\n",
    "    :yields: Строки из файла.\n",
    "    \"\"\"\n",
    "    if not os.path.exists(file_name):\n",
    "        raise FileNotFoundError(f\"Файл {file_name} не найден.\")\n",
    "        \n",
    "    with open(file_name, encoding='utf-8') as file:\n",
    "        for line in file:\n",
    "            yield line.strip()  # Убираем лишние пробелы и символы новой строки"
   ]
  },
  {
   "cell_type": "markdown",
   "id": "96d70bee-40b1-462f-bf50-ce76e017e15c",
   "metadata": {},
   "source": [
    "Пример использования функции-генератора для чтения файла:"
   ]
  },
  {
   "cell_type": "code",
   "execution_count": null,
   "id": "ea2916d4-808c-4f6c-8671-31aefd37b8ef",
   "metadata": {},
   "outputs": [],
   "source": [
    "# Итерация по строкам файла с помощью генератора\n",
    "for line in read_lines('text_1.txt'):\n",
    "    print(line)"
   ]
  },
  {
   "cell_type": "markdown",
   "id": "14820218-8b13-47ea-8575-71e5e9d735d6",
   "metadata": {},
   "source": [
    "Использование функции-генератора позволяет избежать загрузки всего содержимого файла в память, что особенно важно для больших файлов."
   ]
  },
  {
   "cell_type": "markdown",
   "id": "5fdf9f9f-9a68-433a-b8a1-94a628acada3",
   "metadata": {},
   "source": [
    "#### Получение объекта-генератора из функции-генератора"
   ]
  },
  {
   "cell_type": "code",
   "execution_count": 19,
   "id": "fbc352eb-3c4c-4984-afd4-f23595ac8230",
   "metadata": {},
   "outputs": [],
   "source": [
    "p = read_lines('text_1.txt')"
   ]
  },
  {
   "cell_type": "markdown",
   "id": "3e39b496-d2c3-4551-8acd-b4adfb10669e",
   "metadata": {},
   "source": [
    "Вывод первой строки файла:"
   ]
  },
  {
   "cell_type": "code",
   "execution_count": null,
   "id": "38407909-073e-4efb-95cd-abb70fff5639",
   "metadata": {},
   "outputs": [],
   "source": [
    "# Выводим первую строку файла\n",
    "print(next(p))"
   ]
  },
  {
   "cell_type": "markdown",
   "id": "923035e5-9d8a-434f-85b0-7cca2e35f3c4",
   "metadata": {},
   "source": [
    "Обработка исключения `StopIteration`, которое возникает, когда элементы генератора исчерпаны:"
   ]
  },
  {
   "cell_type": "code",
   "execution_count": null,
   "id": "56c7da2c-5fff-452d-9efa-7a84ce633449",
   "metadata": {},
   "outputs": [],
   "source": [
    "# Вывод оставшихся строк файла\n",
    "try:\n",
    "    while True:\n",
    "        print(next(p))\n",
    "except StopIteration:\n",
    "    print(\"Достигнут конец файла.\")  # Выводится, когда строки закончились"
   ]
  }
 ],
 "metadata": {
  "kernelspec": {
   "display_name": "Python 3 (ipykernel)",
   "language": "python",
   "name": "python3"
  },
  "language_info": {
   "codemirror_mode": {
    "name": "ipython",
    "version": 3
   },
   "file_extension": ".py",
   "mimetype": "text/x-python",
   "name": "python",
   "nbconvert_exporter": "python",
   "pygments_lexer": "ipython3",
   "version": "3.11.5"
  }
 },
 "nbformat": 4,
 "nbformat_minor": 5
}
