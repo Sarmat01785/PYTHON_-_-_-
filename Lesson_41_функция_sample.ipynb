{
 "cells": [
  {
   "cell_type": "markdown",
   "id": "274d6f14-f7e5-42b5-833f-9666c877cf75",
   "metadata": {},
   "source": [
    "# Тема урока: Функция `sample()` в Python"
   ]
  },
  {
   "cell_type": "markdown",
   "id": "1d6545af-95ec-417e-a2d3-7dcf7c682807",
   "metadata": {},
   "source": [
    "Функция `sample()` из модуля `random` используется для получения случайной выборки элементов из итерируемых объектов,\n",
    "таких как списки, кортежи или строки. Она возвращает новый список, содержащий уникальные элементы исходной коллекции."
   ]
  },
  {
   "cell_type": "markdown",
   "id": "1ef138f8-4621-4196-a8fd-dfb015af3edd",
   "metadata": {},
   "source": [
    "### Импорт модуля `random`\n",
    "\n",
    "Для начала импортируем модуль `random`, чтобы иметь доступ к функции `sample()`."
   ]
  },
  {
   "cell_type": "code",
   "execution_count": 6,
   "id": "1f174175-9d21-4ca5-8165-bb734353d67b",
   "metadata": {},
   "outputs": [],
   "source": [
    "import random"
   ]
  },
  {
   "cell_type": "markdown",
   "id": "c6ed0645-0041-4158-bb16-dc212f47b272",
   "metadata": {},
   "source": [
    "### Пример 1: Получение одного случайного элемента из списка\n",
    "\n",
    "Мы можем получить один случайный элемент из списка, передав второй аргумент функции `sample()` равным 1."
   ]
  },
  {
   "cell_type": "code",
   "execution_count": 11,
   "id": "dec5241b-a969-4aac-b6a2-70d71cd97c8b",
   "metadata": {},
   "outputs": [
    {
     "name": "stdout",
     "output_type": "stream",
     "text": [
      "[4]\n"
     ]
    }
   ],
   "source": [
    "# Пример 1: Получение одного случайного элемента из списка\n",
    "my_list = [1, 2, 3, 4, 5]\n",
    "random_element = random.sample(my_list, 1)\n",
    "print(random_element)  # Выводит список с одним случайным элементом, например: [2]"
   ]
  },
  {
   "cell_type": "markdown",
   "id": "03399fbb-2b4c-4b8b-9bdc-8d4f72b8ab9d",
   "metadata": {},
   "source": [
    "### Пример 2: Получение нескольких случайных элементов из списка\n",
    "\n",
    "Чтобы получить несколько случайных элементов, мы просто изменяем второй аргумент функции `sample()`."
   ]
  },
  {
   "cell_type": "code",
   "execution_count": 14,
   "id": "694b46ec-3766-486e-8075-730a054b26a1",
   "metadata": {},
   "outputs": [
    {
     "name": "stdout",
     "output_type": "stream",
     "text": [
      "[1, 3, 2]\n"
     ]
    }
   ],
   "source": [
    "# Пример 2: Получение нескольких случайных элементов из списка\n",
    "random_elements = random.sample(my_list, 3)\n",
    "print(random_elements)  # Выводит список из трех случайных элементов, например: [4, 1, 5]\n",
    "# Обратите внимание, что количество элементов в результате соответствует второму аргументу функции sample()."
   ]
  },
  {
   "cell_type": "markdown",
   "id": "6f7fb05e-bf7b-4011-a2e1-0ea5352e320d",
   "metadata": {},
   "source": [
    "### Пример 3: Получение случайного символа из строки\n",
    "\n",
    "Функцию `sample()` можно применять не только к спискам, но и к строкам."
   ]
  },
  {
   "cell_type": "code",
   "execution_count": 17,
   "id": "f6c91b3a-fe8e-4c77-adb0-7739d3623bba",
   "metadata": {},
   "outputs": [
    {
     "name": "stdout",
     "output_type": "stream",
     "text": [
      "['d']\n"
     ]
    }
   ],
   "source": [
    "# Пример 3: Получение случайного символа из строки\n",
    "my_string = \"Hello, World!\"\n",
    "random_character = random.sample(my_string, 1)\n",
    "print(random_character)  # Выводит список с одним случайным символом, например: ['e']"
   ]
  },
  {
   "cell_type": "markdown",
   "id": "23246871-9ac2-4780-abbc-1098e0afb661",
   "metadata": {},
   "source": [
    "### Обработка ошибок\n",
    "\n",
    "Если попытаться выбрать больше элементов, чем есть в исходной коллекции, будет возбуждено исключение `ValueError`."
   ]
  },
  {
   "cell_type": "code",
   "execution_count": 20,
   "id": "72af4cfd-ec6c-44f4-b116-fb0637d50caa",
   "metadata": {},
   "outputs": [
    {
     "name": "stdout",
     "output_type": "stream",
     "text": [
      "Ошибка: Sample larger than population or is negative\n"
     ]
    }
   ],
   "source": [
    "# Вызов sample() с количеством элементов, превышающим размер исходной коллекции, приведет к ValueError.\n",
    "try:\n",
    "    too_many_elements = random.sample(my_list, 10)\n",
    "except ValueError as e:\n",
    "    print(\"Ошибка:\", e)  # Выведет сообщение об ошибке"
   ]
  },
  {
   "cell_type": "markdown",
   "id": "888652c6-edea-416e-9e80-69f6ab98a26b",
   "metadata": {},
   "source": [
    "### Полезность функции `sample()`\n",
    "\n",
    "Функция `sample()` полезна в ситуациях, где требуется случайная выборка без повторений, например:\n",
    "- При разработке игр\n",
    "- В статистических моделях\n",
    "- Для случайного разбиения данных на подгруппы\n",
    "\n",
    "Важно помнить, что элементы, возвращаемые функцией `sample()`, не повторяются, в отличие от функции `choice()`, которая может вернуть один и тот же элемент несколько раз при многократном вызове."
   ]
  }
 ],
 "metadata": {
  "kernelspec": {
   "display_name": "Python 3 (ipykernel)",
   "language": "python",
   "name": "python3"
  },
  "language_info": {
   "codemirror_mode": {
    "name": "ipython",
    "version": 3
   },
   "file_extension": ".py",
   "mimetype": "text/x-python",
   "name": "python",
   "nbconvert_exporter": "python",
   "pygments_lexer": "ipython3",
   "version": "3.11.5"
  }
 },
 "nbformat": 4,
 "nbformat_minor": 5
}
