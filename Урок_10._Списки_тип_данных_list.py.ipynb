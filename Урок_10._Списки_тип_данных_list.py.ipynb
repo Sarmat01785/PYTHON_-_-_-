{
 "cells": [
  {
   "cell_type": "markdown",
   "id": "791b0ba0",
   "metadata": {},
   "source": [
    "## Работа со списками в Python\n",
    "\n",
    "Списки в Python - это упорядоченные, изменяемые коллекции объектов. Они могут содержать элементы различных типов, что делает их чрезвычайно гибкими для использования.\n",
    "\n",
    "### Создание списков и доступ к элементам\n",
    "\n",
    "Списки могут содержать числа, строки и даже другие списки. Мы можем обращаться к элементам списка по их индексам."
   ]
  },
  {
   "cell_type": "markdown",
   "id": "9b573766",
   "metadata": {},
   "source": [
    "### Создание списка чисел"
   ]
  },
  {
   "cell_type": "code",
   "execution_count": 1,
   "id": "ff168373",
   "metadata": {},
   "outputs": [
    {
     "name": "stdout",
     "output_type": "stream",
     "text": [
      "[1, 2, 3, 4, 5]\n"
     ]
    }
   ],
   "source": [
    "numbers = [1, 2, 3, 4, 5]\n",
    "print(numbers)  # Вывод: [1, 2, 3, 4, 5]"
   ]
  },
  {
   "cell_type": "markdown",
   "id": "cd424bb9",
   "metadata": {},
   "source": [
    "### Создание списка смешанных типов"
   ]
  },
  {
   "cell_type": "code",
   "execution_count": 2,
   "id": "f276d2d6",
   "metadata": {},
   "outputs": [
    {
     "name": "stdout",
     "output_type": "stream",
     "text": [
      "[1, 'hello', True, 3.14]\n"
     ]
    }
   ],
   "source": [
    "mixed_list = [1, \"hello\", True, 3.14]\n",
    "print(mixed_list)  # Вывод: [1, \"hello\", True, 3.14]"
   ]
  },
  {
   "cell_type": "markdown",
   "id": "511d1201",
   "metadata": {},
   "source": [
    "### Доступ к элементам списка по индексу"
   ]
  },
  {
   "cell_type": "code",
   "execution_count": 3,
   "id": "053f5292",
   "metadata": {},
   "outputs": [
    {
     "name": "stdout",
     "output_type": "stream",
     "text": [
      "apple\n",
      "banana\n",
      "cherry\n"
     ]
    }
   ],
   "source": [
    "fruits = [\"apple\", \"banana\", \"cherry\"]\n",
    "print(fruits[0])  # Вывод: apple\n",
    "print(fruits[1])  # Вывод: banana\n",
    "print(fruits[2])  # Вывод: cherry"
   ]
  },
  {
   "cell_type": "markdown",
   "id": "8cc401ca",
   "metadata": {},
   "source": [
    "### Изменение элементов списка"
   ]
  },
  {
   "cell_type": "code",
   "execution_count": 4,
   "id": "0f7d720b",
   "metadata": {},
   "outputs": [
    {
     "name": "stdout",
     "output_type": "stream",
     "text": [
      "['kiwi', 'banana', 'cherry']\n"
     ]
    }
   ],
   "source": [
    "fruits[0] = \"kiwi\"  # Изменяем первый элемент списка\n",
    "print(fruits)  # Вывод: [\"kiwi\", \"banana\", \"cherry\"]"
   ]
  },
  {
   "cell_type": "markdown",
   "id": "71001a92",
   "metadata": {},
   "source": [
    "## Работа с индексацией и вложенными списками\n",
    "\n",
    "Отрицательные индексы позволяют обращаться к элементам списка с конца. Вложенные списки содержат другие списки в качестве своих элементов."
   ]
  },
  {
   "cell_type": "markdown",
   "id": "d729a02f",
   "metadata": {},
   "source": [
    "### Отрицательная индексация"
   ]
  },
  {
   "cell_type": "code",
   "execution_count": 5,
   "id": "f6f35033",
   "metadata": {},
   "outputs": [
    {
     "name": "stdout",
     "output_type": "stream",
     "text": [
      "cherry\n"
     ]
    }
   ],
   "source": [
    "print(fruits[-1])  # Вывод: cherry, последний элемент списка"
   ]
  },
  {
   "cell_type": "markdown",
   "id": "e097e3be",
   "metadata": {},
   "source": [
    "### Вложенные списки"
   ]
  },
  {
   "cell_type": "code",
   "execution_count": 6,
   "id": "c8e9f33a",
   "metadata": {},
   "outputs": [
    {
     "name": "stdout",
     "output_type": "stream",
     "text": [
      "apple\n"
     ]
    }
   ],
   "source": [
    "nested_list = [1, 2, [\"apple\", \"banana\"], [\"cherry\", \"kiwi\"]]\n",
    "print(nested_list[2][0])  # Вывод: apple, первый элемент вложенного списка"
   ]
  },
  {
   "cell_type": "markdown",
   "id": "5cf8c9d0",
   "metadata": {},
   "source": [
    "## Манипуляция со списками: конкатенация и умножение\n",
    "\n",
    "Мы можем добавлять элементы к спискам, используя конкатенацию, или повторять их с помощью операции умножения."
   ]
  },
  {
   "cell_type": "markdown",
   "id": "39f0ea66",
   "metadata": {},
   "source": [
    "### Конкатенация списков"
   ]
  },
  {
   "cell_type": "code",
   "execution_count": 7,
   "id": "f9d6fc3f",
   "metadata": {},
   "outputs": [
    {
     "name": "stdout",
     "output_type": "stream",
     "text": [
      "[1, 2, 3, 4, 5, 4, 5]\n"
     ]
    }
   ],
   "source": [
    "numbers = numbers + [4, 5]  # Добавляем элементы к списку\n",
    "print(numbers)  # Вывод: [1, 2, 3, 4, 5, 4, 5]"
   ]
  },
  {
   "cell_type": "markdown",
   "id": "d312bf9c",
   "metadata": {},
   "source": [
    "### Создание списка с использованием функции range"
   ]
  },
  {
   "cell_type": "code",
   "execution_count": 8,
   "id": "70e0cd88",
   "metadata": {},
   "outputs": [
    {
     "name": "stdout",
     "output_type": "stream",
     "text": [
      "[0, 1, 2, 3, 4, 5, 6, 7, 8, 9]\n"
     ]
    }
   ],
   "source": [
    "range_list = list(range(10))\n",
    "print(range_list)  # Вывод: список чисел от 0 до 9"
   ]
  },
  {
   "cell_type": "markdown",
   "id": "6fc8c3d1",
   "metadata": {},
   "source": [
    "## Итерация по списку и фильтрация элементов\n",
    "\n",
    "В Python мы можем легко итерировать по списку с помощью цикла `for`. Также можно фильтровать элементы списка, используя условный оператор `if`."
   ]
  },
  {
   "cell_type": "markdown",
   "id": "be714609",
   "metadata": {},
   "source": [
    "### Итерация по списку с использованием цикла for"
   ]
  },
  {
   "cell_type": "code",
   "execution_count": 9,
   "id": "6fd668cd",
   "metadata": {},
   "outputs": [
    {
     "name": "stdout",
     "output_type": "stream",
     "text": [
      "0\n",
      "1\n",
      "2\n",
      "3\n",
      "4\n",
      "5\n",
      "6\n",
      "7\n",
      "8\n",
      "9\n"
     ]
    }
   ],
   "source": [
    "for number in range_list:\n",
    "    print(number)  # Печатает каждый элемент списка"
   ]
  },
  {
   "cell_type": "markdown",
   "id": "38280599",
   "metadata": {},
   "source": [
    "### Фильтрация элементов списка"
   ]
  },
  {
   "cell_type": "code",
   "execution_count": 10,
   "id": "b6748447",
   "metadata": {},
   "outputs": [
    {
     "name": "stdout",
     "output_type": "stream",
     "text": [
      "[0, 1, 2, 3, 4, 5, 6, 7, 9]\n"
     ]
    }
   ],
   "source": [
    "filtered_list = [number for number in range_list if number != 8]\n",
    "print(filtered_list)  # Вывод: список без числа 8"
   ]
  }
 ],
 "metadata": {
  "kernelspec": {
   "display_name": "Python 3 (ipykernel)",
   "language": "python",
   "name": "python3"
  },
  "language_info": {
   "codemirror_mode": {
    "name": "ipython",
    "version": 3
   },
   "file_extension": ".py",
   "mimetype": "text/x-python",
   "name": "python",
   "nbconvert_exporter": "python",
   "pygments_lexer": "ipython3",
   "version": "3.11.5"
  }
 },
 "nbformat": 4,
 "nbformat_minor": 5
}
