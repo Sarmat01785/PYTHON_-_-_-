{
 "cells": [
  {
   "cell_type": "markdown",
   "id": "a012f258-055d-4098-8555-19bfb10c3f61",
   "metadata": {},
   "source": [
    "### Аннотации типов в `Python`\n",
    "\n",
    "Аннотации типов позволяют указывать типы данных для переменных, параметров функций и возвращаемых значений. Это помогает повысить читаемость кода и облегчает его статический анализ инструментами вроде `mypy`."
   ]
  },
  {
   "cell_type": "markdown",
   "id": "128f4d9a-d0dc-44cd-b591-51605e0d981a",
   "metadata": {},
   "source": [
    "#### Простая функция с аннотациями типов\n",
    "\n",
    "Пример функции, которая принимает два целых числа и возвращает их сумму:"
   ]
  },
  {
   "cell_type": "code",
   "execution_count": 4,
   "id": "be889065-383d-4c42-8662-2deaaf89563a",
   "metadata": {},
   "outputs": [],
   "source": [
    "def add_numbers(a: int, b: int) -> int:\n",
    "    \"\"\"Возвращает сумму двух целых чисел.\"\"\"\n",
    "    return a + b"
   ]
  },
  {
   "cell_type": "markdown",
   "id": "22969ed2-d5d1-4d42-be46-26cfc9804baa",
   "metadata": {},
   "source": [
    "Примечание:  \n",
    "- a: int и b: int указывают, что параметры должны быть целыми числами.\n",
    "- -> int обозначает, что функция возвращает целое число."
   ]
  },
  {
   "cell_type": "markdown",
   "id": "01845845-d41e-41a6-a3bc-a6751a630bf2",
   "metadata": {},
   "source": [
    "#### Работа со списками\n",
    "\n",
    "Функция, принимающая список целых чисел и возвращающая их сумму:"
   ]
  },
  {
   "cell_type": "code",
   "execution_count": 10,
   "id": "96b48fc1-4c66-46e9-88f1-33b77fdd6d44",
   "metadata": {},
   "outputs": [],
   "source": [
    "# Импортируем необходимые модули\n",
    "from typing import List, Optional, Dict"
   ]
  },
  {
   "cell_type": "code",
   "execution_count": 12,
   "id": "9fdc8ba9-c331-4ecc-82cc-af9331b23c6c",
   "metadata": {},
   "outputs": [],
   "source": [
    "def sum_numbers(numbers: List[int]) -> int:\n",
    "    \"\"\"Суммирует все элементы списка чисел.\"\"\"\n",
    "    return sum(numbers)"
   ]
  },
  {
   "cell_type": "markdown",
   "id": "e618de0d-10ff-4465-a35c-de39e472fca0",
   "metadata": {},
   "source": [
    "Примечание:  \n",
    "- List[int] означает, что аргумент numbers должен быть списком, содержащим целые числа."
   ]
  },
  {
   "cell_type": "markdown",
   "id": "d6abb647-4c60-41d8-9b2a-573002dee42d",
   "metadata": {},
   "source": [
    "#### Необязательные параметры\n",
    "\n",
    "Функция, которая приветствует пользователя, но имя может быть опциональным:"
   ]
  },
  {
   "cell_type": "code",
   "execution_count": 16,
   "id": "b94e2ed6-ea34-4f28-bbac-371a61387e0a",
   "metadata": {},
   "outputs": [],
   "source": [
    "def greet(name: Optional[str] = None) -> str:\n",
    "    \"\"\"Приветствие пользователя. Если имя не передано, выводит стандартное сообщение.\"\"\"\n",
    "    if name is not None:\n",
    "        return f\"Hello, {name}\"\n",
    "    else:\n",
    "        return \"Hello, World!\""
   ]
  },
  {
   "cell_type": "markdown",
   "id": "535a5716-f85d-4448-955d-5a2cd90e89d8",
   "metadata": {},
   "source": [
    "Примечание:  \n",
    "- Optional[str] позволяет параметру name принимать значение типа str или None."
   ]
  },
  {
   "cell_type": "markdown",
   "id": "31a5ffbc-276e-4b56-9d22-b873525e05e5",
   "metadata": {},
   "source": [
    "#### Работа со словарями\n",
    "\n",
    "Функция, обрабатывающая данные из словаря, где ключи – целые числа, а значения – строки:"
   ]
  },
  {
   "cell_type": "code",
   "execution_count": 20,
   "id": "43290da0-4e55-49ab-872f-38747024ceca",
   "metadata": {},
   "outputs": [],
   "source": [
    "def process_data(data: Dict[int, str]) -> None:\n",
    "    \"\"\"Обрабатывает данные из словаря и выводит пары ключ-значение.\"\"\"\n",
    "    for key, value in data.items():\n",
    "        print(f\"Key: {key}, Value: {value}\")"
   ]
  },
  {
   "cell_type": "markdown",
   "id": "b397bfe6-d21e-454e-9a53-9950c7d3c8cd",
   "metadata": {},
   "source": [
    "Примечание:  \n",
    "- Dict[int, str] указывает, что data должно быть словарем, где ключи – целые числа, а значения – строки.\n",
    "- -> None показывает, что функция ничего не возвращает."
   ]
  },
  {
   "cell_type": "markdown",
   "id": "8a605959-252e-41d9-a109-3f1f1f687be8",
   "metadata": {},
   "source": [
    "#### Примеры вызова функций"
   ]
  },
  {
   "cell_type": "code",
   "execution_count": 25,
   "id": "376d27db-b4a0-41c7-9768-736282e315d1",
   "metadata": {},
   "outputs": [
    {
     "name": "stdout",
     "output_type": "stream",
     "text": [
      "30\n",
      "15\n",
      "Hello, John\n",
      "Key: 1, Value: один\n",
      "Key: 2, Value: два\n"
     ]
    }
   ],
   "source": [
    "# Вызываем функцию сложения\n",
    "result = add_numbers(10, 20)\n",
    "print(result)  # Выводит: 30\n",
    "\n",
    "# Суммируем элементы списка\n",
    "total = sum_numbers([1, 2, 3, 4, 5])\n",
    "print(total)  # Выводит: 15\n",
    "\n",
    "# Приветствуем пользователя\n",
    "greeting = greet(\"John\")\n",
    "print(greeting)  # Выводит: Hello, John\n",
    "\n",
    "# Обработка словаря\n",
    "process_data({1: \"один\", 2: \"два\"})\n",
    "# Выводит:\n",
    "# Key: 1, Value: один\n",
    "# Key: 2, Value: два"
   ]
  },
  {
   "cell_type": "markdown",
   "id": "28755e63-ec30-4830-9e9a-7280a1c3b3da",
   "metadata": {},
   "source": [
    "#### Важный момент\n",
    "\n",
    "Аннотации типов не проверяются во время выполнения программы. Их цель – помощь разработчикам и инструментам статического анализа при написании и проверке кода."
   ]
  }
 ],
 "metadata": {
  "kernelspec": {
   "display_name": "Python 3 (ipykernel)",
   "language": "python",
   "name": "python3"
  },
  "language_info": {
   "codemirror_mode": {
    "name": "ipython",
    "version": 3
   },
   "file_extension": ".py",
   "mimetype": "text/x-python",
   "name": "python",
   "nbconvert_exporter": "python",
   "pygments_lexer": "ipython3",
   "version": "3.11.5"
  }
 },
 "nbformat": 4,
 "nbformat_minor": 5
}
