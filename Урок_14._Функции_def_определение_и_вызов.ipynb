{
 "cells": [
  {
   "cell_type": "markdown",
   "id": "207eb4cb",
   "metadata": {},
   "source": [
    "## Функции в Python\n",
    "\n",
    "Функции - это основной способ группировки кода в Python. Они позволяют коду быть переиспользуемым и улучшают читаемость программы. Ниже приведены примеры определения и использования функций."
   ]
  },
  {
   "cell_type": "markdown",
   "id": "6bfb1ec3",
   "metadata": {},
   "source": [
    "#### Определение простой функции без аргументов"
   ]
  },
  {
   "cell_type": "code",
   "execution_count": 15,
   "id": "45b598d7",
   "metadata": {},
   "outputs": [],
   "source": [
    "def greet():\n",
    "    \"\"\"Печатает простое приветствие.\"\"\"\n",
    "    print(\"Привет!\")"
   ]
  },
  {
   "cell_type": "code",
   "execution_count": 16,
   "id": "1e316b86",
   "metadata": {},
   "outputs": [
    {
     "name": "stdout",
     "output_type": "stream",
     "text": [
      "Привет!\n"
     ]
    }
   ],
   "source": [
    "# Вызов функции без параметров\n",
    "greet()"
   ]
  },
  {
   "cell_type": "markdown",
   "id": "966c76e3",
   "metadata": {},
   "source": [
    "#### Определение функции с одним параметром"
   ]
  },
  {
   "cell_type": "code",
   "execution_count": 9,
   "id": "87a03d7f",
   "metadata": {},
   "outputs": [
    {
     "name": "stdout",
     "output_type": "stream",
     "text": [
      "Привет, Алексей!\n"
     ]
    }
   ],
   "source": [
    "def personalized_greeting(name):\n",
    "    \"\"\"Печатает персонализированное приветствие.\n",
    "    \n",
    "    :param name: имя человека для приветствия\n",
    "    \"\"\"\n",
    "    print(f\"Привет, {name}!\")\n",
    "\n",
    "# Теперь можно вызвать функцию с конкретным именем\n",
    "personalized_greeting(\"Алексей\")"
   ]
  },
  {
   "cell_type": "markdown",
   "id": "7553de5c",
   "metadata": {},
   "source": [
    "#### Функция, возвращающая сумму двух чисел"
   ]
  },
  {
   "cell_type": "code",
   "execution_count": 12,
   "id": "3cd60fa5",
   "metadata": {},
   "outputs": [],
   "source": [
    "def sum_two_numbers(num1, num2):\n",
    "    \"\"\"Возвращает сумму двух чисел.\n",
    "    \n",
    "    :param num1: первое слагаемое\n",
    "    :param num2: второе слагаемое\n",
    "    :return: сумма num1 и num2\n",
    "    \"\"\"\n",
    "    return num1 + num2"
   ]
  },
  {
   "cell_type": "code",
   "execution_count": 14,
   "id": "77ecdb83",
   "metadata": {
    "scrolled": true
   },
   "outputs": [
    {
     "name": "stdout",
     "output_type": "stream",
     "text": [
      "Сумма чисел: 8\n"
     ]
    }
   ],
   "source": [
    "# Вызов функции с возвращением значения и его вывод\n",
    "total = sum_two_numbers(3, 5)\n",
    "print(\"Сумма чисел:\", total)  # Выводит: Сумма чисел: 8"
   ]
  },
  {
   "cell_type": "markdown",
   "id": "b7ec9bb2",
   "metadata": {},
   "source": [
    "#### Функция, умножающая переданное значение на 2"
   ]
  },
  {
   "cell_type": "code",
   "execution_count": 20,
   "id": "bfb29e20",
   "metadata": {},
   "outputs": [
    {
     "name": "stdout",
     "output_type": "stream",
     "text": [
      "Умножение на два: 10\n"
     ]
    }
   ],
   "source": [
    "def multiply_by_two(value):\n",
    "    \"\"\"Возвращает удвоенное значение параметра.\n",
    "    \n",
    "    :param value: число для умножения\n",
    "    :return: удвоенное значение value\n",
    "    \"\"\"\n",
    "    return value * 2\n",
    "# Вызов функции с параметром и вывод результата\n",
    "multiplication_result = multiply_by_two(5)\n",
    "print(\"Умножение на два:\", multiplication_result)  # Выведет: Умножение на два: 10"
   ]
  },
  {
   "cell_type": "markdown",
   "id": "c263ab3d",
   "metadata": {},
   "source": [
    "## Использование глобальных переменных\n",
    "\n",
    "Глобальные переменные могут быть доступны в любом месте программы, что делает их использование рискованным из-за возможности их изменения в любом месте кода. Ниже пример функции, использующей глобальную переменную."
   ]
  },
  {
   "cell_type": "code",
   "execution_count": 21,
   "id": "ebb9f7bc",
   "metadata": {},
   "outputs": [],
   "source": [
    "# Определение глобальной переменной\n",
    "global_base_value = 10\n",
    "\n",
    "def function_with_global():\n",
    "    \"\"\"Использует как локальную, так и глобальную переменные.\n",
    "    \n",
    "    :return: сумма локальной переменной local_sum и глобальной переменной global_base_value\n",
    "    \"\"\"\n",
    "    local_sum = 5\n",
    "    return local_sum + global_base_value"
   ]
  },
  {
   "cell_type": "code",
   "execution_count": 22,
   "id": "f4a02c12",
   "metadata": {},
   "outputs": [
    {
     "name": "stdout",
     "output_type": "stream",
     "text": [
      "Функция с глобальной переменной: 15\n"
     ]
    }
   ],
   "source": [
    "# Вызов функции с использованием глобальной переменной\n",
    "print(\"Функция с глобальной переменной:\", function_with_global())  # Выведет: Функция с глобальной переменной: 15"
   ]
  }
 ],
 "metadata": {
  "kernelspec": {
   "display_name": "Python 3 (ipykernel)",
   "language": "python",
   "name": "python3"
  }
 },
 "nbformat": 4,
 "nbformat_minor": 5
}
