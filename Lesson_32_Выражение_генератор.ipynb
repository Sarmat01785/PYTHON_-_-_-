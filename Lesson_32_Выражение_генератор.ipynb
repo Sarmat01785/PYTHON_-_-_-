{
 "cells": [
  {
   "cell_type": "markdown",
   "id": "0f8a381c-d93b-49d4-927c-e8b102c4170c",
   "metadata": {},
   "source": [
    "## Генераторные выражения и работа с ними в Python\n",
    "\n",
    "Генераторные выражения — это мощные инструменты в `Python`, позволяющие эффективно обрабатывать большие объемы данных, экономя память за счет ленивого вычисления. Давайте рассмотрим примеры использования генераторных выражений для фильтрации `URL`-адресов и работы с файловой системой."
   ]
  },
  {
   "cell_type": "markdown",
   "id": "4e6483e3-2a70-421a-99e5-282c1f24a2c2",
   "metadata": {},
   "source": [
    "### Фильтрация URL-адресов\n",
    "\n",
    "Начнем с примера фильтрации URL-адресов, оставляя только те, которые заканчиваются на .com и содержат символ / в конце."
   ]
  },
  {
   "cell_type": "code",
   "execution_count": 4,
   "id": "30420cdc-1822-456a-a1a7-03d73330ed87",
   "metadata": {},
   "outputs": [
    {
     "name": "stdout",
     "output_type": "stream",
     "text": [
      "www.сайт.com\n",
      "www.левыйсайт.com\n",
      "www.другойсайт.com\n",
      "www.сайтец.com\n"
     ]
    }
   ],
   "source": [
    "urls = [\n",
    "    \"https://www.сайт.com/\",\n",
    "    \"https://www.какойтосайт.net/\",\n",
    "    \"https://www.левыйсайт.com/\",\n",
    "    \"https://www.другойсайт.com/\",\n",
    "    \"https://www.сайтишка.net/\",\n",
    "    \"https://www.сайтец.com/\",\n",
    "]\n",
    "\n",
    "# Создаем генераторное выражение для получения доменных имен с расширением .com\n",
    "domains = (\n",
    "    url.rstrip(\"/\").split(\"/\")[-1]\n",
    "    for url in urls\n",
    "    if \".com\" in url and url.endswith(\"/\")\n",
    ")\n",
    "\n",
    "# Извлекаем все элементы из генератора\n",
    "for domain in domains:\n",
    "    print(domain)"
   ]
  },
  {
   "cell_type": "markdown",
   "id": "1dc950d6-7d36-4f77-a636-8be4af678302",
   "metadata": {},
   "source": [
    "### Преобразование генератора в список\n",
    "\n",
    "Мы можем преобразовать генераторное выражение в список, если хотим работать со всеми элементами сразу."
   ]
  },
  {
   "cell_type": "code",
   "execution_count": 7,
   "id": "76f41ca5-2637-4205-af2d-678738d22e76",
   "metadata": {},
   "outputs": [
    {
     "name": "stdout",
     "output_type": "stream",
     "text": [
      "[]\n",
      "<class 'list'>\n"
     ]
    }
   ],
   "source": [
    "# Преобразуем генераторное выражение в список\n",
    "domain_list = list(domains)\n",
    "print(domain_list)\n",
    "print(type(domain_list))  # Проверяем тип данных\n",
    "\n",
    "# Доступ к элементам списка\n",
    "if domain_list:  # Проверка, не пуст ли список\n",
    "    print(domain_list[0])  # Вывод первого элемента списка"
   ]
  },
  {
   "cell_type": "markdown",
   "id": "813a6892-f37f-4a82-9323-9f39ad4e36e7",
   "metadata": {},
   "source": [
    "### Использование `os.walk` с генераторными выражениями\n",
    "\n",
    "Теперь посмотрим, как можно использовать генераторные выражения вместе с `os.walk` для обхода файловой системы."
   ]
  },
  {
   "cell_type": "code",
   "execution_count": 11,
   "id": "aba79bf2-95d4-48be-93e6-2b540ffbe7a2",
   "metadata": {},
   "outputs": [
    {
     "name": "stdout",
     "output_type": "stream",
     "text": [
      "('C:\\\\', ['$Recycle.Bin', '$WinREAgent', 'Documents and Settings', 'Encryption', 'Intel', 'OneDriveTemp', 'PerfLogs', 'Program Files', 'Program Files (x86)', 'ProgramData', 'Python 3.10.10', 'Python Progects', 'QUIK_VTB', 'Recovery', 'System Volume Information', 'Users', 'Windows'], ['DumpStack.log', 'DumpStack.log.tmp', 'hiberfil.sys', 'pagefile.sys', 'swapfile.sys'])\n",
      "Список содержит информацию о:\n",
      "234043 каталогах/файлах\n"
     ]
    }
   ],
   "source": [
    "import os\n",
    "\n",
    "# Получение информации о всех файлах и каталогах в корневой директории C:\\\n",
    "file_info = next(os.walk(\"C:\\\\\"), None)\n",
    "if file_info:\n",
    "    print(file_info)\n",
    "\n",
    "# Создание списка с помощью генераторного выражения и os.walk\n",
    "file_tree = [x for x in os.walk(\"C:\\\\\")]\n",
    "\n",
    "print(\"Список содержит информацию о:\")\n",
    "print(len(file_tree), \"каталогах/файлах\")"
   ]
  },
  {
   "cell_type": "markdown",
   "id": "93f1b144-ddae-4d62-ae24-f73d1fd5d466",
   "metadata": {},
   "source": [
    "### Оценка использования памяти с помощью `sys.getsizeof()`\n",
    "\n",
    "Для оценки объема памяти, занимаемого объектом, можно воспользоваться функцией `sys.getsizeof()`."
   ]
  },
  {
   "cell_type": "code",
   "execution_count": 14,
   "id": "c8aa7560-37cb-431e-8567-e2930df5ffde",
   "metadata": {},
   "outputs": [
    {
     "name": "stdout",
     "output_type": "stream",
     "text": [
      "Размер пустого списка в байтах: 56\n",
      "Размер заполненного списка в байтах: 104\n"
     ]
    }
   ],
   "source": [
    "import sys\n",
    "\n",
    "empty_list = []\n",
    "print(\"Размер пустого списка в байтах:\", sys.getsizeof(empty_list))\n",
    "\n",
    "filled_list = [1, 2, 3, 4, 5]\n",
    "print(\"Размер заполненного списка в байтах:\", sys.getsizeof(filled_list))"
   ]
  },
  {
   "cell_type": "markdown",
   "id": "958a4293-a273-43df-a2a3-df57220792a8",
   "metadata": {},
   "source": [
    "### Заключение\n",
    "\n",
    "Генераторные выражения — это эффективный способ работы с большими объемами данных, позволяя экономить память и ресурсы. Они идеально подходят для ситуаций, когда требуется обработать множество элементов, извлекая их по мере необходимости."
   ]
  }
 ],
 "metadata": {
  "kernelspec": {
   "display_name": "Python 3 (ipykernel)",
   "language": "python",
   "name": "python3"
  },
  "language_info": {
   "codemirror_mode": {
    "name": "ipython",
    "version": 3
   },
   "file_extension": ".py",
   "mimetype": "text/x-python",
   "name": "python",
   "nbconvert_exporter": "python",
   "pygments_lexer": "ipython3",
   "version": "3.11.5"
  }
 },
 "nbformat": 4,
 "nbformat_minor": 5
}
