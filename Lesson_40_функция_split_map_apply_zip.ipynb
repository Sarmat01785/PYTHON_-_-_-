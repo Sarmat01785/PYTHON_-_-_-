{
 "cells": [
  {
   "cell_type": "markdown",
   "id": "4bd82d58-f0cd-4605-b232-a959595c4abd",
   "metadata": {},
   "source": [
    "# Тема урока: Функции `split()`, `map()`, `apply()` и `zip()`"
   ]
  },
  {
   "cell_type": "markdown",
   "id": "44d2673e-4d0b-4bd5-8a82-e91170301375",
   "metadata": {},
   "source": [
    "## 1. Функция `split()`\n",
    "\n",
    "Функция `split()` разбивает строку на список подстрок по указанному разделителю. По умолчанию разделителем является любой пробел."
   ]
  },
  {
   "cell_type": "code",
   "execution_count": 4,
   "id": "58a83989-f3e4-4bc5-bbb9-fffdb747a0f8",
   "metadata": {},
   "outputs": [
    {
     "name": "stdout",
     "output_type": "stream",
     "text": [
      "['Привет', 'как дела?']\n"
     ]
    }
   ],
   "source": [
    "# Пример использования функции split()\n",
    "sentence = \"Привет, как дела?\"\n",
    "words = sentence.split(\", \")\n",
    "print(words)  # Вывод: ['Привет', 'как дела?']"
   ]
  },
  {
   "cell_type": "markdown",
   "id": "84fc267c-23b0-44fb-a828-ef0ccf504be2",
   "metadata": {},
   "source": [
    "## 2. Функция `map()`\n",
    "\n",
    "Функция `map()` применяется к каждой строке последовательности и возвращает итератор с результатами. Она часто используется для преобразования каждого элемента коллекции."
   ]
  },
  {
   "cell_type": "code",
   "execution_count": 7,
   "id": "3da73e64-a185-4b98-855b-8d51f6628afb",
   "metadata": {},
   "outputs": [
    {
     "name": "stdout",
     "output_type": "stream",
     "text": [
      "[1, 4, 9, 16, 25]\n"
     ]
    }
   ],
   "source": [
    "# Пример использования функции map()\n",
    "numbers = [1, 2, 3, 4, 5]\n",
    "squared_numbers = list(map(lambda x: x ** 2, numbers))\n",
    "print(squared_numbers)  # Вывод: [1, 4, 9, 16, 25]"
   ]
  },
  {
   "cell_type": "markdown",
   "id": "e319d465-f464-453d-b28c-c017e5f93de6",
   "metadata": {},
   "source": [
    "## 3. Метод `apply()`\n",
    "\n",
    "Метод `apply()` в библиотеке `Pandas` применяется к каждому элементу `DataFrame` или `Series`, позволяя выполнять различные операции над данными."
   ]
  },
  {
   "cell_type": "code",
   "execution_count": 10,
   "id": "daae0590-5c0a-472b-905a-1672e326a8db",
   "metadata": {},
   "outputs": [
    {
     "name": "stdout",
     "output_type": "stream",
     "text": [
      "      Name  Age\n",
      "0     John   30\n",
      "1    Emily   35\n",
      "2  Charlie   40\n"
     ]
    }
   ],
   "source": [
    "# Пример использования метода apply() в Pandas\n",
    "import pandas as pd\n",
    "\n",
    "df = pd.DataFrame({\n",
    "    'Name': ['John', 'Emily', 'Charlie'],\n",
    "    'Age': [25, 30, 35]\n",
    "})\n",
    "\n",
    "# Добавляем 5 лет к возрасту каждого человека\n",
    "df['Age'] = df['Age'].apply(lambda x: x + 5)\n",
    "print(df)\n",
    "# Вывод:\n",
    "#       Name  Age\n",
    "# 0    John   30\n",
    "# 1   Emily   35\n",
    "# 2  Charlie   40"
   ]
  },
  {
   "cell_type": "markdown",
   "id": "b084d5dc-6e60-4bc3-b74d-583c4c3837d4",
   "metadata": {},
   "source": [
    "## 4. Функция `zip()`\n",
    "\n",
    "Функция `zip()` объединяет несколько последовательностей в одну последовательность кортежей. Это полезно для объединения данных из разных источников."
   ]
  },
  {
   "cell_type": "code",
   "execution_count": 13,
   "id": "838b19c5-8466-4a55-a7f7-4b564da3cfbe",
   "metadata": {},
   "outputs": [
    {
     "name": "stdout",
     "output_type": "stream",
     "text": [
      "[('John', 25), ('Emily', 30), ('Charlie', 35)]\n",
      "('John', 'Emily', 'Charlie')\n",
      "(25, 30, 35)\n"
     ]
    }
   ],
   "source": [
    "# Пример использования функции zip()\n",
    "names = ['John', 'Emily', 'Charlie']\n",
    "ages = [25, 30, 35]\n",
    "pairs = list(zip(names, ages))\n",
    "print(pairs)  # Вывод: [('John', 25), ('Emily', 30), ('Charlie', 35)]\n",
    "\n",
    "# Распаковка последовательности с помощью zip()\n",
    "first_names, ages = zip(*pairs)\n",
    "print(first_names)  # Вывод: ('John', 'Emily', 'Charlie')\n",
    "print(ages)  # Вывод: (25, 30, 35)"
   ]
  },
  {
   "cell_type": "markdown",
   "id": "b356ec8b-038f-4552-9f31-d20ab5ddd297",
   "metadata": {},
   "source": [
    "Эти функции значительно облегчают выполнение распространенных задач программирования, таких как обработка строк, работа с коллекциями и объединение данных."
   ]
  }
 ],
 "metadata": {
  "kernelspec": {
   "display_name": "Python 3 (ipykernel)",
   "language": "python",
   "name": "python3"
  },
  "language_info": {
   "codemirror_mode": {
    "name": "ipython",
    "version": 3
   },
   "file_extension": ".py",
   "mimetype": "text/x-python",
   "name": "python",
   "nbconvert_exporter": "python",
   "pygments_lexer": "ipython3",
   "version": "3.11.5"
  }
 },
 "nbformat": 4,
 "nbformat_minor": 5
}
