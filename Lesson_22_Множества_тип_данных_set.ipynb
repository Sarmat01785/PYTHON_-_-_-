{
 "cells": [
  {
   "cell_type": "markdown",
   "id": "56caf5a3",
   "metadata": {},
   "source": [
    "# Работа с множествами в Python\n",
    "\n",
    "В Python множество (`set`) - это коллекция уникальных элементов. Множества поддерживают множество операций, таких как пересечение, объединение, разность и симметрическая разность."
   ]
  },
  {
   "cell_type": "markdown",
   "id": "1a7075cc",
   "metadata": {},
   "source": [
    "## Операции над множествами:\n",
    "\n",
    "1. `intersection` - пересечение: возвращает множество, содержащее только элементы, присутствующие в обоих множествах.\n",
    "2. `difference` - разность: возвращает множество, содержащее элементы, присутствующие в одном множестве, но отсутствующие в другом.\n",
    "3. Работа с файлами и извлечение множеств из текстовых данных.\n",
    "\n",
    "Примеры ниже демонстрируют использование этих операций."
   ]
  },
  {
   "cell_type": "markdown",
   "id": "b22d9af9",
   "metadata": {},
   "source": [
    "### Ячейки с кодом и комментариями для практических примеров:"
   ]
  },
  {
   "cell_type": "code",
   "execution_count": 1,
   "id": "b1bff3ad",
   "metadata": {},
   "outputs": [
    {
     "name": "stdout",
     "output_type": "stream",
     "text": [
      "{3, 4, 5}\n"
     ]
    }
   ],
   "source": [
    "# Примеры операций над множествами\n",
    "\n",
    "# Определение двух множеств\n",
    "z = {1, 2, 3, 4, 5}\n",
    "x = {3, 4, 5, 6, 7}\n",
    "\n",
    "# Пересечение множеств\n",
    "t = z.intersection(x)\n",
    "print(t)  # Вывод: {3, 4, 5}, общие элементы между z и x"
   ]
  },
  {
   "cell_type": "code",
   "execution_count": 2,
   "id": "9b7362e7",
   "metadata": {},
   "outputs": [
    {
     "name": "stdout",
     "output_type": "stream",
     "text": [
      "{1, 2}\n",
      "{6, 7}\n"
     ]
    }
   ],
   "source": [
    "# Разность множеств\n",
    "e = z.difference(x)  # Элементы, присутствующие в z, но отсутствующие в x\n",
    "e_1 = x.difference(z)  # Элементы, присутствующие в x, но отсутствующие в z\n",
    "print(e)  # Вывод: {1, 2}\n",
    "print(e_1)  # Вывод: {6, 7}"
   ]
  },
  {
   "cell_type": "code",
   "execution_count": 3,
   "id": "6bf969a8",
   "metadata": {},
   "outputs": [
    {
     "name": "stdout",
     "output_type": "stream",
     "text": [
      "set()\n"
     ]
    }
   ],
   "source": [
    "# Работа с файлами и извлечение множеств из текстовых данных\n",
    "\n",
    "# Создание файла, если он не существует, и чтение данных\n",
    "# Режим 'a+' позволяет читать и писать в файл, создавая его, если он не найден\n",
    "with open('text.txt', 'a+', encoding='utf-8') as file:\n",
    "    file.seek(0)  # Перемещение курсора в начало файла\n",
    "    new = set(file.read().split())  # Преобразование содержимого в множество\n",
    "\n",
    "# Обновление множества данными из второго файла\n",
    "with open('text2.txt', 'a+', encoding='utf-8') as file:\n",
    "    file.seek(0)  # Перемещение курсора в начало файла\n",
    "    new.update(file.read().split())  # Добавление элементов в множество\n",
    "\n",
    "print(new)  # Вывод объединенного множества слов из обоих файлов"
   ]
  }
 ],
 "metadata": {
  "kernelspec": {
   "display_name": "Python 3 (ipykernel)",
   "language": "python",
   "name": "python3"
  },
  "language_info": {
   "codemirror_mode": {
    "name": "ipython",
    "version": 3
   },
   "file_extension": ".py",
   "mimetype": "text/x-python",
   "name": "python",
   "nbconvert_exporter": "python",
   "pygments_lexer": "ipython3",
   "version": "3.11.5"
  }
 },
 "nbformat": 4,
 "nbformat_minor": 5
}
