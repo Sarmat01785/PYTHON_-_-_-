{
 "cells": [
  {
   "cell_type": "markdown",
   "id": "27bc508c",
   "metadata": {},
   "source": [
    "## Использование модуля pathlib для работы с файлами\n",
    "\n",
    "Модуль `pathlib` представляет файловую систему в виде объектов, что упрощает процесс обработки путей и файлов. В этом примере мы используем `Path` из `pathlib` для поиска недавно измененных файлов и файлов с определенным расширением."
   ]
  },
  {
   "cell_type": "code",
   "execution_count": null,
   "id": "e55db336",
   "metadata": {},
   "outputs": [],
   "source": [
    "from pathlib import Path\n",
    "import time\n",
    "\n",
    "# Функция для получения списка всех файлов, которые были изменены в последние `timeframe` секунд\n",
    "def get_recent_files(directory, timeframe=86400):\n",
    "    recent_files = []\n",
    "    # Используем метод glob для поиска всех файлов в директории\n",
    "    for path in Path(directory).rglob('*'):\n",
    "        # Проверяем время создания файла\n",
    "        if time.time() - path.stat().st_ctime < timeframe:\n",
    "            recent_files.append(str(path))\n",
    "    return recent_files\n",
    "\n",
    "# Функция для получения списка всех файлов с определенным расширением\n",
    "def get_files_with_extension(directory, extension):\n",
    "    # Формируем шаблон поиска и возвращаем список файлов\n",
    "    return [str(file) for file in Path(directory).rglob(f'*.{extension}')]\n",
    "\n",
    "# Замените на путь к вашей целевой папке\n",
    "target_directory = r\"C:\\Users\\Сармат\\Pictures\"\n",
    "\n",
    "# Получение и вывод списка недавних файлов\n",
    "recent_files = get_recent_files(target_directory)\n",
    "print(\"Недавние файлы:\", recent_files)\n",
    "\n",
    "# Получение и вывод списка файлов с расширением JPG\n",
    "jpg_files = get_files_with_extension(target_directory, 'jpg')\n",
    "print(\"Файлы JPG:\", jpg_files)"
   ]
  },
  {
   "cell_type": "markdown",
   "id": "cb1032b5",
   "metadata": {},
   "source": [
    "## Заключение\n",
    "\n",
    "Использование `pathlib` облегчает манипуляцию файлами и директориями. Методы `rglob` и `stat` позволяют нам фильтровать файлы по времени изменения и расширению, что делает `pathlib` полезным инструментом для работы со многими файлами."
   ]
  }
 ],
 "metadata": {
  "kernelspec": {
   "display_name": "Python 3 (ipykernel)",
   "language": "python",
   "name": "python3"
  },
  "language_info": {
   "codemirror_mode": {
    "name": "ipython",
    "version": 3
   },
   "file_extension": ".py",
   "mimetype": "text/x-python",
   "name": "python",
   "nbconvert_exporter": "python",
   "pygments_lexer": "ipython3",
   "version": "3.11.5"
  }
 },
 "nbformat": 4,
 "nbformat_minor": 5
}
