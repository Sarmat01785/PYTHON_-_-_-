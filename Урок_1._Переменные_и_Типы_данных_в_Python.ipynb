{
 "cells": [
  {
   "cell_type": "markdown",
   "id": "bfcba951",
   "metadata": {},
   "source": [
    "### Переменные используются для хранения данных, которые могут быть различных типов:\n",
    "- `int`: целые числа, например 5\n",
    "- `float`: числа с плавающей точкой, например 3.14\n",
    "- `str`: строки, например \"Hello\"\n",
    "- `bool`: логические значения True или False\n",
    "- `list`: списки, например [1, 2, 3]\n",
    "- `tuple`: кортежи, которые неизменяемы, например (1, 2, 3)\n",
    "- `dict`: словари с парами ключ-значение, например {'name': 'John', 'age': 25}\n",
    "- `set`: множества без дубликатов, например {1, 2, 3}\n"
   ]
  },
  {
   "cell_type": "markdown",
   "id": "751251f3",
   "metadata": {},
   "source": [
    "### Именование переменных\n",
    "- Должны начинаться с буквы (a-z, A-Z) или подчеркивания (_)\n",
    "- Могут содержать буквы, цифры (0-9) и подчеркивания\n",
    "- Регистрозависимы: `'Variable'` и `'variable'` - разные переменные\n",
    "- Избегайте зарезервированных слов и встроенных имен"
   ]
  },
  {
   "cell_type": "markdown",
   "id": "a55d2c56",
   "metadata": {},
   "source": [
    "### Изменяемые и неизменяемые типы данных"
   ]
  },
  {
   "cell_type": "code",
   "execution_count": 1,
   "id": "c035fb12",
   "metadata": {},
   "outputs": [
    {
     "name": "stdout",
     "output_type": "stream",
     "text": [
      "[100, 2, 3]\n"
     ]
    }
   ],
   "source": [
    "mutable_list = [1, 2, 3]\n",
    "mutable_list[0] = 100  # Допустимо, т.к. списки изменяемы\n",
    "print(mutable_list)  # Выведет: [100, 2, 3]"
   ]
  },
  {
   "cell_type": "code",
   "execution_count": 2,
   "id": "28095e14",
   "metadata": {},
   "outputs": [
    {
     "ename": "TypeError",
     "evalue": "'tuple' object does not support item assignment",
     "output_type": "error",
     "traceback": [
      "\u001b[1;31m---------------------------------------------------------------------------\u001b[0m",
      "\u001b[1;31mTypeError\u001b[0m                                 Traceback (most recent call last)",
      "Cell \u001b[1;32mIn[2], line 2\u001b[0m\n\u001b[0;32m      1\u001b[0m immutable_tuple \u001b[38;5;241m=\u001b[39m (\u001b[38;5;241m1\u001b[39m, \u001b[38;5;241m2\u001b[39m, \u001b[38;5;241m3\u001b[39m)\n\u001b[1;32m----> 2\u001b[0m immutable_tuple[\u001b[38;5;241m0\u001b[39m] \u001b[38;5;241m=\u001b[39m \u001b[38;5;241m100\u001b[39m  \u001b[38;5;66;03m# Вызовет ошибку, т.к. кортежи неизменяемы\u001b[39;00m\n\u001b[0;32m      3\u001b[0m \u001b[38;5;28mprint\u001b[39m(immutable_tuple)\n",
      "\u001b[1;31mTypeError\u001b[0m: 'tuple' object does not support item assignment"
     ]
    }
   ],
   "source": [
    "immutable_tuple = (1, 2, 3)\n",
    "immutable_tuple[0] = 100  # Вызовет ошибку, т.к. кортежи неизменяемы\n",
    "print(immutable_tuple)  # TypeError: 'tuple' object does not support item assignment"
   ]
  },
  {
   "cell_type": "markdown",
   "id": "7b5dba38",
   "metadata": {},
   "source": [
    "### Форматирование строк с помощью f-строк"
   ]
  },
  {
   "cell_type": "code",
   "execution_count": 3,
   "id": "cdb3778b",
   "metadata": {},
   "outputs": [
    {
     "name": "stdout",
     "output_type": "stream",
     "text": [
      "Имя: Анна, Возраст: 30\n"
     ]
    }
   ],
   "source": [
    "name = \"Анна\"\n",
    "age = 30\n",
    "print(f\"Имя: {name}, Возраст: {age}\")  # Имя: Анна, Возраст: 30"
   ]
  },
  {
   "cell_type": "markdown",
   "id": "06d1c58b",
   "metadata": {},
   "source": [
    "### Глобальные и локальные переменные\n",
    "- Глобальные переменные доступны вне функций, локальные - внутри функций."
   ]
  },
  {
   "cell_type": "code",
   "execution_count": 4,
   "id": "330c1977",
   "metadata": {},
   "outputs": [
    {
     "name": "stdout",
     "output_type": "stream",
     "text": [
      "Привет, Анна!\n"
     ]
    }
   ],
   "source": [
    "# Пример функции с локальной переменной\n",
    "def greet(name_1):\n",
    "    message = f\"Привет, {name_1}!\"\n",
    "    print(message)\n",
    "\n",
    "greet('Анна')  # Выведет: Привет, Анна!"
   ]
  },
  {
   "cell_type": "markdown",
   "id": "c90c5e65",
   "metadata": {},
   "source": [
    "### Константы"
   ]
  },
  {
   "cell_type": "code",
   "execution_count": 5,
   "id": "9e9cd7f7",
   "metadata": {},
   "outputs": [],
   "source": [
    "PI = 3.14159  # Принято называть константы заглавными буквами"
   ]
  },
  {
   "cell_type": "markdown",
   "id": "54ba4bd8",
   "metadata": {},
   "source": [
    "### Преобразование типов"
   ]
  },
  {
   "cell_type": "code",
   "execution_count": 6,
   "id": "724a055d",
   "metadata": {},
   "outputs": [
    {
     "name": "stdout",
     "output_type": "stream",
     "text": [
      "6\n"
     ]
    }
   ],
   "source": [
    "number_string = \"5\"\n",
    "number_int = int(number_string)\n",
    "print(number_int + 1)  # Выведет: 6"
   ]
  },
  {
   "cell_type": "markdown",
   "id": "1810c9ff",
   "metadata": {},
   "source": [
    "### Использование функции print"
   ]
  },
  {
   "cell_type": "code",
   "execution_count": 7,
   "id": "0bb85fb4",
   "metadata": {},
   "outputs": [
    {
     "name": "stdout",
     "output_type": "stream",
     "text": [
      "Hello-World!\n"
     ]
    }
   ],
   "source": [
    "print(\"Hello\", \"World\", sep=\"-\", end=\"!\\n\")  # Выведет: Hello-World!"
   ]
  },
  {
   "cell_type": "markdown",
   "id": "3c0e534f",
   "metadata": {},
   "source": [
    "### Обмен значений и множественное присвоение"
   ]
  },
  {
   "cell_type": "code",
   "execution_count": 8,
   "id": "890ba01a",
   "metadata": {},
   "outputs": [
    {
     "name": "stdout",
     "output_type": "stream",
     "text": [
      "7 5\n"
     ]
    }
   ],
   "source": [
    "a, b = 5, 7\n",
    "a, b = b, a  # Обмен значений\n",
    "print(a, b)  # Выведет: 7 5"
   ]
  },
  {
   "cell_type": "markdown",
   "id": "63ea42a4",
   "metadata": {},
   "source": [
    "### Распаковка коллекций"
   ]
  },
  {
   "cell_type": "code",
   "execution_count": 9,
   "id": "02248122",
   "metadata": {},
   "outputs": [],
   "source": [
    "head,  * tail = [1, 2, 3, 4, 5]"
   ]
  },
  {
   "cell_type": "code",
   "execution_count": 10,
   "id": "931d60b7",
   "metadata": {},
   "outputs": [
    {
     "name": "stdout",
     "output_type": "stream",
     "text": [
      "1\n"
     ]
    }
   ],
   "source": [
    "print(head)  # Выведет: 1"
   ]
  },
  {
   "cell_type": "code",
   "execution_count": 11,
   "id": "233f063b",
   "metadata": {},
   "outputs": [
    {
     "name": "stdout",
     "output_type": "stream",
     "text": [
      "[2, 3, 4, 5]\n"
     ]
    }
   ],
   "source": [
    "print(tail)  # Выведет: [2, 3, 4, 5]"
   ]
  },
  {
   "cell_type": "markdown",
   "id": "8dc0c2ea",
   "metadata": {},
   "source": [
    "### Работа с переменными в выражениях"
   ]
  },
  {
   "cell_type": "code",
   "execution_count": 12,
   "id": "03986d85",
   "metadata": {},
   "outputs": [
    {
     "name": "stdout",
     "output_type": "stream",
     "text": [
      "30\n"
     ]
    }
   ],
   "source": [
    "x, y = 10, 20\n",
    "summa = x + y\n",
    "print(summa)  # Выведет: 30"
   ]
  },
  {
   "cell_type": "markdown",
   "id": "84048993",
   "metadata": {},
   "source": [
    "### Изменение значения переменной"
   ]
  },
  {
   "cell_type": "code",
   "execution_count": 13,
   "id": "c18bdd5f",
   "metadata": {},
   "outputs": [
    {
     "name": "stdout",
     "output_type": "stream",
     "text": [
      "11\n"
     ]
    }
   ],
   "source": [
    "x += 1\n",
    "print(x)  # Выведет: 11"
   ]
  }
 ],
 "metadata": {
  "kernelspec": {
   "display_name": "Python 3 (ipykernel)",
   "language": "python",
   "name": "python3"
  }
 },
 "nbformat": 4,
 "nbformat_minor": 5
}
