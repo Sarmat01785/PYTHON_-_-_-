{
 "cells": [
  {
   "cell_type": "markdown",
   "id": "707fa19f",
   "metadata": {},
   "source": [
    "## Цикл for, цикл в цикле и функция range\n",
    "\n",
    "Цикл `for` в Python - это удобный способ перебирать элементы последовательности. \n",
    "В сочетании с функцией `range`, которая генерирует последовательность чисел, `for` становится мощным инструментом для итерации.\n",
    "\n",
    "Также мы рассмотрим вложенные циклы и узнаем, как использовать `range` с различными параметрами.\n",
    "\n",
    "Для подсчета количества вхождений каждого символа в строку воспользуемся классом `Counter` из модуля `collections`."
   ]
  },
  {
   "cell_type": "code",
   "execution_count": 1,
   "id": "d484e2c3",
   "metadata": {},
   "outputs": [],
   "source": [
    "# Импортируем Counter из модуля collections\n",
    "from collections import Counter"
   ]
  },
  {
   "cell_type": "markdown",
   "id": "4b8e2aaa",
   "metadata": {},
   "source": [
    "### Пример использования цикла for с функцией range\n",
    "- Вывод чисел от 0 до 4"
   ]
  },
  {
   "cell_type": "code",
   "execution_count": 2,
   "id": "241de791",
   "metadata": {},
   "outputs": [
    {
     "name": "stdout",
     "output_type": "stream",
     "text": [
      "0 1 2 3 4 \n",
      "\n"
     ]
    }
   ],
   "source": [
    "for i in range(5):\n",
    "    print(i, end=' ')\n",
    "print(\"\\n\")  # Добавляем пустую строку для разделения вывода"
   ]
  },
  {
   "cell_type": "markdown",
   "id": "1b4ba00a",
   "metadata": {},
   "source": [
    "### Пример вложенных циклов\n",
    "- Вывод комбинаций индексов"
   ]
  },
  {
   "cell_type": "code",
   "execution_count": 3,
   "id": "7c75604a",
   "metadata": {},
   "outputs": [
    {
     "name": "stdout",
     "output_type": "stream",
     "text": [
      "(0, 0) (0, 1) \n",
      "\n",
      "(1, 0) (1, 1) \n",
      "\n",
      "(2, 0) (2, 1) \n",
      "\n"
     ]
    }
   ],
   "source": [
    "for i in range(3):\n",
    "    for j in range(2):\n",
    "        print(f\"({i}, {j})\", end=' ')\n",
    "    print(\"\\n\")  # Пустая строка между каждым внешним циклом"
   ]
  },
  {
   "cell_type": "markdown",
   "id": "610877a3",
   "metadata": {},
   "source": [
    "### Пример использования функции range с разными параметрами\n",
    "- Вывод чисел от 0 до 9"
   ]
  },
  {
   "cell_type": "code",
   "execution_count": 4,
   "id": "7420a4e7",
   "metadata": {},
   "outputs": [
    {
     "name": "stdout",
     "output_type": "stream",
     "text": [
      "0 1 2 3 4 5 6 7 8 9 \n",
      "\n"
     ]
    }
   ],
   "source": [
    "for i in range(10):\n",
    "    print(i, end=' ')\n",
    "print(\"\\n\")"
   ]
  },
  {
   "cell_type": "markdown",
   "id": "cfe45425",
   "metadata": {},
   "source": [
    "### Вывод чисел от 5 до 9"
   ]
  },
  {
   "cell_type": "code",
   "execution_count": 5,
   "id": "e0880809",
   "metadata": {},
   "outputs": [
    {
     "name": "stdout",
     "output_type": "stream",
     "text": [
      "5 6 7 8 9 \n",
      "\n"
     ]
    }
   ],
   "source": [
    "for i in range(5, 10):\n",
    "    print(i, end=' ')\n",
    "print(\"\\n\")"
   ]
  },
  {
   "cell_type": "markdown",
   "id": "7f9c6d1d",
   "metadata": {},
   "source": [
    "### Вывод нечетных чисел от 1 до 9"
   ]
  },
  {
   "cell_type": "code",
   "execution_count": 6,
   "id": "685dfc84",
   "metadata": {},
   "outputs": [
    {
     "name": "stdout",
     "output_type": "stream",
     "text": [
      "1 3 5 7 9 \n",
      "\n"
     ]
    }
   ],
   "source": [
    "for i in range(1, 10, 2):\n",
    "    print(i, end=' ')\n",
    "print(\"\\n\")"
   ]
  },
  {
   "cell_type": "markdown",
   "id": "8ab2bcfc",
   "metadata": {},
   "source": [
    "### Вывод чисел от 10 до -8, уменьшающихся на 2"
   ]
  },
  {
   "cell_type": "code",
   "execution_count": 7,
   "id": "92736f07",
   "metadata": {},
   "outputs": [
    {
     "name": "stdout",
     "output_type": "stream",
     "text": [
      "10 8 6 4 2 0 -2 -4 -6 -8 \n",
      "\n"
     ]
    }
   ],
   "source": [
    "for i in range(10, -10, -2):\n",
    "    print(i, end=' ')\n",
    "print(\"\\n\")"
   ]
  },
  {
   "cell_type": "markdown",
   "id": "7601831b",
   "metadata": {},
   "source": [
    "### Подсчет количества каждой буквы в пользовательском вводе\n",
    "- Определяем алфавит для подсчета"
   ]
  },
  {
   "cell_type": "code",
   "execution_count": 8,
   "id": "8055dcee",
   "metadata": {},
   "outputs": [
    {
     "name": "stdout",
     "output_type": "stream",
     "text": [
      "Введите строку:\n",
      "Лена\n",
      "Букв а было 1\n",
      "Букв е было 1\n",
      "Букв н было 1\n"
     ]
    }
   ],
   "source": [
    "alphabet = \"абвгдеёжзиклмнопрстуфхцчшщьыъэюя\"\n",
    "\n",
    "# Запрашиваем строку у пользователя\n",
    "user_input = input(\"Введите строку:\\n\").strip()\n",
    "\n",
    "# Используем блок try-except для обработки возможных ошибок\n",
    "try:\n",
    "    # Создаем объект Counter для подсчета букв и выводим результаты\n",
    "    counter = Counter(user_input)\n",
    "    for letter in alphabet:\n",
    "        count = counter[letter]\n",
    "        if count > 0:\n",
    "            print(f\"Букв {letter} было {count}\")\n",
    "except Exception as e:\n",
    "    print(\"Ошибка при обработке ввода пользователя:\", e)"
   ]
  }
 ],
 "metadata": {
  "kernelspec": {
   "display_name": "Python 3 (ipykernel)",
   "language": "python",
   "name": "python3"
  },
  "language_info": {
   "codemirror_mode": {
    "name": "ipython",
    "version": 3
   },
   "file_extension": ".py",
   "mimetype": "text/x-python",
   "name": "python",
   "nbconvert_exporter": "python",
   "pygments_lexer": "ipython3",
   "version": "3.11.5"
  }
 },
 "nbformat": 4,
 "nbformat_minor": 5
}
