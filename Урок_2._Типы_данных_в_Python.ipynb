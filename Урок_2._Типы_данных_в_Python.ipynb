{
 "cells": [
  {
   "cell_type": "markdown",
   "id": "f2ad5117",
   "metadata": {},
   "source": [
    "### Типы данных в Python\n",
    "- Python поддерживает различные типы данных, позволяющие хранить и обрабатывать разнообразные значения:"
   ]
  },
  {
   "cell_type": "markdown",
   "id": "75e6d41d",
   "metadata": {},
   "source": [
    "### Числовые типы данных"
   ]
  },
  {
   "cell_type": "code",
   "execution_count": 1,
   "id": "f1925702",
   "metadata": {},
   "outputs": [],
   "source": [
    "x = 5  # Целое число (int)\n",
    "y = -10  # Целое число (int)\n",
    "PI = 3.14  # Вещественное число (float)\n",
    "temperature = 25.5  # Вещественное число (float)\n",
    "complex_number = 1 + 1j  # Комплексное число (complex)"
   ]
  },
  {
   "cell_type": "code",
   "execution_count": 23,
   "id": "37d477db",
   "metadata": {},
   "outputs": [
    {
     "name": "stdout",
     "output_type": "stream",
     "text": [
      "5\n",
      "<class 'int'>\n"
     ]
    }
   ],
   "source": [
    "print(x)\n",
    "print(type(x))"
   ]
  },
  {
   "cell_type": "code",
   "execution_count": 24,
   "id": "c0f5ef01",
   "metadata": {},
   "outputs": [
    {
     "name": "stdout",
     "output_type": "stream",
     "text": [
      "-10\n",
      "<class 'int'>\n"
     ]
    }
   ],
   "source": [
    "print(y)\n",
    "print(type(y))"
   ]
  },
  {
   "cell_type": "code",
   "execution_count": 25,
   "id": "cf837fc8",
   "metadata": {},
   "outputs": [
    {
     "name": "stdout",
     "output_type": "stream",
     "text": [
      "3.14\n",
      "<class 'float'>\n"
     ]
    }
   ],
   "source": [
    "print(PI)\n",
    "print(type(PI))"
   ]
  },
  {
   "cell_type": "code",
   "execution_count": 26,
   "id": "5a663d00",
   "metadata": {},
   "outputs": [
    {
     "name": "stdout",
     "output_type": "stream",
     "text": [
      "25.5\n",
      "<class 'float'>\n"
     ]
    }
   ],
   "source": [
    "print(temperature)\n",
    "print(type(temperature))"
   ]
  },
  {
   "cell_type": "code",
   "execution_count": 27,
   "id": "5108a80e",
   "metadata": {
    "scrolled": true
   },
   "outputs": [
    {
     "name": "stdout",
     "output_type": "stream",
     "text": [
      "(1+1j)\n",
      "<class 'complex'>\n"
     ]
    }
   ],
   "source": [
    "print(complex_number)\n",
    "print(type(complex_number))"
   ]
  },
  {
   "cell_type": "markdown",
   "id": "449c555b",
   "metadata": {},
   "source": [
    "### Строковый тип данных"
   ]
  },
  {
   "cell_type": "code",
   "execution_count": 2,
   "id": "4c80676a",
   "metadata": {},
   "outputs": [],
   "source": [
    "message = \"Привет, мир!\"  # Строка (str)\n",
    "name = 'Alice'  # Строка (str)"
   ]
  },
  {
   "cell_type": "code",
   "execution_count": 28,
   "id": "caea1c93",
   "metadata": {},
   "outputs": [
    {
     "name": "stdout",
     "output_type": "stream",
     "text": [
      "Привет, мир!\n",
      "<class 'str'>\n"
     ]
    }
   ],
   "source": [
    "print(message)\n",
    "print(type(message))"
   ]
  },
  {
   "cell_type": "code",
   "execution_count": 29,
   "id": "ba7af675",
   "metadata": {},
   "outputs": [
    {
     "name": "stdout",
     "output_type": "stream",
     "text": [
      "Alice\n",
      "<class 'str'>\n"
     ]
    }
   ],
   "source": [
    "print(name)\n",
    "print(type(name))"
   ]
  },
  {
   "cell_type": "markdown",
   "id": "a7c0d8be",
   "metadata": {},
   "source": [
    "### Коллекции"
   ]
  },
  {
   "cell_type": "code",
   "execution_count": 20,
   "id": "13802c23",
   "metadata": {},
   "outputs": [],
   "source": [
    "numbers = [1, 2, 3, 4, 5]  # Список (list)\n",
    "fruits = ['яблоко', 'банан', 'апельсин']  # Список (list)\n",
    "coordinates = (10, 20)  # Кортеж (tuple)\n",
    "person = ('John', 25, 'Москва')  # Кортеж (tuple)\n",
    "student = {'имя': 'Alice', 'возраст': 20, 'курс': 'Python'}  # Словарь (dict)\n",
    "country = {'название': 'Россия', 'столица': 'Москва', 'население': 12000000}  # Словарь (dict)\n",
    "set_1 = {1, 2, 3, 4}  # Множество (set)\n",
    "set_2 = {'яблоко', 'банан', 'апельсин'}  # Множество (set)"
   ]
  },
  {
   "cell_type": "code",
   "execution_count": 14,
   "id": "07b639d3",
   "metadata": {
    "scrolled": false
   },
   "outputs": [
    {
     "name": "stdout",
     "output_type": "stream",
     "text": [
      "[1, 2, 3, 4, 5]\n",
      "<class 'list'>\n"
     ]
    }
   ],
   "source": [
    "print(numbers)\n",
    "print(type(numbers))"
   ]
  },
  {
   "cell_type": "code",
   "execution_count": 15,
   "id": "988a2c41",
   "metadata": {},
   "outputs": [
    {
     "name": "stdout",
     "output_type": "stream",
     "text": [
      "['яблоко', 'банан', 'апельсин']\n",
      "<class 'list'>\n"
     ]
    }
   ],
   "source": [
    "print(fruits)\n",
    "print(type(fruits))"
   ]
  },
  {
   "cell_type": "code",
   "execution_count": 16,
   "id": "390f1aa0",
   "metadata": {},
   "outputs": [
    {
     "name": "stdout",
     "output_type": "stream",
     "text": [
      "(10, 20)\n",
      "<class 'tuple'>\n"
     ]
    }
   ],
   "source": [
    "print(coordinates)\n",
    "print(type(coordinates))"
   ]
  },
  {
   "cell_type": "code",
   "execution_count": 17,
   "id": "79fe727e",
   "metadata": {},
   "outputs": [
    {
     "name": "stdout",
     "output_type": "stream",
     "text": [
      "('John', 25, 'Москва')\n",
      "<class 'tuple'>\n"
     ]
    }
   ],
   "source": [
    "print(person)\n",
    "print(type(person))"
   ]
  },
  {
   "cell_type": "code",
   "execution_count": 18,
   "id": "6b2b32ef",
   "metadata": {},
   "outputs": [
    {
     "name": "stdout",
     "output_type": "stream",
     "text": [
      "{'имя': 'Alice', 'возраст': 20, 'курс': 'Python'}\n",
      "<class 'dict'>\n"
     ]
    }
   ],
   "source": [
    "print(student)\n",
    "print(type(student))"
   ]
  },
  {
   "cell_type": "code",
   "execution_count": 19,
   "id": "fbe578a2",
   "metadata": {},
   "outputs": [
    {
     "name": "stdout",
     "output_type": "stream",
     "text": [
      "{'название': 'Россия', 'столица': 'Москва', 'население': 12000000}\n",
      "<class 'dict'>\n"
     ]
    }
   ],
   "source": [
    "print(country)\n",
    "print(type(country))"
   ]
  },
  {
   "cell_type": "code",
   "execution_count": 21,
   "id": "fdcd32f9",
   "metadata": {},
   "outputs": [
    {
     "name": "stdout",
     "output_type": "stream",
     "text": [
      "{1, 2, 3, 4}\n",
      "<class 'set'>\n"
     ]
    }
   ],
   "source": [
    "print(set_1)\n",
    "print(type(set_1))"
   ]
  },
  {
   "cell_type": "code",
   "execution_count": 22,
   "id": "f292afea",
   "metadata": {},
   "outputs": [
    {
     "name": "stdout",
     "output_type": "stream",
     "text": [
      "{'банан', 'яблоко', 'апельсин'}\n",
      "<class 'set'>\n"
     ]
    }
   ],
   "source": [
    "print(set_2)\n",
    "print(type(set_2))"
   ]
  },
  {
   "cell_type": "markdown",
   "id": "242a49c9",
   "metadata": {},
   "source": [
    "### Отсутствие данных и логические значения"
   ]
  },
  {
   "cell_type": "code",
   "execution_count": 34,
   "id": "20f3ba83",
   "metadata": {},
   "outputs": [],
   "source": [
    "a = None  # NoneType: отсутствие значения\n",
    "is_active = True  # Булево значение (bool)\n",
    "is_closed = False  # Булево значение (bool)"
   ]
  },
  {
   "cell_type": "code",
   "execution_count": 35,
   "id": "81a144d1",
   "metadata": {},
   "outputs": [
    {
     "name": "stdout",
     "output_type": "stream",
     "text": [
      "None\n",
      "<class 'NoneType'>\n"
     ]
    }
   ],
   "source": [
    "print(a)\n",
    "print(type(a))"
   ]
  },
  {
   "cell_type": "code",
   "execution_count": 36,
   "id": "2c6df57c",
   "metadata": {},
   "outputs": [
    {
     "name": "stdout",
     "output_type": "stream",
     "text": [
      "True\n",
      "<class 'bool'>\n"
     ]
    }
   ],
   "source": [
    "print(is_active)\n",
    "print(type(is_active))"
   ]
  },
  {
   "cell_type": "code",
   "execution_count": 37,
   "id": "06357970",
   "metadata": {},
   "outputs": [
    {
     "name": "stdout",
     "output_type": "stream",
     "text": [
      "False\n",
      "<class 'bool'>\n"
     ]
    }
   ],
   "source": [
    "print(is_closed)\n",
    "print(type(is_closed))"
   ]
  },
  {
   "cell_type": "markdown",
   "id": "411ec20c",
   "metadata": {},
   "source": [
    "### Ввод данных с клавиатуры и преобразование типов"
   ]
  },
  {
   "cell_type": "code",
   "execution_count": 40,
   "id": "44a41129",
   "metadata": {},
   "outputs": [
    {
     "name": "stdout",
     "output_type": "stream",
     "text": [
      "Ввод: 6\n",
      "11\n"
     ]
    }
   ],
   "source": [
    "x = input(\"Ввод: \")  # Все введенные данные будут строкой (str)\n",
    "r = int(x) + 5  # Преобразование строки в целое число (int) перед сложением\n",
    "print(r)"
   ]
  },
  {
   "cell_type": "markdown",
   "id": "815ffe0a",
   "metadata": {},
   "source": [
    "### Ввод данных с плавающей точкой и их обработка"
   ]
  },
  {
   "cell_type": "code",
   "execution_count": 39,
   "id": "f760c2a9",
   "metadata": {},
   "outputs": [
    {
     "name": "stdout",
     "output_type": "stream",
     "text": [
      "Введите число: 1.5\n",
      "Введите число: 1.1\n",
      "Результат: 2.6\n"
     ]
    }
   ],
   "source": [
    "x1 = float(input(\"Введите число: \"))  # Преобразование введенной строки в число с плавающей точкой (float)\n",
    "y1 = float(input(\"Введите число: \"))\n",
    "r = x1 + y1\n",
    "print(\"Результат: \" + str(r))  # Объединение строки с числом, преобразованное в строку"
   ]
  }
 ],
 "metadata": {
  "kernelspec": {
   "display_name": "Python 3 (ipykernel)",
   "language": "python",
   "name": "python3"
  }
 },
 "nbformat": 4,
 "nbformat_minor": 5
}
