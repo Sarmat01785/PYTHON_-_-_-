{
 "cells": [
  {
   "cell_type": "markdown",
   "id": "d772a5e0-3f6d-4694-86a0-c58623906a4d",
   "metadata": {},
   "source": [
    "### Обработка исключений, try, except, finally  Улучшение кода с помощью docstrings\n",
    "\n",
    "Менеджер контекста `with as` — это удобный способ управления ресурсами, такими как файлы, базы данных и другие объекты, требующие открытия и закрытия. Он обеспечивает безопасное использование ресурсов, гарантируя их освобождение после завершения работы."
   ]
  },
  {
   "cell_type": "markdown",
   "id": "d45159ae-04e0-4341-86bd-8e9f11856eec",
   "metadata": {},
   "source": [
    "#### Синтаксис `with as`"
   ]
  },
  {
   "cell_type": "markdown",
   "id": "25b39d0f-ee92-4864-9ee8-bcb436e596fc",
   "metadata": {},
   "source": [
    "#### Пример использования менеджера контекста для работы с файлом"
   ]
  },
  {
   "cell_type": "markdown",
   "id": "544f7e5b-e3d9-4e7f-9da8-3a726dc3f1df",
   "metadata": {},
   "source": [
    "```python\n",
    "# Открываем файл example.txt в режиме записи ('w')\n",
    "with open('example.txt', 'w') as file:\n",
    "    # Пишем строку в файл\n",
    "    file.write('Привет, мир!')\n",
    "    \n",
    "# Файл автоматически закроется после выполнения блока кода\n",
    "```"
   ]
  },
  {
   "cell_type": "markdown",
   "id": "e8fa5078-0059-488d-aff1-495c76d3b593",
   "metadata": {},
   "source": [
    "#### Обработка исключений внутри менеджера контекста\n",
    "\n",
    "Даже если в блоке кода возникает исключение, файл все равно будет закрыт благодаря менеджеру контекста."
   ]
  },
  {
   "cell_type": "markdown",
   "id": "3b92a287-1c72-43c8-8f03-e5d1df9dca67",
   "metadata": {},
   "source": [
    "```python\n",
    "try:\n",
    "    with open('example.txt', 'w') as file:\n",
    "        file.write('Привет, мир!')\n",
    "        # Искусственно вызываем исключение\n",
    "        raise Exception('Произошла ошибка')\n",
    "        \n",
    "except Exception as e:\n",
    "    # Печать сообщения об ошибке\n",
    "    print(f\"Произошло исключение: {e}\")\n",
    "    \n",
    "# Файл 'example.txt' будет закрыт несмотря на возникшее исключение\n",
    "```"
   ]
  },
  {
   "cell_type": "markdown",
   "id": "766e694a-0cb2-401c-bc4f-acc0159907e9",
   "metadata": {},
   "source": [
    "#### Пример использования менеджера контекста с базой данных\n",
    "\n",
    "Менеджеры контекста полезны не только для работы с файлами, но и с другими ресурсами, например, соединениями с базами данных."
   ]
  },
  {
   "cell_type": "markdown",
   "id": "c4415e3d-f8b2-4d67-b973-a2ecf87bcc1b",
   "metadata": {},
   "source": [
    "```python\n",
    "# Предположим, у нас есть объект database_connection\n",
    "with database_connection as conn:\n",
    "    # Выполняем запросы к базе данных\n",
    "    cursor = conn.cursor()\n",
    "    cursor.execute(\"SELECT * FROM users\")\n",
    "    rows = cursor.fetchall()\n",
    "    for row in rows:\n",
    "        print(row)\n",
    "\n",
    "# Соединение с базой данных будет закрыто после выхода из блока with\n",
    "```"
   ]
  },
  {
   "cell_type": "markdown",
   "id": "21ddf470-e6ab-4bb8-a1ff-1569b93986b6",
   "metadata": {},
   "source": [
    "#### Пример записи в файл с использованием менеджера контекста"
   ]
  },
  {
   "cell_type": "markdown",
   "id": "2d173d59-2b9c-4a8f-9bf6-10fd60e620c7",
   "metadata": {},
   "source": [
    "```python\n",
    "# Открытие файла в режиме добавления ('a'), чтобы данные дописывались в конец файла\n",
    "with open(\"file.txt\", \"a\", encoding=\"utf-8\") as file:\n",
    "    # Добавление текста с новой строкой\n",
    "    file.write(\"something\\n\")\n",
    "    # Добавление еще одного фрагмента текста без переноса строки\n",
    "    file.write(\"что-то\")\n",
    "\n",
    "# Сообщение об успешном завершении операции\n",
    "print(\"Запись в файл завершена успешно!\")\n",
    "```"
   ]
  },
  {
   "cell_type": "markdown",
   "id": "8f46ed5f-f62f-4263-a3ba-822bd88276e5",
   "metadata": {},
   "source": [
    "#### Преимущества использования менеджеров контекста\n",
    "\n",
    "Использование менеджера контекста упрощает код и делает его более безопасным и читабельным. Вам не нужно вручную вызывать методы закрытия ресурсов (`close()` для файлов, `disconnect()` для соединений с БД и т.п.), так как это делается автоматически."
   ]
  },
  {
   "cell_type": "markdown",
   "id": "a1949e87-ae0e-4d65-9040-8adc8df2bc6f",
   "metadata": {},
   "source": [
    "### Улучшение кода с помощью docstrings\n",
    "\n",
    "Docstrings используются для документирования функций, классов и методов. Они помогают другим разработчикам понять назначение и работу кода.\n",
    "\n",
    "Пример функции с docstring:"
   ]
  },
  {
   "cell_type": "markdown",
   "id": "fe15397d-b767-4c75-8e82-90656541f71c",
   "metadata": {},
   "source": [
    "```python\n",
    "def write_to_file(filename, text):\n",
    "    \"\"\"\n",
    "    Функция записывает текст в указанный файл.\n",
    "    \n",
    "    :param filename: Имя файла, в который необходимо записать текст\n",
    "    :type filename: str\n",
    "    :param text: Текст, который нужно записать в файл\n",
    "    :type text: str\n",
    "    :return: None\n",
    "    \"\"\"\n",
    "    with open(filename, \"a\", encoding=\"utf-8\") as file:\n",
    "        file.write(text + \"\\n\")\n",
    "```\n",
    "Теперь, если кто-то захочет использовать эту функцию, он сможет легко узнать её параметры и поведение, просто прочитав docstring."
   ]
  },
  {
   "cell_type": "markdown",
   "id": "0b418356-3e34-45c6-8fed-a026ac5814bc",
   "metadata": {},
   "source": [
    "### Итоговый пример с комментариями и docstrings"
   ]
  },
  {
   "cell_type": "markdown",
   "id": "cb39d7a6-27dc-4331-83a5-267d2cfaba09",
   "metadata": {},
   "source": [
    "```python\n",
    "def read_from_file(filename):\n",
    "    \"\"\"\n",
    "    Читает содержимое указанного файла и возвращает его.\n",
    "    \n",
    "    :param filename: Имя файла, из которого нужно прочитать данные\n",
    "    :type filename: str\n",
    "    :return: Содержимое файла\n",
    "    :rtype: str\n",
    "    \"\"\"\n",
    "    with open(filename, \"r\", encoding=\"utf-8\") as file:\n",
    "        return file.read()\n",
    "\n",
    "def main():\n",
    "    # Чтение содержимого файла\n",
    "    content = read_from_file(\"input.txt\")\n",
    "    print(content)\n",
    "    \n",
    "    # Запись нового содержимого в другой файл\n",
    "    write_to_file(\"output.txt\", f\"Новое содержание: {content}\")\n",
    "\n",
    "if __name__ == \"__mai..."
   ]
  }
 ],
 "metadata": {
  "kernelspec": {
   "display_name": "Python 3 (ipykernel)",
   "language": "python",
   "name": "python3"
  },
  "language_info": {
   "codemirror_mode": {
    "name": "ipython",
    "version": 3
   },
   "file_extension": ".py",
   "mimetype": "text/x-python",
   "name": "python",
   "nbconvert_exporter": "python",
   "pygments_lexer": "ipython3",
   "version": "3.11.5"
  }
 },
 "nbformat": 4,
 "nbformat_minor": 5
}
